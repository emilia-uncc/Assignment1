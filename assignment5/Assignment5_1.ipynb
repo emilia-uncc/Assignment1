{
  "nbformat": 4,
  "nbformat_minor": 0,
  "metadata": {
    "colab": {
      "provenance": [],
      "authorship_tag": "ABX9TyOty98yMkJ69mKJg4pKwL+d",
      "include_colab_link": true
    },
    "kernelspec": {
      "name": "python3",
      "display_name": "Python 3"
    },
    "language_info": {
      "name": "python"
    }
  },
  "cells": [
    {
      "cell_type": "markdown",
      "metadata": {
        "id": "view-in-github",
        "colab_type": "text"
      },
      "source": [
        "<a href=\"https://colab.research.google.com/github/emilia-uncc/IntroML/blob/main/assignment5/Assignment5_1.ipynb\" target=\"_parent\"><img src=\"https://colab.research.google.com/assets/colab-badge.svg\" alt=\"Open In Colab\"/></a>"
      ]
    },
    {
      "cell_type": "code",
      "execution_count": 52,
      "metadata": {
        "id": "ilG5jZvtj6H0",
        "colab": {
          "base_uri": "https://localhost:8080/"
        },
        "outputId": "7c4ecd95-b422-4175-816a-b983a20de803"
      },
      "outputs": [
        {
          "output_type": "stream",
          "name": "stdout",
          "text": [
            "tensor([ 3,  1,  7,  0,  9,  6, 10,  8,  4]) tensor([2, 5])\n"
          ]
        }
      ],
      "source": [
        "import torch\n",
        "import torch.optim as optim\n",
        "import matplotlib.pyplot as plt\n",
        "import numpy as np\n",
        "\n",
        "#arrays into tensors\n",
        "t_c = torch.tensor([0.5, 14.0, 15.0, 28.0, 11.0, 8.0, 3.0, -4.0, 6.0, 13.0, 21.0])\n",
        "t_u = torch.tensor([35.7, 55.9, 58.2, 81.9, 56.3, 48.9, 33.9, 21.8, 48.4, 60.4, 68.4])\n",
        "t_un = 0.1 * t_u\n",
        "\n",
        "#splitting training and validation set\n",
        "n_samples = t_u.shape[0]\n",
        "n_val = int(0.2*n_samples)\n",
        "\n",
        "shuffled_indices = torch.randperm(n_samples)\n",
        "\n",
        "train_indices = shuffled_indices[:-n_val]\n",
        "val_indices = shuffled_indices[-n_val:]\n",
        "\n",
        "print(train_indices, val_indices)\n",
        "\n",
        "\n",
        "train_t_u = t_u[train_indices]\n",
        "train_t_c = t_c[train_indices]\n",
        "\n",
        "val_t_u = t_u[val_indices]\n",
        "val_t_c = t_c[val_indices]\n",
        "\n",
        "train_t_un = 0.1*train_t_u\n",
        "val_t_un= 0.1 * val_t_u\n"
      ]
    },
    {
      "cell_type": "code",
      "source": [
        "#------------------functions general-----------------------------------------\n",
        "\n",
        "#loss calculation, t_p: predicted, t_c: ground truth\n",
        "def loss_fn(t_p, t_c):\n",
        "  squared_diffs = (t_p-t_c)**2\n",
        "  return squared_diffs.mean()#return one value which is the mean value of the differenc tensor\n",
        "\n",
        "\n",
        "#------------------functions non-linear model-------------------------------------\n",
        "def model(t_u, w1, w2, b):\n",
        "  return w2 * t_u ** 2 + w1 * t_u + b\n",
        "\n",
        "#SGD and Adam non linear\n",
        "def training_loop_non_linear(n_epochs, optimizer, params, train_t_u, train_t_c, val_t_u, val_t_c):\n",
        "  losses_non = []\n",
        "  for epoch in range(1, n_epochs +1):\n",
        "    train_t_p = model(train_t_u, *params) #calc output\n",
        "    train_loss = loss_fn(train_t_p, train_t_c) #calc loss\n",
        "\n",
        "    with torch.no_grad():\n",
        "      val_t_p = model(val_t_u, *params)\n",
        "      val_loss = loss_fn(val_t_p, val_t_c)\n",
        "      assert val_loss.requires_grad == False\n",
        "\n",
        "\n",
        "    optimizer.zero_grad() # zero the gradients\n",
        "    train_loss.backward() #calc gradients of the params\n",
        "    optimizer.step() #calc the gradients\n",
        "\n",
        "    if epoch % 500 == 0:\n",
        "      print(f\"Epoch: {epoch}, Train_Loss: {float(train_loss)}, Val_Loss: {float(val_loss)}\")\n",
        "\n",
        "    losses_non.append(train_loss.item())\n",
        "\n",
        "  return params, losses_non\n",
        "\n"
      ],
      "metadata": {
        "id": "sJ9-UsRJj_bs"
      },
      "execution_count": 53,
      "outputs": []
    },
    {
      "cell_type": "code",
      "source": [
        "#training with SGD optimizer, non linear model\n",
        "learning_rates = [0.0001, 0.0003, 0.0005, 0.0008] #higher learning rates give overflow\n",
        "\n",
        "for learning_rate in learning_rates:\n",
        "\n",
        "  params_non_SGD = torch.tensor([1.0,1.0,0.0], requires_grad = True)\n",
        "  optimizer = optim.SGD([params_non_SGD], lr = learning_rate)\n",
        "\n",
        "  params_non_SGD, losses_sgd = training_loop_non_linear(n_epochs = 5000, optimizer = optimizer, params = params_non_SGD, train_t_u = train_t_un, train_t_c = train_t_c,val_t_u = val_t_un, val_t_c = val_t_c )\n",
        "  print(params_non_SGD)"
      ],
      "metadata": {
        "colab": {
          "base_uri": "https://localhost:8080/"
        },
        "id": "AP7x17rhkt3B",
        "outputId": "b0fed11c-7e16-4f32-8ad1-16be7934d70a"
      },
      "execution_count": 57,
      "outputs": [
        {
          "output_type": "stream",
          "name": "stdout",
          "text": [
            "Epoch: 500, Train_Loss: 12.007710456848145, Val_Loss: 2.8404903411865234\n",
            "Epoch: 1000, Train_Loss: 9.368119239807129, Val_Loss: 2.3929171562194824\n",
            "Epoch: 1500, Train_Loss: 7.550633907318115, Val_Loss: 2.2339000701904297\n",
            "Epoch: 2000, Train_Loss: 6.298811912536621, Val_Loss: 2.2476892471313477\n",
            "Epoch: 2500, Train_Loss: 5.436212539672852, Val_Loss: 2.3590502738952637\n",
            "Epoch: 3000, Train_Loss: 4.841432571411133, Val_Loss: 2.5198705196380615\n",
            "Epoch: 3500, Train_Loss: 4.430927753448486, Val_Loss: 2.700061559677124\n",
            "Epoch: 4000, Train_Loss: 4.147226810455322, Val_Loss: 2.8814544677734375\n",
            "Epoch: 4500, Train_Loss: 3.9507741928100586, Val_Loss: 3.053581953048706\n",
            "Epoch: 5000, Train_Loss: 3.814361572265625, Val_Loss: 3.2110302448272705\n",
            "tensor([-1.0445,  0.5763, -0.9586], requires_grad=True)\n",
            "Epoch: 500, Train_Loss: 7.554956912994385, Val_Loss: 2.2340667247772217\n",
            "Epoch: 1000, Train_Loss: 4.842304229736328, Val_Loss: 2.5195722579956055\n",
            "Epoch: 1500, Train_Loss: 3.950892210006714, Val_Loss: 3.053496837615967\n",
            "Epoch: 2000, Train_Loss: 3.652585029602051, Val_Loss: 3.4744699001312256\n",
            "Epoch: 2500, Train_Loss: 3.5474793910980225, Val_Loss: 3.7483389377593994\n",
            "Epoch: 3000, Train_Loss: 3.505357503890991, Val_Loss: 3.9115447998046875\n",
            "Epoch: 3500, Train_Loss: 3.483813524246216, Val_Loss: 4.0030012130737305\n",
            "Epoch: 4000, Train_Loss: 3.469043731689453, Val_Loss: 4.050798416137695\n",
            "Epoch: 4500, Train_Loss: 3.4565467834472656, Val_Loss: 4.072842121124268\n",
            "Epoch: 5000, Train_Loss: 3.4448628425598145, Val_Loss: 4.079969882965088\n",
            "tensor([-1.2941,  0.6241, -1.3609], requires_grad=True)\n",
            "Epoch: 500, Train_Loss: 5.439267635345459, Val_Loss: 2.358454465866089\n",
            "Epoch: 1000, Train_Loss: 3.8144493103027344, Val_Loss: 3.210973024368286\n",
            "Epoch: 1500, Train_Loss: 3.547468662261963, Val_Loss: 3.748476505279541\n",
            "Epoch: 2000, Train_Loss: 3.489858865737915, Val_Loss: 3.9786376953125\n",
            "Epoch: 2500, Train_Loss: 3.46474289894104, Val_Loss: 4.060437202453613\n",
            "Epoch: 3000, Train_Loss: 3.4448771476745605, Val_Loss: 4.080026149749756\n",
            "Epoch: 3500, Train_Loss: 3.426056146621704, Val_Loss: 4.074761390686035\n",
            "Epoch: 4000, Train_Loss: 3.4076383113861084, Val_Loss: 4.059813976287842\n",
            "Epoch: 4500, Train_Loss: 3.3895103931427, Val_Loss: 4.041222095489502\n",
            "Epoch: 5000, Train_Loss: 3.3716611862182617, Val_Loss: 4.021347522735596\n",
            "tensor([-1.2019,  0.6163, -1.6150], requires_grad=True)\n",
            "Epoch: 500, Train_Loss: 4.148097991943359, Val_Loss: 2.8816072940826416\n",
            "Epoch: 1000, Train_Loss: 3.5294814109802246, Val_Loss: 3.813270092010498\n",
            "Epoch: 1500, Train_Loss: 3.4690730571746826, Val_Loss: 4.051031589508057\n",
            "Epoch: 2000, Train_Loss: 3.4373066425323486, Val_Loss: 4.079811096191406\n",
            "Epoch: 2500, Train_Loss: 3.4076597690582275, Val_Loss: 4.059881687164307\n",
            "Epoch: 3000, Train_Loss: 3.378791093826294, Val_Loss: 4.029382228851318\n",
            "Epoch: 3500, Train_Loss: 3.3506174087524414, Val_Loss: 3.997049570083618\n",
            "Epoch: 4000, Train_Loss: 3.323115587234497, Val_Loss: 3.964679002761841\n",
            "Epoch: 4500, Train_Loss: 3.2962734699249268, Val_Loss: 3.9327633380889893\n",
            "Epoch: 5000, Train_Loss: 3.270073890686035, Val_Loss: 3.9013595581054688\n",
            "tensor([-1.0568,  0.6031, -1.9771], requires_grad=True)\n"
          ]
        }
      ]
    },
    {
      "cell_type": "code",
      "source": [
        "#training with Adam optimizer, non linear model\n",
        "learning_rates = [0.01, 0.008,0.003, 0.001]\n",
        "for learning_rate in learning_rates:\n",
        "  params_non_adam = torch.tensor([1.0,1.0,0.0], requires_grad = True)\n",
        "  optimizer = optim.Adam([params_non_adam], lr = learning_rate)\n",
        "\n",
        "  params_non_adam, losses_adam = training_loop_non_linear(n_epochs = 5000, optimizer = optimizer, params = params_non_adam, train_t_u = train_t_u, train_t_c = train_t_c, val_t_u = val_t_u, val_t_c = val_t_c)\n",
        "  print(params_non_adam)"
      ],
      "metadata": {
        "colab": {
          "base_uri": "https://localhost:8080/"
        },
        "id": "yn5FWvcdnHIO",
        "outputId": "63a43c72-1917-4f9f-ec98-8a0669a70ab3"
      },
      "execution_count": 74,
      "outputs": [
        {
          "output_type": "stream",
          "name": "stdout",
          "text": [
            "Epoch: 500, Train_Loss: 6.982397079467773, Val_Loss: 2.1747772693634033\n",
            "Epoch: 1000, Train_Loss: 6.80633544921875, Val_Loss: 2.171820878982544\n",
            "Epoch: 1500, Train_Loss: 6.559082508087158, Val_Loss: 2.172175884246826\n",
            "Epoch: 2000, Train_Loss: 6.246808052062988, Val_Loss: 2.181090831756592\n",
            "Epoch: 2500, Train_Loss: 5.877593517303467, Val_Loss: 2.2059214115142822\n",
            "Epoch: 3000, Train_Loss: 5.465092658996582, Val_Loss: 2.2562999725341797\n",
            "Epoch: 3500, Train_Loss: 5.03057861328125, Val_Loss: 2.343471050262451\n",
            "Epoch: 4000, Train_Loss: 4.602889537811279, Val_Loss: 2.47823429107666\n",
            "Epoch: 4500, Train_Loss: 4.215155601501465, Val_Loss: 2.666996955871582\n",
            "Epoch: 5000, Train_Loss: 3.897714853286743, Val_Loss: 2.9065210819244385\n",
            "tensor([-0.0806,  0.0055, -1.2609], requires_grad=True)\n",
            "Epoch: 500, Train_Loss: 7.007838726043701, Val_Loss: 2.1690263748168945\n",
            "Epoch: 1000, Train_Loss: 6.8812642097473145, Val_Loss: 2.1727728843688965\n",
            "Epoch: 1500, Train_Loss: 6.700258255004883, Val_Loss: 2.1713013648986816\n",
            "Epoch: 2000, Train_Loss: 6.465562343597412, Val_Loss: 2.1738009452819824\n",
            "Epoch: 2500, Train_Loss: 6.177999496459961, Val_Loss: 2.1844635009765625\n",
            "Epoch: 3000, Train_Loss: 5.841226577758789, Val_Loss: 2.2093188762664795\n",
            "Epoch: 3500, Train_Loss: 5.464008808135986, Val_Loss: 2.256472587585449\n",
            "Epoch: 4000, Train_Loss: 5.062010288238525, Val_Loss: 2.3357248306274414\n",
            "Epoch: 4500, Train_Loss: 4.6583709716796875, Val_Loss: 2.4571995735168457\n",
            "Epoch: 5000, Train_Loss: 4.281837463378906, Val_Loss: 2.6282904148101807\n",
            "tensor([-0.0642,  0.0052, -1.2046], requires_grad=True)\n",
            "Epoch: 500, Train_Loss: 110123.3125, Val_Loss: 78548.3984375\n",
            "Epoch: 1000, Train_Loss: 20.655000686645508, Val_Loss: 8.123913764953613\n",
            "Epoch: 1500, Train_Loss: 6.986447811126709, Val_Loss: 2.171746253967285\n",
            "Epoch: 2000, Train_Loss: 6.929348468780518, Val_Loss: 2.173628807067871\n",
            "Epoch: 2500, Train_Loss: 6.854477405548096, Val_Loss: 2.172382354736328\n",
            "Epoch: 3000, Train_Loss: 6.758554458618164, Val_Loss: 2.1714653968811035\n",
            "Epoch: 3500, Train_Loss: 6.637744426727295, Val_Loss: 2.1714627742767334\n",
            "Epoch: 4000, Train_Loss: 6.487861633300781, Val_Loss: 2.1733391284942627\n",
            "Epoch: 4500, Train_Loss: 6.304780960083008, Val_Loss: 2.178663492202759\n",
            "Epoch: 5000, Train_Loss: 6.085059642791748, Val_Loss: 2.189894199371338\n",
            "tensor([-0.0152,  0.0044, -1.0524], requires_grad=True)\n",
            "Epoch: 500, Train_Loss: 3867956.5, Val_Loss: 2768956.5\n",
            "Epoch: 1000, Train_Loss: 810710.0625, Val_Loss: 579861.25\n",
            "Epoch: 1500, Train_Loss: 94939.671875, Val_Loss: 67695.2265625\n",
            "Epoch: 2000, Train_Loss: 5054.34423828125, Val_Loss: 3544.994140625\n",
            "Epoch: 2500, Train_Loss: 103.95350646972656, Val_Loss: 61.451602935791016\n",
            "Epoch: 3000, Train_Loss: 7.519765853881836, Val_Loss: 1.8005516529083252\n",
            "Epoch: 3500, Train_Loss: 6.994453430175781, Val_Loss: 2.1526403427124023\n",
            "Epoch: 4000, Train_Loss: 6.965523719787598, Val_Loss: 2.1741719245910645\n",
            "Epoch: 4500, Train_Loss: 6.929150104522705, Val_Loss: 2.1736245155334473\n",
            "Epoch: 5000, Train_Loss: 6.882857322692871, Val_Loss: 2.1727960109710693\n",
            "tensor([ 7.7786e-04,  4.1741e-03, -1.0056e+00], requires_grad=True)\n"
          ]
        }
      ]
    },
    {
      "cell_type": "code",
      "source": [
        "#predicted final values with learning rate 0.1 and Adam optimizer\n",
        "t_p = model(t_u, *params_non_adam)\n",
        "#plot\n",
        "fig = plt.figure()\n",
        "plt.xlabel(\"Temperature (°Fahrenheit)\")\n",
        "plt.ylabel(\"Temperature (°Celsius)\")\n",
        "plt.plot(t_u.numpy(), t_p.detach().numpy(), '+')\n",
        "plt.plot(t_u.numpy(), t_c.numpy(), 'o')"
      ],
      "metadata": {
        "id": "hkGdMHMkvbXJ",
        "colab": {
          "base_uri": "https://localhost:8080/",
          "height": 466
        },
        "outputId": "533b52fa-a814-4197-d2fb-b6b0991e31dc"
      },
      "execution_count": 75,
      "outputs": [
        {
          "output_type": "execute_result",
          "data": {
            "text/plain": [
              "[<matplotlib.lines.Line2D at 0x785c33051f60>]"
            ]
          },
          "metadata": {},
          "execution_count": 75
        },
        {
          "output_type": "display_data",
          "data": {
            "text/plain": [
              "<Figure size 640x480 with 1 Axes>"
            ],
            "image/png": "[encoded data removed]"
          },
          "metadata": {}
        }
      ]
    },
    {
      "cell_type": "code",
      "source": [
        "\n",
        "#------------------functions linear model-------------------------------------\n",
        "#linear model\n",
        "def model_lin(t_u, w, b):\n",
        "  return w*t_u +b\n",
        "\n",
        "#SGD and Adam  linear\n",
        "def training_loop_linear(n_epochs, optimizer, params, train_t_u, train_t_c, val_t_u, val_t_c):\n",
        "  losses = []\n",
        "  for epoch in range(1, n_epochs +1):\n",
        "    train_t_p = model_lin(train_t_u, *params) #calc output\n",
        "    train_loss = loss_fn(train_t_p, train_t_c) #calc loss\n",
        "\n",
        "    with torch.no_grad():\n",
        "      val_t_p = model_lin(val_t_u, *params)\n",
        "      val_loss = loss_fn(val_t_p, val_t_c)\n",
        "      assert val_loss.requires_grad == False\n",
        "\n",
        "\n",
        "    optimizer.zero_grad() # zero the gradients\n",
        "    train_loss.backward() #calc gradients of the params\n",
        "    optimizer.step() #calc the gradients\n",
        "\n",
        "    if epoch % 500 == 0:\n",
        "      print(f\"Epoch: {epoch}, Train_Loss: {float(train_loss)}, Val_Loss: {float(val_loss)}\")\n",
        "\n",
        "    losses.append(train_loss.item())\n",
        "\n",
        "  return params, losses"
      ],
      "metadata": {
        "id": "9b0r3TT3AD1o"
      },
      "execution_count": 76,
      "outputs": []
    },
    {
      "cell_type": "code",
      "source": [
        "#training with Adam optimizer, linear model\n",
        "learning_rates = [0.1,0.05, 0.08, 0.01]\n",
        "for learning_rate in learning_rates:\n",
        "  params_adam = torch.tensor([1.0,0.0], requires_grad = True)\n",
        "  optimizer = optim.Adam([params_adam], lr = learning_rate)\n",
        "\n",
        "  params_adam, losses_adam = training_loop_linear(n_epochs = 5000, optimizer = optimizer, params = params_adam, train_t_u = train_t_u, train_t_c = train_t_c, val_t_u = val_t_u, val_t_c = val_t_c)\n",
        "  print(params_adam)"
      ],
      "metadata": {
        "colab": {
          "base_uri": "https://localhost:8080/"
        },
        "id": "R1zjbGGbG-sn",
        "outputId": "7e565a66-7c69-4059-9a59-2840f0b3daa5"
      },
      "execution_count": 77,
      "outputs": [
        {
          "output_type": "stream",
          "name": "stdout",
          "text": [
            "Epoch: 500, Train_Loss: 7.332756996154785, Val_Loss: 2.41652512550354\n",
            "Epoch: 1000, Train_Loss: 3.4186689853668213, Val_Loss: 1.1800899505615234\n",
            "Epoch: 1500, Train_Loss: 3.3496921062469482, Val_Loss: 1.0528676509857178\n",
            "Epoch: 2000, Train_Loss: 3.34954833984375, Val_Loss: 1.0472116470336914\n",
            "Epoch: 2500, Train_Loss: 3.3495495319366455, Val_Loss: 1.0471562147140503\n",
            "Epoch: 3000, Train_Loss: 3.34954833984375, Val_Loss: 1.047152042388916\n",
            "Epoch: 3500, Train_Loss: 3.349547863006592, Val_Loss: 1.0471481084823608\n",
            "Epoch: 4000, Train_Loss: 3.349547863006592, Val_Loss: 1.0471465587615967\n",
            "Epoch: 4500, Train_Loss: 3.3495492935180664, Val_Loss: 1.0471465587615967\n",
            "Epoch: 5000, Train_Loss: 3.34954833984375, Val_Loss: 1.047144889831543\n",
            "tensor([  0.5333, -17.1409], requires_grad=True)\n",
            "Epoch: 500, Train_Loss: 16.21048355102539, Val_Loss: 4.10201358795166\n",
            "Epoch: 1000, Train_Loss: 5.992650032043457, Val_Loss: 2.100090980529785\n",
            "Epoch: 1500, Train_Loss: 3.601935386657715, Val_Loss: 1.3136966228485107\n",
            "Epoch: 2000, Train_Loss: 3.3591737747192383, Val_Loss: 1.0950608253479004\n",
            "Epoch: 2500, Train_Loss: 3.349665880203247, Val_Loss: 1.0523191690444946\n",
            "Epoch: 3000, Train_Loss: 3.34954833984375, Val_Loss: 1.0474183559417725\n",
            "Epoch: 3500, Train_Loss: 3.349548101425171, Val_Loss: 1.0471619367599487\n",
            "Epoch: 4000, Train_Loss: 3.3495476245880127, Val_Loss: 1.0471558570861816\n",
            "Epoch: 4500, Train_Loss: 3.3495500087738037, Val_Loss: 1.0471540689468384\n",
            "Epoch: 5000, Train_Loss: 3.349548816680908, Val_Loss: 1.0471522808074951\n",
            "tensor([  0.5333, -17.1409], requires_grad=True)\n",
            "Epoch: 500, Train_Loss: 9.812155723571777, Val_Loss: 2.9361050128936768\n",
            "Epoch: 1000, Train_Loss: 3.665565013885498, Val_Loss: 1.3489274978637695\n",
            "Epoch: 1500, Train_Loss: 3.352834463119507, Val_Loss: 1.0749036073684692\n",
            "Epoch: 2000, Train_Loss: 3.3495535850524902, Val_Loss: 1.0482463836669922\n",
            "Epoch: 2500, Train_Loss: 3.3495473861694336, Val_Loss: 1.0471556186676025\n",
            "Epoch: 3000, Train_Loss: 3.34954833984375, Val_Loss: 1.0471534729003906\n",
            "Epoch: 3500, Train_Loss: 3.34954833984375, Val_Loss: 1.047152042388916\n",
            "Epoch: 4000, Train_Loss: 3.3495466709136963, Val_Loss: 1.0471487045288086\n",
            "Epoch: 4500, Train_Loss: 3.349547863006592, Val_Loss: 1.0471487045288086\n",
            "Epoch: 5000, Train_Loss: 3.3495492935180664, Val_Loss: 1.0471465587615967\n",
            "tensor([  0.5333, -17.1409], requires_grad=True)\n",
            "Epoch: 500, Train_Loss: 29.627506256103516, Val_Loss: 6.235486030578613\n",
            "Epoch: 1000, Train_Loss: 26.0393009185791, Val_Loss: 5.689120292663574\n",
            "Epoch: 1500, Train_Loss: 21.670085906982422, Val_Loss: 5.003701210021973\n",
            "Epoch: 2000, Train_Loss: 17.11334991455078, Val_Loss: 4.256686210632324\n",
            "Epoch: 2500, Train_Loss: 12.877419471740723, Val_Loss: 3.5173282623291016\n",
            "Epoch: 3000, Train_Loss: 9.339238166809082, Val_Loss: 2.8426260948181152\n",
            "Epoch: 3500, Train_Loss: 6.698113918304443, Val_Loss: 2.271711587905884\n",
            "Epoch: 4000, Train_Loss: 4.9650726318359375, Val_Loss: 1.8234994411468506\n",
            "Epoch: 4500, Train_Loss: 3.9941837787628174, Val_Loss: 1.498258113861084\n",
            "Epoch: 5000, Train_Loss: 3.550187349319458, Val_Loss: 1.28218412399292\n",
            "tensor([  0.5092, -15.7586], requires_grad=True)\n"
          ]
        }
      ]
    },
    {
      "cell_type": "code",
      "source": [
        "#predicted final values with learning rate 0.1 and Adam optimizer\n",
        "t_p_non = model(t_u, *params_non_adam)\n",
        "t_p_lin = model_lin(t_u, *params_adam)\n",
        "#plot\n",
        "fig = plt.figure()\n",
        "plt.xlabel(\"Temperature (°Fahrenheit)\")\n",
        "plt.ylabel(\"Temperature (°Celsius)\")\n",
        "plt.plot(t_u.numpy(), t_p_non.detach().numpy(), '+')\n",
        "plt.plot(t_u.numpy(), t_c.numpy(), 'o')\n",
        "plt.plot(t_u.numpy(), t_p_lin.detach().numpy(), '-')\n"
      ],
      "metadata": {
        "colab": {
          "base_uri": "https://localhost:8080/",
          "height": 466
        },
        "id": "QwxuyspnHwii",
        "outputId": "2ffdad4f-89ce-42d7-9d82-50e5f96e84ff"
      },
      "execution_count": 78,
      "outputs": [
        {
          "output_type": "execute_result",
          "data": {
            "text/plain": [
              "[<matplotlib.lines.Line2D at 0x785c330e8e50>]"
            ]
          },
          "metadata": {},
          "execution_count": 78
        },
        {
          "output_type": "display_data",
          "data": {
            "text/plain": [
              "<Figure size 640x480 with 1 Axes>"
            ],
            "image/png": "[encoded data removed]"
          },
          "metadata": {}
        }
      ]
    }
  ]
}