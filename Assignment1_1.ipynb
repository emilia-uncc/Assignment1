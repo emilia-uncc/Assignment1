{
  "nbformat": 4,
  "nbformat_minor": 0,
  "metadata": {
    "colab": {
      "provenance": [],
      "authorship_tag": "ABX9TyPoXMGIk73ZYwmg8g4DPmlH",
      "include_colab_link": true
    },
    "kernelspec": {
      "name": "python3",
      "display_name": "Python 3"
    },
    "language_info": {
      "name": "python"
    }
  },
  "cells": [
    {
      "cell_type": "markdown",
      "metadata": {
        "id": "view-in-github",
        "colab_type": "text"
      },
      "source": [
        "<a href=\"https://colab.research.google.com/github/emilia-uncc/Assignment1/blob/main/Assignment1_1.ipynb\" target=\"_parent\"><img src=\"https://colab.research.google.com/assets/colab-badge.svg\" alt=\"Open In Colab\"/></a>"
      ]
    },
    {
      "cell_type": "code",
      "execution_count": 43,
      "metadata": {
        "colab": {
          "base_uri": "https://localhost:8080/"
        },
        "id": "0vwQPL7zSWO-",
        "outputId": "498e5efc-1f53-4cc7-f465-68d56d215ad3"
      },
      "outputs": [
        {
          "output_type": "stream",
          "name": "stdout",
          "text": [
            "Drive already mounted at /content/drive; to attempt to forcibly remount, call drive.mount(\"/content/drive\", force_remount=True).\n"
          ]
        }
      ],
      "source": [
        "import numpy as np\n",
        "import pandas as pd\n",
        "import matplotlib.pyplot as plt\n",
        "from google.colab import drive\n",
        "drive.mount('/content/drive')"
      ]
    },
    {
      "cell_type": "code",
      "source": [
        "file_path = '/content/drive/My Drive/DataSets/D3.csv'\n",
        "sample = pd.DataFrame(pd.read_csv(file_path))\n",
        "#sample.head()"
      ],
      "metadata": {
        "id": "Es9DbeBWSr8R"
      },
      "execution_count": 44,
      "outputs": []
    },
    {
      "cell_type": "code",
      "source": [
        "\n",
        "# Separate features and labels\n",
        "X_1 = sample.values[:, 0]  # get input values from first column -- X_1 is a list here\n",
        "X_2 = sample.values[:, 1]  # get input values from first column -- X_2 is a list here\n",
        "X_3 = sample.values[:, 2]  # get input values from first column -- X_3 is a list here\n",
        "Y = sample.values[:, 3]  # get output values from second column -- Y is the list here\n",
        "m = len(Y)  # Number of training examples\n",
        "n = len(X_1)  # Number of training examples\n",
        "\n",
        "\n",
        "# Display first 5 records and the total number of training examples\n",
        "print('X_1 = ', X_1[: 5])\n",
        "print('Y = ', Y[: 5])\n",
        "print('m = ', m)\n",
        "print('n = ', n)"
      ],
      "metadata": {
        "colab": {
          "base_uri": "https://localhost:8080/"
        },
        "id": "kRAa1pFoaOt3",
        "outputId": "9c69fea8-1a5e-4ede-ad6a-6cf8fb217d55"
      },
      "execution_count": 45,
      "outputs": [
        {
          "output_type": "stream",
          "name": "stdout",
          "text": [
            "X_1 =  [0.         0.04040404 0.08080808 0.12121212 0.16161616]\n",
            "Y =  [4.38754501 2.6796499  2.96848981 3.25406475 3.53637472]\n",
            "m =  100\n",
            "n =  100\n"
          ]
        }
      ]
    },
    {
      "cell_type": "code",
      "source": [
        "#print('X_1 = ', X_1[: 100])\n",
        "#print('X_2 = ', X_2[: 100])\n",
        "#print('X_3 = ', X_3[: 100])\n",
        "#print('Y = ', Y[: 100])"
      ],
      "metadata": {
        "id": "ONMKMyKDbkvZ"
      },
      "execution_count": 46,
      "outputs": []
    },
    {
      "cell_type": "code",
      "source": [
        "from IPython.display import display\n",
        "display(sample)"
      ],
      "metadata": {
        "colab": {
          "base_uri": "https://localhost:8080/",
          "height": 423
        },
        "id": "0AzZA55abz1B",
        "outputId": "9543d3d7-8c74-4ad9-bb19-ff5e6c6b0968"
      },
      "execution_count": 47,
      "outputs": [
        {
          "output_type": "display_data",
          "data": {
            "text/plain": [
              "          X1        X2        X3         Y\n",
              "0   0.000000  3.440000  0.440000  4.387545\n",
              "1   0.040404  0.134949  0.888485  2.679650\n",
              "2   0.080808  0.829899  1.336970  2.968490\n",
              "3   0.121212  1.524848  1.785455  3.254065\n",
              "4   0.161616  2.219798  2.233939  3.536375\n",
              "..       ...       ...       ...       ...\n",
              "95  3.838384  1.460202  3.046061 -4.440595\n",
              "96  3.878788  2.155152  3.494545 -4.458663\n",
              "97  3.919192  2.850101  3.943030 -4.479995\n",
              "98  3.959596  3.545051  0.391515 -3.304593\n",
              "99  4.000000  0.240000  0.840000 -5.332455\n",
              "\n",
              "[100 rows x 4 columns]"
            ],
            "text/html": [
              "\n",
              "  <div id=\"df-84229ef0-61ac-46ab-82ad-5bb2bcc5ce49\" class=\"colab-df-container\">\n",
              "    <div>\n",
              "<style scoped>\n",
              "    .dataframe tbody tr th:only-of-type {\n",
              "        vertical-align: middle;\n",
              "    }\n",
              "\n",
              "    .dataframe tbody tr th {\n",
              "        vertical-align: top;\n",
              "    }\n",
              "\n",
              "    .dataframe thead th {\n",
              "        text-align: right;\n",
              "    }\n",
              "</style>\n",
              "<table border=\"1\" class=\"dataframe\">\n",
              "  <thead>\n",
              "    <tr style=\"text-align: right;\">\n",
              "      <th></th>\n",
              "      <th>X1</th>\n",
              "      <th>X2</th>\n",
              "      <th>X3</th>\n",
              "      <th>Y</th>\n",
              "    </tr>\n",
              "  </thead>\n",
              "  <tbody>\n",
              "    <tr>\n",
              "      <th>0</th>\n",
              "      <td>0.000000</td>\n",
              "      <td>3.440000</td>\n",
              "      <td>0.440000</td>\n",
              "      <td>4.387545</td>\n",
              "    </tr>\n",
              "    <tr>\n",
              "      <th>1</th>\n",
              "      <td>0.040404</td>\n",
              "      <td>0.134949</td>\n",
              "      <td>0.888485</td>\n",
              "      <td>2.679650</td>\n",
              "    </tr>\n",
              "    <tr>\n",
              "      <th>2</th>\n",
              "      <td>0.080808</td>\n",
              "      <td>0.829899</td>\n",
              "      <td>1.336970</td>\n",
              "      <td>2.968490</td>\n",
              "    </tr>\n",
              "    <tr>\n",
              "      <th>3</th>\n",
              "      <td>0.121212</td>\n",
              "      <td>1.524848</td>\n",
              "      <td>1.785455</td>\n",
              "      <td>3.254065</td>\n",
              "    </tr>\n",
              "    <tr>\n",
              "      <th>4</th>\n",
              "      <td>0.161616</td>\n",
              "      <td>2.219798</td>\n",
              "      <td>2.233939</td>\n",
              "      <td>3.536375</td>\n",
              "    </tr>\n",
              "    <tr>\n",
              "      <th>...</th>\n",
              "      <td>...</td>\n",
              "      <td>...</td>\n",
              "      <td>...</td>\n",
              "      <td>...</td>\n",
              "    </tr>\n",
              "    <tr>\n",
              "      <th>95</th>\n",
              "      <td>3.838384</td>\n",
              "      <td>1.460202</td>\n",
              "      <td>3.046061</td>\n",
              "      <td>-4.440595</td>\n",
              "    </tr>\n",
              "    <tr>\n",
              "      <th>96</th>\n",
              "      <td>3.878788</td>\n",
              "      <td>2.155152</td>\n",
              "      <td>3.494545</td>\n",
              "      <td>-4.458663</td>\n",
              "    </tr>\n",
              "    <tr>\n",
              "      <th>97</th>\n",
              "      <td>3.919192</td>\n",
              "      <td>2.850101</td>\n",
              "      <td>3.943030</td>\n",
              "      <td>-4.479995</td>\n",
              "    </tr>\n",
              "    <tr>\n",
              "      <th>98</th>\n",
              "      <td>3.959596</td>\n",
              "      <td>3.545051</td>\n",
              "      <td>0.391515</td>\n",
              "      <td>-3.304593</td>\n",
              "    </tr>\n",
              "    <tr>\n",
              "      <th>99</th>\n",
              "      <td>4.000000</td>\n",
              "      <td>0.240000</td>\n",
              "      <td>0.840000</td>\n",
              "      <td>-5.332455</td>\n",
              "    </tr>\n",
              "  </tbody>\n",
              "</table>\n",
              "<p>100 rows × 4 columns</p>\n",
              "</div>\n",
              "    <div class=\"colab-df-buttons\">\n",
              "\n",
              "  <div class=\"colab-df-container\">\n",
              "    <button class=\"colab-df-convert\" onclick=\"convertToInteractive('df-84229ef0-61ac-46ab-82ad-5bb2bcc5ce49')\"\n",
              "            title=\"Convert this dataframe to an interactive table.\"\n",
              "            style=\"display:none;\">\n",
              "\n",
              "  <svg xmlns=\"http://www.w3.org/2000/svg\" height=\"24px\" viewBox=\"0 -960 960 960\">\n",
              "    <path d=\"M120-120v-720h720v720H120Zm60-500h600v-160H180v160Zm220 220h160v-160H400v160Zm0 220h160v-160H400v160ZM180-400h160v-160H180v160Zm440 0h160v-160H620v160ZM180-180h160v-160H180v160Zm440 0h160v-160H620v160Z\"/>\n",
              "  </svg>\n",
              "    </button>\n",
              "\n",
              "  <style>\n",
              "    .colab-df-container {\n",
              "      display:flex;\n",
              "      gap: 12px;\n",
              "    }\n",
              "\n",
              "    .colab-df-convert {\n",
              "      background-color: #E8F0FE;\n",
              "      border: none;\n",
              "      border-radius: 50%;\n",
              "      cursor: pointer;\n",
              "      display: none;\n",
              "      fill: #1967D2;\n",
              "      height: 32px;\n",
              "      padding: 0 0 0 0;\n",
              "      width: 32px;\n",
              "    }\n",
              "\n",
              "    .colab-df-convert:hover {\n",
              "      background-color: #E2EBFA;\n",
              "      box-shadow: 0px 1px 2px rgba(60, 64, 67, 0.3), 0px 1px 3px 1px rgba(60, 64, 67, 0.15);\n",
              "      fill: #174EA6;\n",
              "    }\n",
              "\n",
              "    .colab-df-buttons div {\n",
              "      margin-bottom: 4px;\n",
              "    }\n",
              "\n",
              "    [theme=dark] .colab-df-convert {\n",
              "      background-color: #3B4455;\n",
              "      fill: #D2E3FC;\n",
              "    }\n",
              "\n",
              "    [theme=dark] .colab-df-convert:hover {\n",
              "      background-color: #434B5C;\n",
              "      box-shadow: 0px 1px 3px 1px rgba(0, 0, 0, 0.15);\n",
              "      filter: drop-shadow(0px 1px 2px rgba(0, 0, 0, 0.3));\n",
              "      fill: #FFFFFF;\n",
              "    }\n",
              "  </style>\n",
              "\n",
              "    <script>\n",
              "      const buttonEl =\n",
              "        document.querySelector('#df-84229ef0-61ac-46ab-82ad-5bb2bcc5ce49 button.colab-df-convert');\n",
              "      buttonEl.style.display =\n",
              "        google.colab.kernel.accessAllowed ? 'block' : 'none';\n",
              "\n",
              "      async function convertToInteractive(key) {\n",
              "        const element = document.querySelector('#df-84229ef0-61ac-46ab-82ad-5bb2bcc5ce49');\n",
              "        const dataTable =\n",
              "          await google.colab.kernel.invokeFunction('convertToInteractive',\n",
              "                                                    [key], {});\n",
              "        if (!dataTable) return;\n",
              "\n",
              "        const docLinkHtml = 'Like what you see? Visit the ' +\n",
              "          '<a target=\"_blank\" href=https://colab.research.google.com/notebooks/data_table.ipynb>data table notebook</a>'\n",
              "          + ' to learn more about interactive tables.';\n",
              "        element.innerHTML = '';\n",
              "        dataTable['output_type'] = 'display_data';\n",
              "        await google.colab.output.renderOutput(dataTable, element);\n",
              "        const docLink = document.createElement('div');\n",
              "        docLink.innerHTML = docLinkHtml;\n",
              "        element.appendChild(docLink);\n",
              "      }\n",
              "    </script>\n",
              "  </div>\n",
              "\n",
              "\n",
              "<div id=\"df-9699baf6-7dee-4d6c-a2e2-3034fbdb3678\">\n",
              "  <button class=\"colab-df-quickchart\" onclick=\"quickchart('df-9699baf6-7dee-4d6c-a2e2-3034fbdb3678')\"\n",
              "            title=\"Suggest charts.\"\n",
              "            style=\"display:none;\">\n",
              "\n",
              "<svg xmlns=\"http://www.w3.org/2000/svg\" height=\"24px\"viewBox=\"0 0 24 24\"\n",
              "     width=\"24px\">\n",
              "    <g>\n",
              "        <path d=\"M19 3H5c-1.1 0-2 .9-2 2v14c0 1.1.9 2 2 2h14c1.1 0 2-.9 2-2V5c0-1.1-.9-2-2-2zM9 17H7v-7h2v7zm4 0h-2V7h2v10zm4 0h-2v-4h2v4z\"/>\n",
              "    </g>\n",
              "</svg>\n",
              "  </button>\n",
              "\n",
              "<style>\n",
              "  .colab-df-quickchart {\n",
              "      --bg-color: #E8F0FE;\n",
              "      --fill-color: #1967D2;\n",
              "      --hover-bg-color: #E2EBFA;\n",
              "      --hover-fill-color: #174EA6;\n",
              "      --disabled-fill-color: #AAA;\n",
              "      --disabled-bg-color: #DDD;\n",
              "  }\n",
              "\n",
              "  [theme=dark] .colab-df-quickchart {\n",
              "      --bg-color: #3B4455;\n",
              "      --fill-color: #D2E3FC;\n",
              "      --hover-bg-color: #434B5C;\n",
              "      --hover-fill-color: #FFFFFF;\n",
              "      --disabled-bg-color: #3B4455;\n",
              "      --disabled-fill-color: #666;\n",
              "  }\n",
              "\n",
              "  .colab-df-quickchart {\n",
              "    background-color: var(--bg-color);\n",
              "    border: none;\n",
              "    border-radius: 50%;\n",
              "    cursor: pointer;\n",
              "    display: none;\n",
              "    fill: var(--fill-color);\n",
              "    height: 32px;\n",
              "    padding: 0;\n",
              "    width: 32px;\n",
              "  }\n",
              "\n",
              "  .colab-df-quickchart:hover {\n",
              "    background-color: var(--hover-bg-color);\n",
              "    box-shadow: 0 1px 2px rgba(60, 64, 67, 0.3), 0 1px 3px 1px rgba(60, 64, 67, 0.15);\n",
              "    fill: var(--button-hover-fill-color);\n",
              "  }\n",
              "\n",
              "  .colab-df-quickchart-complete:disabled,\n",
              "  .colab-df-quickchart-complete:disabled:hover {\n",
              "    background-color: var(--disabled-bg-color);\n",
              "    fill: var(--disabled-fill-color);\n",
              "    box-shadow: none;\n",
              "  }\n",
              "\n",
              "  .colab-df-spinner {\n",
              "    border: 2px solid var(--fill-color);\n",
              "    border-color: transparent;\n",
              "    border-bottom-color: var(--fill-color);\n",
              "    animation:\n",
              "      spin 1s steps(1) infinite;\n",
              "  }\n",
              "\n",
              "  @keyframes spin {\n",
              "    0% {\n",
              "      border-color: transparent;\n",
              "      border-bottom-color: var(--fill-color);\n",
              "      border-left-color: var(--fill-color);\n",
              "    }\n",
              "    20% {\n",
              "      border-color: transparent;\n",
              "      border-left-color: var(--fill-color);\n",
              "      border-top-color: var(--fill-color);\n",
              "    }\n",
              "    30% {\n",
              "      border-color: transparent;\n",
              "      border-left-color: var(--fill-color);\n",
              "      border-top-color: var(--fill-color);\n",
              "      border-right-color: var(--fill-color);\n",
              "    }\n",
              "    40% {\n",
              "      border-color: transparent;\n",
              "      border-right-color: var(--fill-color);\n",
              "      border-top-color: var(--fill-color);\n",
              "    }\n",
              "    60% {\n",
              "      border-color: transparent;\n",
              "      border-right-color: var(--fill-color);\n",
              "    }\n",
              "    80% {\n",
              "      border-color: transparent;\n",
              "      border-right-color: var(--fill-color);\n",
              "      border-bottom-color: var(--fill-color);\n",
              "    }\n",
              "    90% {\n",
              "      border-color: transparent;\n",
              "      border-bottom-color: var(--fill-color);\n",
              "    }\n",
              "  }\n",
              "</style>\n",
              "\n",
              "  <script>\n",
              "    async function quickchart(key) {\n",
              "      const quickchartButtonEl =\n",
              "        document.querySelector('#' + key + ' button');\n",
              "      quickchartButtonEl.disabled = true;  // To prevent multiple clicks.\n",
              "      quickchartButtonEl.classList.add('colab-df-spinner');\n",
              "      try {\n",
              "        const charts = await google.colab.kernel.invokeFunction(\n",
              "            'suggestCharts', [key], {});\n",
              "      } catch (error) {\n",
              "        console.error('Error during call to suggestCharts:', error);\n",
              "      }\n",
              "      quickchartButtonEl.classList.remove('colab-df-spinner');\n",
              "      quickchartButtonEl.classList.add('colab-df-quickchart-complete');\n",
              "    }\n",
              "    (() => {\n",
              "      let quickchartButtonEl =\n",
              "        document.querySelector('#df-9699baf6-7dee-4d6c-a2e2-3034fbdb3678 button');\n",
              "      quickchartButtonEl.style.display =\n",
              "        google.colab.kernel.accessAllowed ? 'block' : 'none';\n",
              "    })();\n",
              "  </script>\n",
              "</div>\n",
              "    </div>\n",
              "  </div>\n"
            ]
          },
          "metadata": {}
        }
      ]
    },
    {
      "cell_type": "code",
      "source": [
        "\n",
        "\n",
        "# Create a figure with three subplots in a single row\n",
        "fig, (ax1, ax2, ax3) = plt.subplots(1, 3, figsize=(15, 5))  # Adjust figsize as needed\n",
        "\n",
        "# Plot the first scatter plot on the first subplot\n",
        "ax1.scatter(X_1, Y,color=\"red\", marker='+', label='Scatter 1')\n",
        "ax1.set_title('Scatter Plot X_1')\n",
        "ax1.set_xlabel('X_1')\n",
        "ax1.set_ylabel('Y')\n",
        "ax1.grid(True)\n",
        "ax1.legend()\n",
        "\n",
        "# Plot the first scatter plot on the first subplot\n",
        "ax2.scatter(X_2, Y,color=\"red\", marker='+', label='Scatter 2')\n",
        "ax2.set_title('Scatter Plot X_2')\n",
        "ax2.set_xlabel('X_2')\n",
        "ax2.set_ylabel('Y')\n",
        "ax2.grid(True)\n",
        "ax2.legend()\n",
        "\n",
        "# Plot the first scatter plot on the first subplot\n",
        "ax3.scatter(X_3, Y,color=\"red\", marker='+', label='Scatter 3')\n",
        "ax3.set_title('Scatter Plot X_3')\n",
        "ax3.set_xlabel('X_3')\n",
        "ax3.set_ylabel('Y')\n",
        "ax3.grid(True)\n",
        "ax3.legend()\n",
        "# Optionally, adjust spacing between subplots\n",
        "plt.tight_layout()\n",
        "\n",
        "# Show the plots\n",
        "plt.show()\n",
        "\n",
        "\n"
      ],
      "metadata": {
        "colab": {
          "base_uri": "https://localhost:8080/",
          "height": 380
        },
        "id": "7XjG2CrMb9QS",
        "outputId": "70662a2e-bec6-4358-f664-5fefbf900435"
      },
      "execution_count": 48,
      "outputs": [
        {
          "output_type": "display_data",
          "data": {
            "text/plain": [
              "<Figure size 1500x500 with 3 Axes>"
            ],
            "image/png": "[encoded data removed]"
          },
          "metadata": {}
        }
      ]
    },
    {
      "cell_type": "code",
      "source": [
        "#initalizing X_0 Matrix\n",
        "X_0 = np.ones((m, 1))\n",
        "X_0[:5]"
      ],
      "metadata": {
        "colab": {
          "base_uri": "https://localhost:8080/"
        },
        "id": "15AAi-Mld7tv",
        "outputId": "1c66a17f-8612-4ef1-bf9b-aafe4bc2c682"
      },
      "execution_count": 49,
      "outputs": [
        {
          "output_type": "execute_result",
          "data": {
            "text/plain": [
              "array([[1.],\n",
              "       [1.],\n",
              "       [1.],\n",
              "       [1.],\n",
              "       [1.]])"
            ]
          },
          "metadata": {},
          "execution_count": 49
        }
      ]
    },
    {
      "cell_type": "code",
      "source": [
        "#from array to matrix reshape X_1\n",
        "X_1 = X_1.reshape(m, 1)\n",
        "X_1[:10]"
      ],
      "metadata": {
        "colab": {
          "base_uri": "https://localhost:8080/"
        },
        "id": "skrjgt75eDEn",
        "outputId": "8852f9f8-fbc3-4224-f2dc-b6591d894935"
      },
      "execution_count": 50,
      "outputs": [
        {
          "output_type": "execute_result",
          "data": {
            "text/plain": [
              "array([[0.        ],\n",
              "       [0.04040404],\n",
              "       [0.08080808],\n",
              "       [0.12121212],\n",
              "       [0.16161616],\n",
              "       [0.2020202 ],\n",
              "       [0.24242424],\n",
              "       [0.28282828],\n",
              "       [0.32323232],\n",
              "       [0.36363636]])"
            ]
          },
          "metadata": {},
          "execution_count": 50
        }
      ]
    },
    {
      "cell_type": "code",
      "source": [
        "#from array to matrix reshape X_2\n",
        "X_2 = X_2.reshape(m, 1)\n",
        "X_2[:10]"
      ],
      "metadata": {
        "colab": {
          "base_uri": "https://localhost:8080/"
        },
        "id": "POPW2E5neSRS",
        "outputId": "ba3159f0-ad06-4e6e-aebc-6e34188e7497"
      },
      "execution_count": 51,
      "outputs": [
        {
          "output_type": "execute_result",
          "data": {
            "text/plain": [
              "array([[3.44      ],\n",
              "       [0.1349495 ],\n",
              "       [0.82989899],\n",
              "       [1.52484848],\n",
              "       [2.21979798],\n",
              "       [2.91474747],\n",
              "       [3.60969697],\n",
              "       [0.30464646],\n",
              "       [0.99959596],\n",
              "       [1.69454546]])"
            ]
          },
          "metadata": {},
          "execution_count": 51
        }
      ]
    },
    {
      "cell_type": "code",
      "source": [
        "#from array to matrix reshape\n",
        "X_3 = X_3.reshape(m, 1)\n",
        "X_3[:10]"
      ],
      "metadata": {
        "colab": {
          "base_uri": "https://localhost:8080/"
        },
        "id": "l94MynpReVPf",
        "outputId": "1aa54e12-89a6-4eeb-a3c4-c6a7310be95f"
      },
      "execution_count": 52,
      "outputs": [
        {
          "output_type": "execute_result",
          "data": {
            "text/plain": [
              "array([[0.44      ],\n",
              "       [0.88848485],\n",
              "       [1.3369697 ],\n",
              "       [1.78545454],\n",
              "       [2.23393939],\n",
              "       [2.68242424],\n",
              "       [3.13090909],\n",
              "       [3.57939394],\n",
              "       [0.02787879],\n",
              "       [0.47636364]])"
            ]
          },
          "metadata": {},
          "execution_count": 52
        }
      ]
    },
    {
      "cell_type": "code",
      "source": [
        "X_01 = np.hstack((X_0, X_1))\n",
        "X_01[:5]"
      ],
      "metadata": {
        "colab": {
          "base_uri": "https://localhost:8080/"
        },
        "id": "m0gp4EY7e0do",
        "outputId": "4b07ecdd-a7b9-4789-cc34-362e8254b554"
      },
      "execution_count": 53,
      "outputs": [
        {
          "output_type": "execute_result",
          "data": {
            "text/plain": [
              "array([[1.        , 0.        ],\n",
              "       [1.        , 0.04040404],\n",
              "       [1.        , 0.08080808],\n",
              "       [1.        , 0.12121212],\n",
              "       [1.        , 0.16161616]])"
            ]
          },
          "metadata": {},
          "execution_count": 53
        }
      ]
    },
    {
      "cell_type": "code",
      "source": [
        "X_02 = np.hstack((X_0, X_2))\n",
        "X_02[:5]"
      ],
      "metadata": {
        "colab": {
          "base_uri": "https://localhost:8080/"
        },
        "id": "JIvmtVERfCMw",
        "outputId": "d23861ed-7a94-4bdd-c4ad-7fc8e9ff13b3"
      },
      "execution_count": 54,
      "outputs": [
        {
          "output_type": "execute_result",
          "data": {
            "text/plain": [
              "array([[1.        , 3.44      ],\n",
              "       [1.        , 0.1349495 ],\n",
              "       [1.        , 0.82989899],\n",
              "       [1.        , 1.52484848],\n",
              "       [1.        , 2.21979798]])"
            ]
          },
          "metadata": {},
          "execution_count": 54
        }
      ]
    },
    {
      "cell_type": "code",
      "source": [
        "X_03 = np.hstack((X_0, X_3))\n",
        "X_03[:5]"
      ],
      "metadata": {
        "colab": {
          "base_uri": "https://localhost:8080/"
        },
        "id": "61EtMaeffFSY",
        "outputId": "c159aadc-a470-40ce-8990-0232319ad309"
      },
      "execution_count": 55,
      "outputs": [
        {
          "output_type": "execute_result",
          "data": {
            "text/plain": [
              "array([[1.        , 0.44      ],\n",
              "       [1.        , 0.88848485],\n",
              "       [1.        , 1.3369697 ],\n",
              "       [1.        , 1.78545454],\n",
              "       [1.        , 2.23393939]])"
            ]
          },
          "metadata": {},
          "execution_count": 55
        }
      ]
    },
    {
      "cell_type": "code",
      "source": [
        "theta = np.zeros(2)\n",
        "theta"
      ],
      "metadata": {
        "colab": {
          "base_uri": "https://localhost:8080/"
        },
        "id": "a0Vg4svYfKev",
        "outputId": "2b05752b-f931-483f-c5ab-efc692374bfe"
      },
      "execution_count": 56,
      "outputs": [
        {
          "output_type": "execute_result",
          "data": {
            "text/plain": [
              "array([0., 0.])"
            ]
          },
          "metadata": {},
          "execution_count": 56
        }
      ]
    },
    {
      "cell_type": "code",
      "source": [
        "def compute_cost(X, y, theta):\n",
        "    \"\"\"\n",
        "    Compute cost for linear regression.\n",
        "\n",
        "    Parameters:\n",
        "    X : 2D array where each row represents the training example and each column represent the feature\n",
        "        m = number of training examples\n",
        "        n = number of features (including X_0 column of ones)\n",
        "    y : 1D array of labels/target values for each training example. dimension(m)\n",
        "    theta : 1D array of fitting parameters or weights. Dimension (n)\n",
        "\n",
        "    Returns:\n",
        "    J : Scalar value, the cost\n",
        "    \"\"\"\n",
        "    predictions = X.dot(theta) #x-matrix * theta-matrix -> h(x)\n",
        "    errors = np.subtract(predictions, y)\n",
        "    sqrErrors = np.square(errors)\n",
        "    J = 1 / (2 * m) * np.sum(sqrErrors)\n",
        "    return J"
      ],
      "metadata": {
        "id": "2-fzfJYzftkY"
      },
      "execution_count": 57,
      "outputs": []
    },
    {
      "cell_type": "code",
      "source": [
        "# Lets compute the cost for theta values\n",
        "cost_01 = compute_cost(X_01, Y, theta)\n",
        "cost_02 = compute_cost(X_02, Y, theta)\n",
        "cost_03 = compute_cost(X_03, Y, theta)\n",
        "print('The cost for given values of theta_0 and theta_1 =', cost_01)\n",
        "print('The cost for given values of theta_0 and theta_1 =', cost_02)\n",
        "print('The cost for given values of theta_0 and theta_1 =', cost_03)"
      ],
      "metadata": {
        "colab": {
          "base_uri": "https://localhost:8080/"
        },
        "id": "_Z4NwI6QfuNa",
        "outputId": "025f9717-8dec-45c3-c001-744d78709aca"
      },
      "execution_count": 58,
      "outputs": [
        {
          "output_type": "stream",
          "name": "stdout",
          "text": [
            "The cost for given values of theta_0 and theta_1 = 5.524438459196242\n",
            "The cost for given values of theta_0 and theta_1 = 5.524438459196242\n",
            "The cost for given values of theta_0 and theta_1 = 5.524438459196242\n"
          ]
        }
      ]
    },
    {
      "cell_type": "code",
      "source": [
        "def gradient_descent(X, y, theta, alpha, iterations):\n",
        "    \"\"\"\n",
        "    Compute the optimal parameters using gradient descent for linear regression.\n",
        "\n",
        "    Parameters:\n",
        "    X : 2D array where each row represents the training example and each column represents the feature\n",
        "        m = number of training examples\n",
        "        n = number of features (including X_0 column of ones)\n",
        "    y : 1D array of labels/target values for each training example. dimension(m)\n",
        "    theta : 1D array of fitting parameters or weights. Dimension (n)\n",
        "    alpha : Learning rate (scalar)\n",
        "    iterations : Number of iterations (scalar)\n",
        "\n",
        "    Returns:\n",
        "    theta : Updated values of fitting parameters or weights after 'iterations' iterations. Dimension (n)\n",
        "    cost_history : Array containing the cost for each iteration. Dimension (iterations)\n",
        "    \"\"\"\n",
        "\n",
        "    m = len(y)  # Number of training examples\n",
        "    cost_history = np.zeros(iterations)\n",
        "\n",
        "    for i in range(iterations):\n",
        "        predictions = X.dot(theta)\n",
        "        errors = np.subtract(predictions, y)\n",
        "        sum_delta = (alpha / m) * X.transpose().dot(errors)\n",
        "        theta -= sum_delta\n",
        "        cost_history[i] = compute_cost(X, y, theta)\n",
        "\n",
        "    return theta, cost_history"
      ],
      "metadata": {
        "id": "gEbz9jqqf0PF"
      },
      "execution_count": 59,
      "outputs": []
    },
    {
      "cell_type": "code",
      "source": [
        "theta_01 = [0., 0.]\n",
        "theta_02 = [0., 0.]\n",
        "theta_03 = [0., 0.]\n",
        "iterations_01 = 300\n",
        "iterations_02 = 100\n",
        "iterations_03 = 500\n",
        "alpha_01 = 0.1\n",
        "alpha_02 = 0.1\n",
        "alpha_03 = 0.1"
      ],
      "metadata": {
        "id": "nx6s1oTqf23Q"
      },
      "execution_count": 60,
      "outputs": []
    },
    {
      "cell_type": "code",
      "source": [
        "theta_01, cost_history_01 = gradient_descent(X_01, Y, theta_01, alpha_01, iterations_01)\n",
        "print('Final value of theta_01 =', theta_01)\n",
        "print('cost_history =', cost_history_01)\n",
        "\n",
        "theta_02, cost_history_02 = gradient_descent(X_02, Y, theta_02, alpha_02, iterations_02)\n",
        "print('Final value of theta_02 =', theta_02)\n",
        "print('cost_history =', cost_history_02)\n",
        "\n",
        "theta_03, cost_history_03 = gradient_descent(X_03, Y, theta_03, alpha_03, iterations_03)\n",
        "print('Final value of theta_03 =', theta_03)\n",
        "print('cost_history =', cost_history_03)"
      ],
      "metadata": {
        "colab": {
          "base_uri": "https://localhost:8080/"
        },
        "id": "XwNcVmk0f_WU",
        "outputId": "d9b0ffe3-2d74-4bb3-d2a6-a80507101ff0"
      },
      "execution_count": 61,
      "outputs": [
        {
          "output_type": "stream",
          "name": "stdout",
          "text": [
            "Final value of theta_01 = [ 5.92092354 -2.03560232]\n",
            "cost_history = [5.16999006 4.96338989 4.7855721  4.61848888 4.45916697 4.30689303\n",
            " 4.16130255 4.02209431 3.88898736 3.76171412 3.64001888 3.52365717\n",
            " 3.41239525 3.30600959 3.2042865  3.10702162 3.01401956 2.9250935\n",
            " 2.8400648  2.75876264 2.68102372 2.60669185 2.53561773 2.46765857\n",
            " 2.40267785 2.34054503 2.28113532 2.22432934 2.170013   2.11807718\n",
            " 2.06841755 2.02093435 1.9755322  1.93211988 1.89061019 1.85091975\n",
            " 1.81296882 1.77668116 1.74198388 1.70880727 1.6770847  1.64675243\n",
            " 1.61774953 1.59001774 1.56350135 1.53814709 1.51390403 1.49072347\n",
            " 1.46855885 1.44736563 1.42710125 1.40772499 1.38919794 1.37148287\n",
            " 1.3545442  1.33834789 1.32286143 1.30805369 1.29389492 1.28035669\n",
            " 1.2674118  1.25503425 1.24319917 1.23188278 1.22106236 1.21071616\n",
            " 1.2008234  1.19136421 1.1823196  1.17367137 1.16540218 1.1574954\n",
            " 1.14993515 1.14270624 1.13579415 1.129185   1.1228655  1.11682297\n",
            " 1.11104527 1.10552079 1.10023842 1.09518757 1.09035808 1.08574025\n",
            " 1.08132481 1.07710289 1.07306599 1.06920603 1.06551523 1.06198619\n",
            " 1.05861181 1.05538533 1.05230025 1.04935038 1.0465298  1.04383283\n",
            " 1.04125406 1.03878832 1.03643063 1.03417628 1.03202073 1.02995965\n",
            " 1.02798891 1.02610453 1.02430274 1.02257992 1.0209326  1.01935748\n",
            " 1.01785139 1.01641131 1.01503435 1.01371773 1.01245882 1.01125508\n",
            " 1.01010409 1.00900355 1.00795125 1.00694506 1.00598297 1.00506305\n",
            " 1.00418344 1.00334239 1.0025382  1.00176925 1.001034   1.00033097\n",
            " 0.99965876 0.99901601 0.99840143 0.99781378 0.99725189 0.99671462\n",
            " 0.9962009  0.9957097  0.99524002 0.99479093 0.99436152 0.99395093\n",
            " 0.99355833 0.99318294 0.99282401 0.9924808  0.99215264 0.99183886\n",
            " 0.99153883 0.99125195 0.99097764 0.99071535 0.99046457 0.99022477\n",
            " 0.98999548 0.98977624 0.98956661 0.98936616 0.9891745  0.98899125\n",
            " 0.98881602 0.98864847 0.98848827 0.98833508 0.98818861 0.98804856\n",
            " 0.98791465 0.98778661 0.98766418 0.98754711 0.98743517 0.98732814\n",
            " 0.98722581 0.98712795 0.98703439 0.98694492 0.98685938 0.98677759\n",
            " 0.98669938 0.98662459 0.98655309 0.98648472 0.98641935 0.98635684\n",
            " 0.98629707 0.98623992 0.98618527 0.98613302 0.98608306 0.98603529\n",
            " 0.98598962 0.98594594 0.98590418 0.98586425 0.98582607 0.98578956\n",
            " 0.98575465 0.98572128 0.98568936 0.98565885 0.98562967 0.98560177\n",
            " 0.98557509 0.98554958 0.98552519 0.98550187 0.98547957 0.98545825\n",
            " 0.98543787 0.98541837 0.98539973 0.98538191 0.98536487 0.98534858\n",
            " 0.985333   0.9853181  0.98530385 0.98529023 0.98527721 0.98526476\n",
            " 0.98525285 0.98524147 0.98523058 0.98522017 0.98521022 0.9852007\n",
            " 0.9851916  0.9851829  0.98517458 0.98516663 0.98515902 0.98515175\n",
            " 0.9851448  0.98513815 0.98513179 0.98512571 0.9851199  0.98511434\n",
            " 0.98510903 0.98510394 0.98509909 0.98509444 0.98509    0.98508575\n",
            " 0.98508169 0.98507781 0.98507409 0.98507054 0.98506715 0.9850639\n",
            " 0.9850608  0.98505783 0.98505499 0.98505228 0.98504968 0.9850472\n",
            " 0.98504483 0.98504256 0.98504039 0.98503832 0.98503634 0.98503444\n",
            " 0.98503263 0.9850309  0.98502924 0.98502765 0.98502614 0.98502469\n",
            " 0.98502331 0.98502198 0.98502071 0.9850195  0.98501835 0.98501724\n",
            " 0.98501618 0.98501517 0.9850142  0.98501327 0.98501239 0.98501154\n",
            " 0.98501073 0.98500996 0.98500922 0.98500851 0.98500784 0.98500719\n",
            " 0.98500657 0.98500598 0.98500542 0.98500488 0.98500436 0.98500386\n",
            " 0.98500339 0.98500294 0.98500251 0.98500209 0.9850017  0.98500132\n",
            " 0.98500096 0.98500062 0.98500029 0.98499997 0.98499967 0.98499938]\n",
            "Final value of theta_02 = [0.68810909 0.57627072]\n",
            "cost_history = [3.90731819 3.66528504 3.62832072 3.62197105 3.62022283 3.61919582\n",
            " 3.61830993 3.6174772  3.6166831  3.61592412 3.61519844 3.61450458\n",
            " 3.61384113 3.61320675 3.61260018 3.61202019 3.61146562 3.61093535\n",
            " 3.61042832 3.60994351 3.60947995 3.6090367  3.60861288 3.60820763\n",
            " 3.60782015 3.60744964 3.60709538 3.60675663 3.60643274 3.60612304\n",
            " 3.60582691 3.60554376 3.60527302 3.60501414 3.60476661 3.60452993\n",
            " 3.60430362 3.60408723 3.60388032 3.60368248 3.60349331 3.60331243\n",
            " 3.60313948 3.6029741  3.60281598 3.60266478 3.60252021 3.60238198\n",
            " 3.6022498  3.60212342 3.60200258 3.60188703 3.60177654 3.6016709\n",
            " 3.60156989 3.60147331 3.60138095 3.60129265 3.60120821 3.60112748\n",
            " 3.60105028 3.60097647 3.60090589 3.6008384  3.60077388 3.60071218\n",
            " 3.60065318 3.60059677 3.60054283 3.60049126 3.60044194 3.60039479\n",
            " 3.60034971 3.60030659 3.60026537 3.60022596 3.60018827 3.60015224\n",
            " 3.60011778 3.60008483 3.60005333 3.60002321 3.59999441 3.59996687\n",
            " 3.59994054 3.59991536 3.59989128 3.59986826 3.59984625 3.59982521\n",
            " 3.59980508 3.59978584 3.59976744 3.59974985 3.59973303 3.59971694\n",
            " 3.59970156 3.59968686 3.5996728  3.59965935]\n",
            "Final value of theta_03 = [ 2.8713914  -0.52047074]\n",
            "cost_history = [4.66843939 4.49602325 4.43685075 4.39757676 4.3628731  4.3301743\n",
            " 4.29900486 4.26923359 4.240788   4.21360745 4.18763542 4.16281813\n",
            " 4.13910424 4.11644469 4.09479259 4.07410317 4.05433361 4.03544302\n",
            " 4.01739232 4.00014417 3.98366289 3.96791437 3.95286604 3.93848678\n",
            " 3.92474683 3.91161776 3.89907242 3.88708486 3.87563028 3.86468497\n",
            " 3.8542263  3.84423263 3.83468329 3.82555851 3.81683943 3.80850801\n",
            " 3.80054701 3.79293996 3.78567113 3.77872547 3.77208862 3.76574686\n",
            " 3.75968705 3.75389666 3.74836372 3.74307678 3.7380249  3.73319763\n",
            " 3.72858498 3.72417742 3.71996582 3.71594147 3.71209604 3.70842159\n",
            " 3.7049105  3.70155552 3.69834971 3.69528643 3.69235934 3.6895624\n",
            " 3.68688981 3.68433604 3.68189582 3.67956409 3.67733603 3.67520703\n",
            " 3.67317269 3.67122879 3.66937133 3.66759645 3.66590048 3.66427991\n",
            " 3.6627314  3.66125173 3.65983785 3.65848684 3.65719589 3.65596234\n",
            " 3.65478363 3.65365733 3.6525811  3.65155273 3.65057007 3.64963111\n",
            " 3.64873389 3.64787657 3.64705736 3.64627457 3.64552659 3.64481186\n",
            " 3.64412891 3.64347633 3.64285275 3.64225691 3.64168755 3.64114351\n",
            " 3.64062366 3.64012692 3.63965227 3.63919872 3.63876533 3.63835122\n",
            " 3.63795551 3.6375774  3.6372161  3.63687086 3.63654098 3.63622576\n",
            " 3.63592455 3.63563674 3.63536172 3.63509893 3.63484783 3.63460788\n",
            " 3.63437861 3.63415953 3.63395019 3.63375016 3.63355902 3.63337638\n",
            " 3.63320186 3.6330351  3.63287576 3.63272349 3.632578   3.63243898\n",
            " 3.63230614 3.6321792  3.63205791 3.63194201 3.63183126 3.63172544\n",
            " 3.63162432 3.6315277  3.63143537 3.63134715 3.63126285 3.6311823\n",
            " 3.63110533 3.63103179 3.63096151 3.63089436 3.63083019 3.63076887\n",
            " 3.63071029 3.6306543  3.63060081 3.63054969 3.63050085 3.63045418\n",
            " 3.63040958 3.63036697 3.63032625 3.63028734 3.63025016 3.63021464\n",
            " 3.63018069 3.63014825 3.63011726 3.63008764 3.63005934 3.6300323\n",
            " 3.63000646 3.62998177 3.62995818 3.62993563 3.62991409 3.62989351\n",
            " 3.62987384 3.62985504 3.62983709 3.62981993 3.62980353 3.62978786\n",
            " 3.62977289 3.62975858 3.62974491 3.62973185 3.62971937 3.62970744\n",
            " 3.62969605 3.62968516 3.62967475 3.62966481 3.62965531 3.62964623\n",
            " 3.62963756 3.62962927 3.62962135 3.62961378 3.62960655 3.62959964\n",
            " 3.62959303 3.62958672 3.6295807  3.62957493 3.62956943 3.62956417\n",
            " 3.62955914 3.62955434 3.62954975 3.62954537 3.62954118 3.62953717\n",
            " 3.62953335 3.62952969 3.6295262  3.62952286 3.62951967 3.62951662\n",
            " 3.62951371 3.62951093 3.62950827 3.62950573 3.6295033  3.62950098\n",
            " 3.62949877 3.62949665 3.62949462 3.62949269 3.62949084 3.62948908\n",
            " 3.62948739 3.62948578 3.62948424 3.62948276 3.62948136 3.62948001\n",
            " 3.62947873 3.6294775  3.62947633 3.62947521 3.62947414 3.62947311\n",
            " 3.62947214 3.6294712  3.62947031 3.62946946 3.62946864 3.62946786\n",
            " 3.62946712 3.62946641 3.62946573 3.62946508 3.62946446 3.62946387\n",
            " 3.6294633  3.62946276 3.62946224 3.62946175 3.62946127 3.62946082\n",
            " 3.62946039 3.62945998 3.62945959 3.62945921 3.62945885 3.62945851\n",
            " 3.62945818 3.62945786 3.62945756 3.62945728 3.62945701 3.62945674\n",
            " 3.62945649 3.62945626 3.62945603 3.62945581 3.6294556  3.6294554\n",
            " 3.62945521 3.62945503 3.62945486 3.62945469 3.62945453 3.62945438\n",
            " 3.62945424 3.6294541  3.62945397 3.62945384 3.62945372 3.6294536\n",
            " 3.62945349 3.62945339 3.62945329 3.62945319 3.6294531  3.62945301\n",
            " 3.62945293 3.62945285 3.62945277 3.6294527  3.62945263 3.62945256\n",
            " 3.6294525  3.62945244 3.62945238 3.62945232 3.62945227 3.62945222\n",
            " 3.62945217 3.62945212 3.62945208 3.62945204 3.629452   3.62945196\n",
            " 3.62945192 3.62945188 3.62945185 3.62945182 3.62945179 3.62945176\n",
            " 3.62945173 3.6294517  3.62945168 3.62945165 3.62945163 3.62945161\n",
            " 3.62945159 3.62945156 3.62945155 3.62945153 3.62945151 3.62945149\n",
            " 3.62945148 3.62945146 3.62945144 3.62945143 3.62945142 3.6294514\n",
            " 3.62945139 3.62945138 3.62945137 3.62945136 3.62945135 3.62945134\n",
            " 3.62945133 3.62945132 3.62945131 3.6294513  3.62945129 3.62945129\n",
            " 3.62945128 3.62945127 3.62945127 3.62945126 3.62945125 3.62945125\n",
            " 3.62945124 3.62945124 3.62945123 3.62945123 3.62945122 3.62945122\n",
            " 3.62945121 3.62945121 3.62945121 3.6294512  3.6294512  3.6294512\n",
            " 3.62945119 3.62945119 3.62945119 3.62945118 3.62945118 3.62945118\n",
            " 3.62945118 3.62945117 3.62945117 3.62945117 3.62945117 3.62945117\n",
            " 3.62945116 3.62945116 3.62945116 3.62945116 3.62945116 3.62945116\n",
            " 3.62945115 3.62945115 3.62945115 3.62945115 3.62945115 3.62945115\n",
            " 3.62945115 3.62945115 3.62945115 3.62945114 3.62945114 3.62945114\n",
            " 3.62945114 3.62945114 3.62945114 3.62945114 3.62945114 3.62945114\n",
            " 3.62945114 3.62945114 3.62945114 3.62945114 3.62945114 3.62945114\n",
            " 3.62945113 3.62945113 3.62945113 3.62945113 3.62945113 3.62945113\n",
            " 3.62945113 3.62945113 3.62945113 3.62945113 3.62945113 3.62945113\n",
            " 3.62945113 3.62945113 3.62945113 3.62945113 3.62945113 3.62945113\n",
            " 3.62945113 3.62945113 3.62945113 3.62945113 3.62945113 3.62945113\n",
            " 3.62945113 3.62945113 3.62945113 3.62945113 3.62945113 3.62945113\n",
            " 3.62945113 3.62945113 3.62945113 3.62945113 3.62945113 3.62945113\n",
            " 3.62945113 3.62945113 3.62945113 3.62945113 3.62945113 3.62945113\n",
            " 3.62945113 3.62945113 3.62945113 3.62945113 3.62945113 3.62945113\n",
            " 3.62945113 3.62945113 3.62945113 3.62945113 3.62945113 3.62945113\n",
            " 3.62945113 3.62945113 3.62945113 3.62945113 3.62945113 3.62945113\n",
            " 3.62945113 3.62945113 3.62945113 3.62945113 3.62945113 3.62945113\n",
            " 3.62945113 3.62945113 3.62945113 3.62945113 3.62945113 3.62945113\n",
            " 3.62945112 3.62945112 3.62945112 3.62945112 3.62945112 3.62945112\n",
            " 3.62945112 3.62945112 3.62945112 3.62945112 3.62945112 3.62945112\n",
            " 3.62945112 3.62945112 3.62945112 3.62945112 3.62945112 3.62945112\n",
            " 3.62945112 3.62945112 3.62945112 3.62945112 3.62945112 3.62945112\n",
            " 3.62945112 3.62945112]\n"
          ]
        }
      ]
    },
    {
      "cell_type": "code",
      "source": [
        "# Assuming that X, y, and theta are already defined\n",
        "# Also assuming that X has two columns: a feature column and a column of ones\n",
        "\n",
        "# Scatter plot for the training data\n",
        "#plt.scatter(X_01[:, 1], Y, color='red', marker='+', label='Training Data')\n",
        "\n",
        "# Line plot for the linear regression model\n",
        "#plt.plot(X_01[:, 1], X_01.dot(theta), color='green', label='Linear Regression')\n",
        "\n",
        "# Plot customizations\n",
        "#plt.rcParams[\"figure.figsize\"] = (10, 6)\n",
        "#plt.grid(True)\n",
        "#plt.xlabel('X_01')\n",
        "#plt.ylabel('Y')\n",
        "#plt.title('Linear Regression Fit')\n",
        "#plt.legend()\n",
        "\n",
        "# Show the plot\n",
        "#plt.show()\n",
        "\n",
        "# Create a figure with three subplots in a single row\n",
        "fig, (ax1, ax2, ax3) = plt.subplots(1, 3, figsize=(15, 5))  # Adjust figsize as needed\n",
        "\n",
        "# Plot the first scatter plot on the first subplot\n",
        "ax1.scatter(X_1, Y,color=\"red\", marker='+', label='Scatter 1')\n",
        "ax1.plot(X_01[:, 1], X_01.dot(theta_01), color='green', label='Linear Regression')\n",
        "ax1.set_title('Scatter Plot X_1')\n",
        "ax1.set_xlabel('X_1')\n",
        "ax1.set_ylabel('Y')\n",
        "ax1.grid(True)\n",
        "ax1.legend()\n",
        "\n",
        "# Plot the first scatter plot on the first subplot\n",
        "ax2.scatter(X_2, Y,color=\"red\", marker='+', label='Scatter 2')\n",
        "ax2.plot(X_02[:, 1], X_02.dot(theta_02), color='green', label='Linear Regression')\n",
        "ax2.set_title('Scatter Plot X_2')\n",
        "ax2.set_xlabel('X_2')\n",
        "ax2.set_ylabel('Y')\n",
        "ax2.grid(True)\n",
        "ax2.legend()\n",
        "\n",
        "# Plot the first scatter plot on the first subplot\n",
        "ax3.scatter(X_3, Y,color=\"red\", marker='+', label='Scatter 3')\n",
        "ax3.plot(X_03[:, 1], X_03.dot(theta_03), color='green', label='Linear Regression')\n",
        "ax3.set_title('Scatter Plot X_3')\n",
        "ax3.set_xlabel('X_3')\n",
        "ax3.set_ylabel('Y')\n",
        "ax3.grid(True)\n",
        "ax3.legend()\n",
        "# Optionally, adjust spacing between subplots\n",
        "plt.tight_layout()\n",
        "\n",
        "# Show the plots\n",
        "plt.show()"
      ],
      "metadata": {
        "colab": {
          "base_uri": "https://localhost:8080/",
          "height": 380
        },
        "id": "tjPslYXegGd1",
        "outputId": "f866d90b-5b0c-4163-b7b7-f0c718790e62"
      },
      "execution_count": 62,
      "outputs": [
        {
          "output_type": "display_data",
          "data": {
            "text/plain": [
              "<Figure size 1500x500 with 3 Axes>"
            ],
            "image/png": "[encoded data removed]"
          },
          "metadata": {}
        }
      ]
    },
    {
      "cell_type": "code",
      "source": [
        "#plt.plot(range(1, iterations + 1), cost_history, color='blue')\n",
        "#plt.rcParams[\"figure.figsize\"] = (10, 6)\n",
        "#plt.grid(True)\n",
        "\n",
        "#plt.xlabel('Number of iterations')\n",
        "#plt.ylabel('Cost (J)')\n",
        "#plt.title('Convergence of gradient descent')\n",
        "\n",
        "# Show the plot\n",
        "#plt.show()\n",
        "\n",
        "# Create a figure with three subplots in a single row\n",
        "fig, (ax1, ax2, ax3) = plt.subplots(1, 3, figsize=(15, 5))  # Adjust figsize as needed\n",
        "\n",
        "\n",
        "# Plot the first scatter plot on the first subplot\n",
        "ax1.plot(range(1, iterations_01 + 1), cost_history_01, color='blue')\n",
        "ax1.set_title('Convergence of gradient descent (X1)')\n",
        "ax1.set_xlabel('Number of iterations')\n",
        "ax1.set_ylabel('Cost (J)')\n",
        "tick_values = np.arange(0.5, 5.5, 0.5)  # Customize these values as needed\n",
        "tick_labels = [f'{val:.2f}' for val in tick_values]  # Customize label format as needed\n",
        "\n",
        "# Set the tick locations and labels for the y-axis\n",
        "ax1.set_yticks(tick_values, tick_labels)\n",
        "ax1.grid(True)\n",
        "#ax1.legend()\n",
        "\n",
        "# Plot the first scatter plot on the first subplot\n",
        "ax2.plot(range(1, iterations_02 + 1), cost_history_02, color='blue')\n",
        "ax2.set_title('Convergence of gradient descent (X2)')\n",
        "ax2.set_xlabel('Number of iterations')\n",
        "ax2.set_ylabel('Cost (J)')\n",
        "tick_values = np.arange(3.55, 3.95, 0.05)  # Customize these values as needed\n",
        "tick_labels = [f'{val:.2f}' for val in tick_values]  # Customize label format as needed\n",
        "\n",
        "# Set the tick locations and labels for the y-axis\n",
        "ax2.set_yticks(tick_values, tick_labels)\n",
        "ax2.grid(True)\n",
        "#ax2.legend()\n",
        "\n",
        "# Plot the first scatter plot on the first subplot\n",
        "ax3.plot(range(1, iterations_03 + 1), cost_history_03, color='blue')\n",
        "ax3.set_title('Convergence of gradient descent (X3)')\n",
        "ax3.set_xlabel('Number of iterations')\n",
        "ax3.set_ylabel('Cost (J)')\n",
        "tick_values = np.arange(3.5, 5, 0.1)  # Customize these values as needed\n",
        "tick_labels = [f'{val:.2f}' for val in tick_values]  # Customize label format as needed\n",
        "\n",
        "# Set the tick locations and labels for the y-axis\n",
        "ax3.set_yticks(tick_values, tick_labels)\n",
        "ax3.grid(True)\n",
        "#ax3.legend()\n",
        "# Optionally, adjust spacing between subplots\n",
        "plt.tight_layout()\n",
        "\n",
        "# Show the plots\n",
        "plt.show()"
      ],
      "metadata": {
        "colab": {
          "base_uri": "https://localhost:8080/",
          "height": 380
        },
        "id": "yckHHq81gOMa",
        "outputId": "c12f2ad4-afc2-4db2-a91f-0a7e4cb1d9f8"
      },
      "execution_count": 63,
      "outputs": [
        {
          "output_type": "display_data",
          "data": {
            "text/plain": [
              "<Figure size 1500x500 with 3 Axes>"
            ],
            "image/png": "[encoded data removed]"
          },
          "metadata": {}
        }
      ]
    }
  ]
}