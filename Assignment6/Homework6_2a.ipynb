{
  "nbformat": 4,
  "nbformat_minor": 0,
  "metadata": {
    "colab": {
      "provenance": [],
      "authorship_tag": "ABX9TyPAXw0uCrTyHBYCnYWXool/",
      "include_colab_link": true
    },
    "kernelspec": {
      "name": "python3",
      "display_name": "Python 3"
    },
    "language_info": {
      "name": "python"
    }
  },
  "cells": [
    {
      "cell_type": "markdown",
      "metadata": {
        "id": "view-in-github",
        "colab_type": "text"
      },
      "source": [
        "<a href=\"https://colab.research.google.com/github/emilia-uncc/IntroML/blob/main/Assignment6/Homework6_2a.ipynb\" target=\"_parent\"><img src=\"https://colab.research.google.com/assets/colab-badge.svg\" alt=\"Open In Colab\"/></a>"
      ]
    },
    {
      "cell_type": "code",
      "execution_count": 75,
      "metadata": {
        "colab": {
          "base_uri": "https://localhost:8080/"
        },
        "id": "fhdKksuOfrTr",
        "outputId": "a1de28af-94ba-4310-bf7b-6aac24e31a2d"
      },
      "outputs": [
        {
          "output_type": "stream",
          "name": "stdout",
          "text": [
            "Drive already mounted at /content/drive; to attempt to forcibly remount, call drive.mount(\"/content/drive\", force_remount=True).\n"
          ]
        }
      ],
      "source": [
        "import numpy as np\n",
        "import pandas as pd\n",
        "\n",
        "import matplotlib.pyplot as plt\n",
        "import seaborn as sns\n",
        "\n",
        "from sklearn.model_selection import train_test_split\n",
        "from sklearn.preprocessing import StandardScaler\n",
        "from sklearn.preprocessing import MinMaxScaler\n",
        "\n",
        "import torch\n",
        "import torch.optim as optim\n",
        "import torch.nn as nn\n",
        "from torch.autograd import Variable\n",
        "\n",
        "from torchvision import datasets\n",
        "from torchvision import transforms\n",
        "\n",
        "import datetime\n",
        "\n",
        "#mounting google drive\n",
        "from google.colab import drive\n",
        "drive.mount('/content/drive')"
      ]
    },
    {
      "cell_type": "code",
      "source": [
        "data_path = '/content/drive/My Drive/DataSets/'\n",
        "cifar10 = datasets.CIFAR10(data_path,train=True,download=True, transform=transforms.ToTensor())\n",
        "cifar10_val = datasets.CIFAR10(data_path, train=False, download=True, transform = transforms.ToTensor())\n"
      ],
      "metadata": {
        "colab": {
          "base_uri": "https://localhost:8080/"
        },
        "id": "TBi2v5o_ir8x",
        "outputId": "64ad0171-86c1-4fb6-e5ca-55644e2c1fb4"
      },
      "execution_count": 76,
      "outputs": [
        {
          "output_type": "stream",
          "name": "stdout",
          "text": [
            "Files already downloaded and verified\n",
            "Files already downloaded and verified\n"
          ]
        }
      ]
    },
    {
      "cell_type": "code",
      "source": [
        "len(cifar10)"
      ],
      "metadata": {
        "colab": {
          "base_uri": "https://localhost:8080/"
        },
        "id": "EoOm3G_Hi7Vp",
        "outputId": "ba04e554-f292-4aa2-810c-3373d595ce88"
      },
      "execution_count": 77,
      "outputs": [
        {
          "output_type": "execute_result",
          "data": {
            "text/plain": [
              "50000"
            ]
          },
          "metadata": {},
          "execution_count": 77
        }
      ]
    },
    {
      "cell_type": "code",
      "source": [
        "img_t, _ = cifar10[99]\n",
        "img_t.shape\n",
        "plt.imshow(img_t.permute(1,2,0))"
      ],
      "metadata": {
        "colab": {
          "base_uri": "https://localhost:8080/",
          "height": 447
        },
        "id": "yWjDVskgpIST",
        "outputId": "f41431b8-c8f9-4de3-e778-a6afce78c5a6"
      },
      "execution_count": 78,
      "outputs": [
        {
          "output_type": "execute_result",
          "data": {
            "text/plain": [
              "<matplotlib.image.AxesImage at 0x7a7e27ba1840>"
            ]
          },
          "metadata": {},
          "execution_count": 78
        },
        {
          "output_type": "display_data",
          "data": {
            "text/plain": [
              "<Figure size 640x480 with 1 Axes>"
            ],
            "image/png": "[encoded data removed]"
          },
          "metadata": {}
        }
      ]
    },
    {
      "cell_type": "code",
      "source": [
        "imgs = torch.stack([img_t for img_t, _ in cifar10], dim=3)\n",
        "imgs.shape"
      ],
      "metadata": {
        "colab": {
          "base_uri": "https://localhost:8080/"
        },
        "id": "CqJ5VsvYpZyI",
        "outputId": "fa0dc3ee-b82e-470a-aff8-51bfd4f98b8c"
      },
      "execution_count": 79,
      "outputs": [
        {
          "output_type": "execute_result",
          "data": {
            "text/plain": [
              "torch.Size([3, 32, 32, 50000])"
            ]
          },
          "metadata": {},
          "execution_count": 79
        }
      ]
    },
    {
      "cell_type": "code",
      "source": [
        "imgs.view(3,-1).mean(dim=1)\n",
        "imgs.view(3,-1).std(dim=1)\n"
      ],
      "metadata": {
        "colab": {
          "base_uri": "https://localhost:8080/"
        },
        "id": "1JKtPt-zq_0R",
        "outputId": "d24864fc-ccf3-4d98-d7b8-5835d3d16f6c"
      },
      "execution_count": 80,
      "outputs": [
        {
          "output_type": "execute_result",
          "data": {
            "text/plain": [
              "tensor([0.2470, 0.2435, 0.2616])"
            ]
          },
          "metadata": {},
          "execution_count": 80
        }
      ]
    },
    {
      "cell_type": "code",
      "source": [
        "transforms.Normalize((0.4914, 0.4822, 0.4465),(0.2470, 0.2435, 0.2616))"
      ],
      "metadata": {
        "colab": {
          "base_uri": "https://localhost:8080/"
        },
        "id": "MMvVIV2es6W2",
        "outputId": "f7023053-3e43-410b-9c49-d78662f1e939"
      },
      "execution_count": 81,
      "outputs": [
        {
          "output_type": "execute_result",
          "data": {
            "text/plain": [
              "Normalize(mean=(0.4914, 0.4822, 0.4465), std=(0.247, 0.2435, 0.2616))"
            ]
          },
          "metadata": {},
          "execution_count": 81
        }
      ]
    },
    {
      "cell_type": "code",
      "source": [
        "transformed_cifar10 = datasets.CIFAR10(data_path, train=True,download=False,\n",
        "                                       transform = transforms.Compose([\n",
        "                                          transforms.ToTensor(),\n",
        "                                          transforms.Normalize((0.4914, 0.4822, 0.4465),(0.2470, 0.2435, 0.2616))]))\n",
        "transformed_cifar10_val = datasets.CIFAR10(data_path, train=False,download=False,\n",
        "                                       transform = transforms.Compose([\n",
        "                                          transforms.ToTensor(),\n",
        "                                          transforms.Normalize((0.4914, 0.4822, 0.4465),(0.2470, 0.2435, 0.2616))]))"
      ],
      "metadata": {
        "id": "g6mrHAQPtGlL"
      },
      "execution_count": 82,
      "outputs": []
    },
    {
      "cell_type": "code",
      "source": [
        "img_t, _ = transformed_cifar10[99]\n",
        "plt.imshow(img_t.permute(1,2,0))\n",
        "plt.show()"
      ],
      "metadata": {
        "colab": {
          "base_uri": "https://localhost:8080/",
          "height": 447
        },
        "id": "jGjDCBPqt_mQ",
        "outputId": "5e204404-1102-46bd-ea18-8f2a8d45f5de"
      },
      "execution_count": 83,
      "outputs": [
        {
          "output_type": "stream",
          "name": "stderr",
          "text": [
            "WARNING:matplotlib.image:Clipping input data to the valid range for imshow with RGB data ([0..1] for floats or [0..255] for integers).\n"
          ]
        },
        {
          "output_type": "display_data",
          "data": {
            "text/plain": [
              "<Figure size 640x480 with 1 Axes>"
            ],
            "image/png": "[encoded data removed]"
          },
          "metadata": {}
        }
      ]
    },
    {
      "cell_type": "code",
      "source": [
        "model = nn.Sequential(nn.Linear(3072, 512), nn.Tanh(), nn.Linear(512, 10), nn.LogSoftmax(dim=1))\n",
        "\n"
      ],
      "metadata": {
        "id": "hP_oVCWdyWeI"
      },
      "execution_count": 84,
      "outputs": []
    },
    {
      "cell_type": "code",
      "source": [
        "loss = nn.NLLLoss()\n",
        "img, label = transformed_cifar10[99]\n",
        "out = model(img.view(-1).unsqueeze(0))\n",
        "loss(out, torch.tensor([label]))"
      ],
      "metadata": {
        "colab": {
          "base_uri": "https://localhost:8080/"
        },
        "id": "dPz3urA8zfoQ",
        "outputId": "588ed34d-8539-4bea-c82c-dc1c4d91fe89"
      },
      "execution_count": 85,
      "outputs": [
        {
          "output_type": "execute_result",
          "data": {
            "text/plain": [
              "tensor(2.2885, grad_fn=<NllLossBackward0>)"
            ]
          },
          "metadata": {},
          "execution_count": 85
        }
      ]
    },
    {
      "cell_type": "code",
      "source": [
        "learning_rate = 0.01\n",
        "optimizer = optim.SGD(model.parameters(), lr=learning_rate)\n",
        "train_loader = torch.utils.data.DataLoader(transformed_cifar10, batch_size = 64, shuffle=True)\n",
        "\n",
        "loss_fn = nn.NLLLoss()\n",
        "n_epochs = 100\n",
        "losses = []\n",
        "start = datetime.datetime.now()\n",
        "for epoch in range(n_epochs):\n",
        "  for imgs, labels in train_loader:\n",
        "    batch_size = imgs.shape[0]\n",
        "    outputs = model(imgs.view(batch_size, -1))\n",
        "    loss = loss_fn(outputs, labels)\n",
        "\n",
        "    optimizer.zero_grad()\n",
        "    loss.backward()\n",
        "    optimizer.step()\n",
        "\n",
        "  print(\"Epoch: %d, Loss: %f\" % (epoch, float(loss)))\n",
        "  losses.append(loss.item())\n",
        "\n",
        "end = datetime.datetime.now()"
      ],
      "metadata": {
        "colab": {
          "base_uri": "https://localhost:8080/"
        },
        "id": "MBYq9ZGi0v1k",
        "outputId": "fc1ca2b8-0f93-42ee-c607-a581d32b495a"
      },
      "execution_count": 86,
      "outputs": [
        {
          "output_type": "stream",
          "name": "stdout",
          "text": [
            "Epoch: 0, Loss: 1.559895\n",
            "Epoch: 1, Loss: 1.648515\n",
            "Epoch: 2, Loss: 1.553832\n",
            "Epoch: 3, Loss: 1.820570\n",
            "Epoch: 4, Loss: 1.578152\n",
            "Epoch: 5, Loss: 1.991232\n",
            "Epoch: 6, Loss: 1.557558\n",
            "Epoch: 7, Loss: 1.371971\n",
            "Epoch: 8, Loss: 1.377561\n",
            "Epoch: 9, Loss: 1.498050\n",
            "Epoch: 10, Loss: 1.413352\n",
            "Epoch: 11, Loss: 0.833933\n",
            "Epoch: 12, Loss: 1.311888\n",
            "Epoch: 13, Loss: 1.049882\n",
            "Epoch: 14, Loss: 1.123642\n",
            "Epoch: 15, Loss: 0.879288\n",
            "Epoch: 16, Loss: 0.839956\n",
            "Epoch: 17, Loss: 1.682409\n",
            "Epoch: 18, Loss: 0.711702\n",
            "Epoch: 19, Loss: 1.377513\n",
            "Epoch: 20, Loss: 1.303720\n",
            "Epoch: 21, Loss: 1.379040\n",
            "Epoch: 22, Loss: 0.875862\n",
            "Epoch: 23, Loss: 1.173916\n",
            "Epoch: 24, Loss: 0.639813\n",
            "Epoch: 25, Loss: 1.165659\n",
            "Epoch: 26, Loss: 0.619712\n",
            "Epoch: 27, Loss: 0.911695\n",
            "Epoch: 28, Loss: 0.568714\n",
            "Epoch: 29, Loss: 1.154011\n",
            "Epoch: 30, Loss: 0.793060\n",
            "Epoch: 31, Loss: 0.820465\n",
            "Epoch: 32, Loss: 0.735639\n",
            "Epoch: 33, Loss: 0.868863\n",
            "Epoch: 34, Loss: 0.337296\n",
            "Epoch: 35, Loss: 0.483031\n",
            "Epoch: 36, Loss: 0.642395\n",
            "Epoch: 37, Loss: 1.035178\n",
            "Epoch: 38, Loss: 1.034358\n",
            "Epoch: 39, Loss: 0.511870\n",
            "Epoch: 40, Loss: 0.510616\n",
            "Epoch: 41, Loss: 0.224056\n",
            "Epoch: 42, Loss: 0.422774\n",
            "Epoch: 43, Loss: 0.335177\n",
            "Epoch: 44, Loss: 0.414480\n",
            "Epoch: 45, Loss: 0.356092\n",
            "Epoch: 46, Loss: 0.260636\n",
            "Epoch: 47, Loss: 0.583882\n",
            "Epoch: 48, Loss: 0.308000\n",
            "Epoch: 49, Loss: 0.154654\n",
            "Epoch: 50, Loss: 0.249447\n",
            "Epoch: 51, Loss: 0.286281\n",
            "Epoch: 52, Loss: 0.235258\n",
            "Epoch: 53, Loss: 0.228748\n",
            "Epoch: 54, Loss: 0.169417\n",
            "Epoch: 55, Loss: 0.203123\n",
            "Epoch: 56, Loss: 0.298438\n",
            "Epoch: 57, Loss: 0.166872\n",
            "Epoch: 58, Loss: 0.165762\n",
            "Epoch: 59, Loss: 0.155256\n",
            "Epoch: 60, Loss: 0.239769\n",
            "Epoch: 61, Loss: 0.207697\n",
            "Epoch: 62, Loss: 0.116877\n",
            "Epoch: 63, Loss: 0.128890\n",
            "Epoch: 64, Loss: 0.205033\n",
            "Epoch: 65, Loss: 0.166524\n",
            "Epoch: 66, Loss: 0.145153\n",
            "Epoch: 67, Loss: 0.065800\n",
            "Epoch: 68, Loss: 0.084466\n",
            "Epoch: 69, Loss: 0.140469\n",
            "Epoch: 70, Loss: 0.118560\n",
            "Epoch: 71, Loss: 0.103326\n",
            "Epoch: 72, Loss: 0.179259\n",
            "Epoch: 73, Loss: 0.144234\n",
            "Epoch: 74, Loss: 0.073659\n",
            "Epoch: 75, Loss: 0.057862\n",
            "Epoch: 76, Loss: 0.098066\n",
            "Epoch: 77, Loss: 0.169562\n",
            "Epoch: 78, Loss: 0.076114\n",
            "Epoch: 79, Loss: 0.078966\n",
            "Epoch: 80, Loss: 0.120450\n",
            "Epoch: 81, Loss: 0.091863\n",
            "Epoch: 82, Loss: 0.062502\n",
            "Epoch: 83, Loss: 0.070904\n",
            "Epoch: 84, Loss: 0.063257\n",
            "Epoch: 85, Loss: 0.073277\n",
            "Epoch: 86, Loss: 0.028450\n",
            "Epoch: 87, Loss: 0.061315\n",
            "Epoch: 88, Loss: 0.046612\n",
            "Epoch: 89, Loss: 0.077994\n",
            "Epoch: 90, Loss: 0.052125\n",
            "Epoch: 91, Loss: 0.081704\n",
            "Epoch: 92, Loss: 0.081146\n",
            "Epoch: 93, Loss: 0.040194\n",
            "Epoch: 94, Loss: 0.046187\n",
            "Epoch: 95, Loss: 0.047025\n",
            "Epoch: 96, Loss: 0.076069\n",
            "Epoch: 97, Loss: 0.042115\n",
            "Epoch: 98, Loss: 0.043905\n",
            "Epoch: 99, Loss: 0.024858\n"
          ]
        }
      ]
    },
    {
      "cell_type": "code",
      "source": [
        "time = end-start\n",
        "print('Training time: ', str(time))"
      ],
      "metadata": {
        "colab": {
          "base_uri": "https://localhost:8080/"
        },
        "id": "kskDpbEC6SBf",
        "outputId": "98f013f4-7775-45be-ce04-223e37bd0309"
      },
      "execution_count": 87,
      "outputs": [
        {
          "output_type": "stream",
          "name": "stdout",
          "text": [
            "Training time:  0:43:52.098732\n"
          ]
        }
      ]
    },
    {
      "cell_type": "code",
      "source": [
        "val_loader = torch.utils.data.DataLoader(transformed_cifar10_val, batch_size=64,\n",
        "  shuffle=False)\n",
        "correct = 0\n",
        "total = 0\n",
        "val_losses = []\n",
        "with torch.no_grad():\n",
        "    for imgs, labels in val_loader:\n",
        "        batch_size = imgs.shape[0]\n",
        "        outputs = model(imgs.view(batch_size, -1))\n",
        "        loss = loss_fn(outputs, labels)\n",
        "        val_losses.append(loss.item())\n",
        "        _, predicted = torch.max(outputs, dim=1)\n",
        "        total += labels.shape[0]\n",
        "        correct += int((predicted == labels).sum())\n",
        "print(\"Accuracy Validation: \", correct / total)\n",
        "\n",
        "#Training set accuracy\n",
        "train_loader = torch.utils.data.DataLoader(transformed_cifar10, batch_size=64, shuffle=False)\n",
        "correct = 0\n",
        "total = 0\n",
        "with torch.no_grad():\n",
        "    for imgs, labels in train_loader:\n",
        "        outputs = model(imgs.view(imgs.shape[0], -1))\n",
        "        _, predicted = torch.max(outputs, dim=1)\n",
        "        total += labels.shape[0]\n",
        "        correct += int((predicted == labels).sum())\n",
        "\n",
        "print(\"Accuracy training: \" , (correct / total))\n",
        "\n"
      ],
      "metadata": {
        "colab": {
          "base_uri": "https://localhost:8080/"
        },
        "id": "sGCX2evd4Lr6",
        "outputId": "b99b05ec-020c-43f4-d4e0-8cb64ea29c01"
      },
      "execution_count": 88,
      "outputs": [
        {
          "output_type": "stream",
          "name": "stdout",
          "text": [
            "Accuracy Validation:  0.4683\n",
            "Accuracy training:  0.9995\n"
          ]
        }
      ]
    },
    {
      "cell_type": "code",
      "source": [
        "# 4. Plot the training and validation loss after each iteration\n",
        "plt.plot(losses, label=\"training loss\")\n",
        "plt.plot(val_losses, label=\"Validation Loss\")\n",
        "plt.xlabel(\"n number of epochs\")\n",
        "plt.ylabel(\"loss\")\n",
        "plt.legend()\n",
        "plt.title(\"Loss over epochs\")\n",
        "plt.show()"
      ],
      "metadata": {
        "colab": {
          "base_uri": "https://localhost:8080/",
          "height": 472
        },
        "id": "JVd2XR3LKx9w",
        "outputId": "10bd7ef6-1d7a-4263-ade3-d5f82cd2d4e5"
      },
      "execution_count": 90,
      "outputs": [
        {
          "output_type": "display_data",
          "data": {
            "text/plain": [
              "<Figure size 640x480 with 1 Axes>"
            ],
            "image/png": "[encoded data removed]"
          },
          "metadata": {}
        }
      ]
    }
  ]
}