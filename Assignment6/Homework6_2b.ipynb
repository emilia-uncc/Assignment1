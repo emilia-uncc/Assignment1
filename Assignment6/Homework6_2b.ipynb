{
  "cells": [
    {
      "cell_type": "markdown",
      "metadata": {
        "id": "view-in-github",
        "colab_type": "text"
      },
      "source": [
        "<a href=\"https://colab.research.google.com/github/emilia-uncc/IntroML/blob/main/Assignment6/Homework6_2b.ipynb\" target=\"_parent\"><img src=\"https://colab.research.google.com/assets/colab-badge.svg\" alt=\"Open In Colab\"/></a>"
      ]
    },
    {
      "cell_type": "code",
      "execution_count": 11,
      "metadata": {
        "colab": {
          "base_uri": "https://localhost:8080/"
        },
        "id": "fhdKksuOfrTr",
        "outputId": "a595983a-d17a-41d1-8a8d-91536a3f3cef"
      },
      "outputs": [
        {
          "output_type": "stream",
          "name": "stdout",
          "text": [
            "Drive already mounted at /content/drive; to attempt to forcibly remount, call drive.mount(\"/content/drive\", force_remount=True).\n"
          ]
        }
      ],
      "source": [
        "import numpy as np\n",
        "import pandas as pd\n",
        "\n",
        "import matplotlib.pyplot as plt\n",
        "import seaborn as sns\n",
        "\n",
        "from sklearn.model_selection import train_test_split\n",
        "from sklearn.preprocessing import StandardScaler\n",
        "from sklearn.preprocessing import MinMaxScaler\n",
        "\n",
        "import torch\n",
        "import torch.optim as optim\n",
        "import torch.nn as nn\n",
        "from torch.autograd import Variable\n",
        "\n",
        "from torchvision import datasets\n",
        "from torchvision import transforms\n",
        "\n",
        "import datetime\n",
        "\n",
        "#mounting google drive\n",
        "from google.colab import drive\n",
        "drive.mount('/content/drive')"
      ]
    },
    {
      "cell_type": "code",
      "execution_count": 12,
      "metadata": {
        "colab": {
          "base_uri": "https://localhost:8080/"
        },
        "id": "TBi2v5o_ir8x",
        "outputId": "35733fba-78a8-48b4-dc9d-971876719029"
      },
      "outputs": [
        {
          "output_type": "stream",
          "name": "stdout",
          "text": [
            "Files already downloaded and verified\n",
            "Files already downloaded and verified\n"
          ]
        }
      ],
      "source": [
        "data_path = '/content/drive/My Drive/DataSets/'\n",
        "cifar10 = datasets.CIFAR10(data_path,train=True,download=True, transform=transforms.ToTensor())\n",
        "cifar10_val = datasets.CIFAR10(data_path, train=False, download=True, transform = transforms.ToTensor())\n"
      ]
    },
    {
      "cell_type": "code",
      "execution_count": 3,
      "metadata": {
        "colab": {
          "base_uri": "https://localhost:8080/"
        },
        "id": "EoOm3G_Hi7Vp",
        "outputId": "fe9e1c7a-e435-436e-a6d3-4a3ed24ac872"
      },
      "outputs": [
        {
          "output_type": "execute_result",
          "data": {
            "text/plain": [
              "50000"
            ]
          },
          "metadata": {},
          "execution_count": 3
        }
      ],
      "source": [
        "len(cifar10)"
      ]
    },
    {
      "cell_type": "code",
      "execution_count": 4,
      "metadata": {
        "colab": {
          "base_uri": "https://localhost:8080/",
          "height": 447
        },
        "id": "yWjDVskgpIST",
        "outputId": "9ede9cd7-cf19-4630-957c-da3da2a695fc"
      },
      "outputs": [
        {
          "output_type": "execute_result",
          "data": {
            "text/plain": [
              "<matplotlib.image.AxesImage at 0x784dd8e3b280>"
            ]
          },
          "metadata": {},
          "execution_count": 4
        },
        {
          "output_type": "display_data",
          "data": {
            "text/plain": [
              "<Figure size 640x480 with 1 Axes>"
            ],
            "image/png": "[encoded data removed]"
          },
          "metadata": {}
        }
      ],
      "source": [
        "img_t, _ = cifar10[99]\n",
        "img_t.shape\n",
        "plt.imshow(img_t.permute(1,2,0))"
      ]
    },
    {
      "cell_type": "code",
      "execution_count": 5,
      "metadata": {
        "colab": {
          "base_uri": "https://localhost:8080/"
        },
        "id": "CqJ5VsvYpZyI",
        "outputId": "195426f0-cf6a-4076-c4ea-624b165c2564"
      },
      "outputs": [
        {
          "output_type": "execute_result",
          "data": {
            "text/plain": [
              "torch.Size([3, 32, 32, 50000])"
            ]
          },
          "metadata": {},
          "execution_count": 5
        }
      ],
      "source": [
        "imgs = torch.stack([img_t for img_t, _ in cifar10], dim=3)\n",
        "imgs.shape"
      ]
    },
    {
      "cell_type": "code",
      "execution_count": 6,
      "metadata": {
        "colab": {
          "base_uri": "https://localhost:8080/"
        },
        "id": "1JKtPt-zq_0R",
        "outputId": "f691d67a-9291-4707-fea5-f441666bbad8"
      },
      "outputs": [
        {
          "output_type": "execute_result",
          "data": {
            "text/plain": [
              "tensor([0.2470, 0.2435, 0.2616])"
            ]
          },
          "metadata": {},
          "execution_count": 6
        }
      ],
      "source": [
        "imgs.view(3,-1).mean(dim=1)\n",
        "imgs.view(3,-1).std(dim=1)\n"
      ]
    },
    {
      "cell_type": "code",
      "execution_count": 7,
      "metadata": {
        "colab": {
          "base_uri": "https://localhost:8080/"
        },
        "id": "MMvVIV2es6W2",
        "outputId": "100f3ce4-c820-4da8-8b42-7b02082d4ce9"
      },
      "outputs": [
        {
          "output_type": "execute_result",
          "data": {
            "text/plain": [
              "Normalize(mean=(0.4914, 0.4822, 0.4465), std=(0.247, 0.2435, 0.2616))"
            ]
          },
          "metadata": {},
          "execution_count": 7
        }
      ],
      "source": [
        "transforms.Normalize((0.4914, 0.4822, 0.4465),(0.2470, 0.2435, 0.2616))"
      ]
    },
    {
      "cell_type": "code",
      "execution_count": 13,
      "metadata": {
        "id": "g6mrHAQPtGlL"
      },
      "outputs": [],
      "source": [
        "transformed_cifar10 = datasets.CIFAR10(data_path, train=True,download=False,\n",
        "                                       transform = transforms.Compose([\n",
        "                                          transforms.ToTensor(),\n",
        "                                          transforms.Normalize((0.4914, 0.4822, 0.4465),(0.2470, 0.2435, 0.2616))]))\n",
        "transformed_cifar10_val = datasets.CIFAR10(data_path, train=False,download=False,\n",
        "                                       transform = transforms.Compose([\n",
        "                                          transforms.ToTensor(),\n",
        "                                          transforms.Normalize((0.4914, 0.4822, 0.4465),(0.2470, 0.2435, 0.2616))]))"
      ]
    },
    {
      "cell_type": "code",
      "execution_count": 9,
      "metadata": {
        "colab": {
          "base_uri": "https://localhost:8080/",
          "height": 447
        },
        "id": "jGjDCBPqt_mQ",
        "outputId": "62b8431c-f2b7-4689-f213-64bcce2af582"
      },
      "outputs": [
        {
          "output_type": "stream",
          "name": "stderr",
          "text": [
            "WARNING:matplotlib.image:Clipping input data to the valid range for imshow with RGB data ([0..1] for floats or [0..255] for integers).\n"
          ]
        },
        {
          "output_type": "display_data",
          "data": {
            "text/plain": [
              "<Figure size 640x480 with 1 Axes>"
            ],
            "image/png": "[encoded data removed]"
          },
          "metadata": {}
        }
      ],
      "source": [
        "img_t, _ = transformed_cifar10[99]\n",
        "plt.imshow(img_t.permute(1,2,0))\n",
        "plt.show()"
      ]
    },
    {
      "cell_type": "code",
      "execution_count": 14,
      "metadata": {
        "id": "hP_oVCWdyWeI"
      },
      "outputs": [],
      "source": [
        "model = nn.Sequential(nn.Linear(3072, 512),\n",
        "                      nn.Tanh(),\n",
        "                      nn.Linear(512, 824),\n",
        "                      nn.Tanh(),\n",
        "                      nn.Linear(824, 204),\n",
        "                      nn.Tanh(),\n",
        "                      nn.Linear(204, 10),\n",
        "                      nn.LogSoftmax(dim=1))\n",
        "\n"
      ]
    },
    {
      "cell_type": "code",
      "source": [
        "#count trainable parameter\n",
        "numel_list = [p.numel()\n",
        "              for p in model.parameters()\n",
        "              if p.requires_grad == True]\n",
        "sum(numel_list)"
      ],
      "metadata": {
        "colab": {
          "base_uri": "https://localhost:8080/"
        },
        "id": "J9VuN7cFqhnO",
        "outputId": "4afa59f6-6cfc-4181-e626-8a53425a4691"
      },
      "execution_count": 15,
      "outputs": [
        {
          "output_type": "execute_result",
          "data": {
            "text/plain": [
              "2166438"
            ]
          },
          "metadata": {},
          "execution_count": 15
        }
      ]
    },
    {
      "cell_type": "code",
      "execution_count": 16,
      "metadata": {
        "colab": {
          "base_uri": "https://localhost:8080/"
        },
        "id": "dPz3urA8zfoQ",
        "outputId": "b78bd061-e5eb-4ae2-a2c2-e8e601999f25"
      },
      "outputs": [
        {
          "output_type": "execute_result",
          "data": {
            "text/plain": [
              "tensor(2.3363, grad_fn=<NllLossBackward0>)"
            ]
          },
          "metadata": {},
          "execution_count": 16
        }
      ],
      "source": [
        "loss = nn.NLLLoss()\n",
        "img, label = transformed_cifar10[99]\n",
        "out = model(img.view(-1).unsqueeze(0))\n",
        "loss(out, torch.tensor([label]))"
      ]
    },
    {
      "cell_type": "code",
      "execution_count": 13,
      "metadata": {
        "colab": {
          "base_uri": "https://localhost:8080/"
        },
        "id": "MBYq9ZGi0v1k",
        "outputId": "8c0bd4d8-e398-4a96-969d-7c98ff52dec6"
      },
      "outputs": [
        {
          "output_type": "stream",
          "name": "stdout",
          "text": [
            "Epoch: 0, Loss: 1.528864\n",
            "Epoch: 1, Loss: 1.604502\n",
            "Epoch: 2, Loss: 1.800628\n",
            "Epoch: 3, Loss: 1.760673\n",
            "Epoch: 4, Loss: 1.671221\n",
            "Epoch: 5, Loss: 1.504973\n",
            "Epoch: 6, Loss: 1.194758\n",
            "Epoch: 7, Loss: 2.258765\n",
            "Epoch: 8, Loss: 1.717912\n",
            "Epoch: 9, Loss: 1.698834\n",
            "Epoch: 10, Loss: 1.438654\n",
            "Epoch: 11, Loss: 0.905498\n",
            "Epoch: 12, Loss: 0.919835\n",
            "Epoch: 13, Loss: 0.793843\n",
            "Epoch: 14, Loss: 1.250841\n",
            "Epoch: 15, Loss: 1.284530\n",
            "Epoch: 16, Loss: 1.009971\n",
            "Epoch: 17, Loss: 0.974535\n",
            "Epoch: 18, Loss: 0.726999\n",
            "Epoch: 19, Loss: 0.887596\n",
            "Epoch: 20, Loss: 0.947173\n",
            "Epoch: 21, Loss: 0.640259\n",
            "Epoch: 22, Loss: 1.295103\n",
            "Epoch: 23, Loss: 1.006855\n",
            "Epoch: 24, Loss: 0.707785\n",
            "Epoch: 25, Loss: 0.643270\n",
            "Epoch: 26, Loss: 0.615790\n",
            "Epoch: 27, Loss: 0.845667\n",
            "Epoch: 28, Loss: 0.170917\n",
            "Epoch: 29, Loss: 0.263944\n",
            "Epoch: 30, Loss: 0.583269\n",
            "Epoch: 31, Loss: 0.495518\n",
            "Epoch: 32, Loss: 0.761224\n",
            "Epoch: 33, Loss: 0.395232\n",
            "Epoch: 34, Loss: 0.765792\n",
            "Epoch: 35, Loss: 0.169214\n",
            "Epoch: 36, Loss: 0.690230\n",
            "Epoch: 37, Loss: 0.189916\n",
            "Epoch: 38, Loss: 0.419949\n",
            "Epoch: 39, Loss: 0.227509\n",
            "Epoch: 40, Loss: 0.126981\n",
            "Epoch: 41, Loss: 0.305260\n",
            "Epoch: 42, Loss: 0.128625\n",
            "Epoch: 43, Loss: 0.245055\n",
            "Epoch: 44, Loss: 0.067375\n",
            "Epoch: 45, Loss: 0.236833\n",
            "Epoch: 46, Loss: 0.124776\n",
            "Epoch: 47, Loss: 0.212077\n",
            "Epoch: 48, Loss: 0.271651\n",
            "Epoch: 49, Loss: 0.118312\n",
            "Epoch: 50, Loss: 0.043573\n",
            "Epoch: 51, Loss: 0.123408\n",
            "Epoch: 52, Loss: 0.011489\n",
            "Epoch: 53, Loss: 0.029781\n",
            "Epoch: 54, Loss: 0.025159\n",
            "Epoch: 55, Loss: 0.034386\n",
            "Epoch: 56, Loss: 0.023719\n",
            "Epoch: 57, Loss: 0.009140\n",
            "Epoch: 58, Loss: 0.313933\n",
            "Epoch: 59, Loss: 0.134202\n",
            "Epoch: 60, Loss: 0.248990\n",
            "Epoch: 61, Loss: 0.030846\n",
            "Epoch: 62, Loss: 0.091849\n",
            "Epoch: 63, Loss: 0.008503\n",
            "Epoch: 64, Loss: 0.003275\n",
            "Epoch: 65, Loss: 0.009425\n",
            "Epoch: 66, Loss: 0.009218\n",
            "Epoch: 67, Loss: 0.023292\n",
            "Epoch: 68, Loss: 0.005142\n",
            "Epoch: 69, Loss: 0.022519\n",
            "Epoch: 70, Loss: 0.002677\n",
            "Epoch: 71, Loss: 0.005726\n",
            "Epoch: 72, Loss: 0.004042\n",
            "Epoch: 73, Loss: 0.001594\n",
            "Epoch: 74, Loss: 0.001312\n",
            "Epoch: 75, Loss: 0.004218\n",
            "Epoch: 76, Loss: 0.002345\n",
            "Epoch: 77, Loss: 0.002249\n",
            "Epoch: 78, Loss: 0.001265\n",
            "Epoch: 79, Loss: 0.001293\n",
            "Epoch: 80, Loss: 0.001277\n",
            "Epoch: 81, Loss: 0.001006\n",
            "Epoch: 82, Loss: 0.001828\n",
            "Epoch: 83, Loss: 0.001940\n",
            "Epoch: 84, Loss: 0.001174\n",
            "Epoch: 85, Loss: 0.003982\n",
            "Epoch: 86, Loss: 0.001061\n",
            "Epoch: 87, Loss: 0.000967\n",
            "Epoch: 88, Loss: 0.001090\n",
            "Epoch: 89, Loss: 0.003071\n",
            "Epoch: 90, Loss: 0.001590\n",
            "Epoch: 91, Loss: 0.003293\n",
            "Epoch: 92, Loss: 0.001742\n",
            "Epoch: 93, Loss: 0.001906\n",
            "Epoch: 94, Loss: 0.001471\n",
            "Epoch: 95, Loss: 0.001789\n",
            "Epoch: 96, Loss: 0.000964\n",
            "Epoch: 97, Loss: 0.001943\n",
            "Epoch: 98, Loss: 0.001711\n",
            "Epoch: 99, Loss: 0.001829\n",
            "Epoch: 100, Loss: 0.001973\n",
            "Epoch: 101, Loss: 0.000904\n",
            "Epoch: 102, Loss: 0.001244\n",
            "Epoch: 103, Loss: 0.002579\n",
            "Epoch: 104, Loss: 0.001190\n",
            "Epoch: 105, Loss: 0.000642\n",
            "Epoch: 106, Loss: 0.000892\n",
            "Epoch: 107, Loss: 0.001044\n",
            "Epoch: 108, Loss: 0.001775\n",
            "Epoch: 109, Loss: 0.001649\n",
            "Epoch: 110, Loss: 0.001034\n",
            "Epoch: 111, Loss: 0.002250\n",
            "Epoch: 112, Loss: 0.001354\n",
            "Epoch: 113, Loss: 0.000862\n",
            "Epoch: 114, Loss: 0.000723\n",
            "Epoch: 115, Loss: 0.000879\n",
            "Epoch: 116, Loss: 0.000749\n",
            "Epoch: 117, Loss: 0.001610\n",
            "Epoch: 118, Loss: 0.000676\n",
            "Epoch: 119, Loss: 0.000939\n",
            "Epoch: 120, Loss: 0.001416\n",
            "Epoch: 121, Loss: 0.000686\n",
            "Epoch: 122, Loss: 0.001387\n",
            "Epoch: 123, Loss: 0.000949\n",
            "Epoch: 124, Loss: 0.001565\n",
            "Epoch: 125, Loss: 0.000739\n",
            "Epoch: 126, Loss: 0.000464\n",
            "Epoch: 127, Loss: 0.000651\n",
            "Epoch: 128, Loss: 0.000856\n",
            "Epoch: 129, Loss: 0.001444\n",
            "Epoch: 130, Loss: 0.001079\n",
            "Epoch: 131, Loss: 0.001224\n",
            "Epoch: 132, Loss: 0.000732\n",
            "Epoch: 133, Loss: 0.000461\n",
            "Epoch: 134, Loss: 0.000660\n",
            "Epoch: 135, Loss: 0.000595\n",
            "Epoch: 136, Loss: 0.000995\n",
            "Epoch: 137, Loss: 0.000535\n",
            "Epoch: 138, Loss: 0.001142\n",
            "Epoch: 139, Loss: 0.000605\n",
            "Epoch: 140, Loss: 0.001073\n",
            "Epoch: 141, Loss: 0.000740\n",
            "Epoch: 142, Loss: 0.000589\n",
            "Epoch: 143, Loss: 0.000935\n",
            "Epoch: 144, Loss: 0.000428\n",
            "Epoch: 145, Loss: 0.000654\n",
            "Epoch: 146, Loss: 0.000585\n",
            "Epoch: 147, Loss: 0.000630\n",
            "Epoch: 148, Loss: 0.000633\n",
            "Epoch: 149, Loss: 0.000570\n",
            "Epoch: 150, Loss: 0.000547\n",
            "Epoch: 151, Loss: 0.000690\n",
            "Epoch: 152, Loss: 0.000388\n",
            "Epoch: 153, Loss: 0.001110\n",
            "Epoch: 154, Loss: 0.000707\n",
            "Epoch: 155, Loss: 0.000627\n",
            "Epoch: 156, Loss: 0.000493\n",
            "Epoch: 157, Loss: 0.000649\n",
            "Epoch: 158, Loss: 0.000539\n",
            "Epoch: 159, Loss: 0.000645\n",
            "Epoch: 160, Loss: 0.000574\n",
            "Epoch: 161, Loss: 0.000532\n",
            "Epoch: 162, Loss: 0.000254\n",
            "Epoch: 163, Loss: 0.000525\n",
            "Epoch: 164, Loss: 0.000538\n",
            "Epoch: 165, Loss: 0.000575\n",
            "Epoch: 166, Loss: 0.000570\n",
            "Epoch: 167, Loss: 0.000772\n",
            "Epoch: 168, Loss: 0.000477\n",
            "Epoch: 169, Loss: 0.001062\n",
            "Epoch: 170, Loss: 0.000660\n",
            "Epoch: 171, Loss: 0.000472\n",
            "Epoch: 172, Loss: 0.000350\n",
            "Epoch: 173, Loss: 0.000347\n",
            "Epoch: 174, Loss: 0.000401\n",
            "Epoch: 175, Loss: 0.000536\n",
            "Epoch: 176, Loss: 0.000401\n",
            "Epoch: 177, Loss: 0.000137\n",
            "Epoch: 178, Loss: 0.000772\n",
            "Epoch: 179, Loss: 0.000857\n",
            "Epoch: 180, Loss: 0.000336\n",
            "Epoch: 181, Loss: 0.000270\n",
            "Epoch: 182, Loss: 0.000581\n",
            "Epoch: 183, Loss: 0.000706\n",
            "Epoch: 184, Loss: 0.000374\n",
            "Epoch: 185, Loss: 0.000397\n",
            "Epoch: 186, Loss: 0.000382\n",
            "Epoch: 187, Loss: 0.002016\n",
            "Epoch: 188, Loss: 0.000202\n",
            "Epoch: 189, Loss: 0.000538\n",
            "Epoch: 190, Loss: 0.000778\n",
            "Epoch: 191, Loss: 0.000612\n",
            "Epoch: 192, Loss: 0.000682\n",
            "Epoch: 193, Loss: 0.000656\n",
            "Epoch: 194, Loss: 0.000672\n",
            "Epoch: 195, Loss: 0.000440\n",
            "Epoch: 196, Loss: 0.000538\n",
            "Epoch: 197, Loss: 0.000386\n",
            "Epoch: 198, Loss: 0.000394\n",
            "Epoch: 199, Loss: 0.000463\n",
            "Epoch: 200, Loss: 0.000570\n",
            "Epoch: 201, Loss: 0.000387\n",
            "Epoch: 202, Loss: 0.000771\n",
            "Epoch: 203, Loss: 0.000293\n",
            "Epoch: 204, Loss: 0.000178\n",
            "Epoch: 205, Loss: 0.000277\n",
            "Epoch: 206, Loss: 0.000397\n",
            "Epoch: 207, Loss: 0.000672\n",
            "Epoch: 208, Loss: 0.000226\n",
            "Epoch: 209, Loss: 0.000451\n",
            "Epoch: 210, Loss: 0.000442\n",
            "Epoch: 211, Loss: 0.000371\n",
            "Epoch: 212, Loss: 0.000572\n",
            "Epoch: 213, Loss: 0.000337\n",
            "Epoch: 214, Loss: 0.000528\n",
            "Epoch: 215, Loss: 0.000539\n",
            "Epoch: 216, Loss: 0.000383\n",
            "Epoch: 217, Loss: 0.000345\n",
            "Epoch: 218, Loss: 0.000259\n",
            "Epoch: 219, Loss: 0.000518\n",
            "Epoch: 220, Loss: 0.000678\n",
            "Epoch: 221, Loss: 0.000417\n",
            "Epoch: 222, Loss: 0.000304\n",
            "Epoch: 223, Loss: 0.000528\n",
            "Epoch: 224, Loss: 0.000682\n",
            "Epoch: 225, Loss: 0.000379\n",
            "Epoch: 226, Loss: 0.000677\n",
            "Epoch: 227, Loss: 0.000261\n",
            "Epoch: 228, Loss: 0.000416\n",
            "Epoch: 229, Loss: 0.000329\n",
            "Epoch: 230, Loss: 0.000539\n",
            "Epoch: 231, Loss: 0.000327\n",
            "Epoch: 232, Loss: 0.001279\n",
            "Epoch: 233, Loss: 0.000403\n",
            "Epoch: 234, Loss: 0.000213\n",
            "Epoch: 235, Loss: 0.000451\n",
            "Epoch: 236, Loss: 0.000200\n",
            "Epoch: 237, Loss: 0.000493\n",
            "Epoch: 238, Loss: 0.000159\n",
            "Epoch: 239, Loss: 0.000281\n",
            "Epoch: 240, Loss: 0.000404\n",
            "Epoch: 241, Loss: 0.000344\n",
            "Epoch: 242, Loss: 0.000195\n",
            "Epoch: 243, Loss: 0.000276\n",
            "Epoch: 244, Loss: 0.000259\n",
            "Epoch: 245, Loss: 0.000297\n",
            "Epoch: 246, Loss: 0.000223\n",
            "Epoch: 247, Loss: 0.000582\n",
            "Epoch: 248, Loss: 0.000362\n",
            "Epoch: 249, Loss: 0.000298\n",
            "Epoch: 250, Loss: 0.000294\n",
            "Epoch: 251, Loss: 0.000215\n",
            "Epoch: 252, Loss: 0.000417\n",
            "Epoch: 253, Loss: 0.000138\n",
            "Epoch: 254, Loss: 0.000239\n",
            "Epoch: 255, Loss: 0.000160\n",
            "Epoch: 256, Loss: 0.000349\n",
            "Epoch: 257, Loss: 0.000384\n",
            "Epoch: 258, Loss: 0.000127\n",
            "Epoch: 259, Loss: 0.000093\n",
            "Epoch: 260, Loss: 0.000235\n",
            "Epoch: 261, Loss: 0.000245\n",
            "Epoch: 262, Loss: 0.000382\n",
            "Epoch: 263, Loss: 0.000410\n",
            "Epoch: 264, Loss: 0.000226\n",
            "Epoch: 265, Loss: 0.000173\n",
            "Epoch: 266, Loss: 0.000220\n",
            "Epoch: 267, Loss: 0.000332\n",
            "Epoch: 268, Loss: 0.000527\n",
            "Epoch: 269, Loss: 0.000406\n",
            "Epoch: 270, Loss: 0.000419\n",
            "Epoch: 271, Loss: 0.000294\n",
            "Epoch: 272, Loss: 0.000250\n",
            "Epoch: 273, Loss: 0.000454\n",
            "Epoch: 274, Loss: 0.000257\n",
            "Epoch: 275, Loss: 0.000427\n",
            "Epoch: 276, Loss: 0.000247\n",
            "Epoch: 277, Loss: 0.000225\n",
            "Epoch: 278, Loss: 0.000300\n",
            "Epoch: 279, Loss: 0.000337\n",
            "Epoch: 280, Loss: 0.000446\n",
            "Epoch: 281, Loss: 0.000200\n",
            "Epoch: 282, Loss: 0.000254\n",
            "Epoch: 283, Loss: 0.000218\n",
            "Epoch: 284, Loss: 0.000246\n",
            "Epoch: 285, Loss: 0.000328\n",
            "Epoch: 286, Loss: 0.000328\n",
            "Epoch: 287, Loss: 0.000255\n",
            "Epoch: 288, Loss: 0.000294\n",
            "Epoch: 289, Loss: 0.000195\n",
            "Epoch: 290, Loss: 0.000310\n",
            "Epoch: 291, Loss: 0.000411\n",
            "Epoch: 292, Loss: 0.000192\n",
            "Epoch: 293, Loss: 0.000348\n",
            "Epoch: 294, Loss: 0.000194\n",
            "Epoch: 295, Loss: 0.000150\n",
            "Epoch: 296, Loss: 0.000268\n",
            "Epoch: 297, Loss: 0.000306\n",
            "Epoch: 298, Loss: 0.000415\n",
            "Epoch: 299, Loss: 0.000277\n"
          ]
        }
      ],
      "source": [
        "learning_rate = 1e-2\n",
        "optimizer = optim.SGD(model.parameters(), lr=learning_rate)\n",
        "train_loader = torch.utils.data.DataLoader(transformed_cifar10, batch_size = 64, shuffle=True)\n",
        "\n",
        "loss_fn = nn.NLLLoss()\n",
        "n_epochs = 300\n",
        "losses = []\n",
        "start = datetime.datetime.now()\n",
        "for epoch in range(n_epochs):\n",
        "  for imgs, labels in train_loader:\n",
        "    batch_size = imgs.shape[0]\n",
        "    outputs = model(imgs.view(batch_size, -1))\n",
        "    loss = loss_fn(outputs, labels)\n",
        "\n",
        "    optimizer.zero_grad()\n",
        "    loss.backward()\n",
        "    optimizer.step()\n",
        "\n",
        "  print(\"Epoch: %d, Loss: %f\" % (epoch, float(loss)))\n",
        "  losses.append(loss.item())\n",
        "\n",
        "end = datetime.datetime.now()"
      ]
    },
    {
      "cell_type": "code",
      "execution_count": 14,
      "metadata": {
        "colab": {
          "base_uri": "https://localhost:8080/"
        },
        "id": "kskDpbEC6SBf",
        "outputId": "e78ef5fa-c517-40be-c016-b5009526b176"
      },
      "outputs": [
        {
          "metadata": {
            "tags": null
          },
          "name": "stdout",
          "output_type": "stream",
          "text": [
            "Training time:  2:09:03.497036\n"
          ]
        }
      ],
      "source": [
        "time = end-start\n",
        "print(\"Training time: \", str(time))"
      ]
    },
    {
      "cell_type": "code",
      "source": [
        "#!!!\n",
        "#save model\n",
        "#torch.save(model.state_dict(), data_path+'p2b_0.01.pt')\n",
        "\n",
        "#Load model\n",
        "model.load_state_dict(torch.load(data_path+'p2b_0.01.pt'))"
      ],
      "metadata": {
        "colab": {
          "base_uri": "https://localhost:8080/"
        },
        "id": "ZGIMPCuLqrZT",
        "outputId": "ec7af5e8-4780-4a71-aa44-f5d01f932dd7"
      },
      "execution_count": 17,
      "outputs": [
        {
          "output_type": "execute_result",
          "data": {
            "text/plain": [
              "<All keys matched successfully>"
            ]
          },
          "metadata": {},
          "execution_count": 17
        }
      ]
    },
    {
      "cell_type": "code",
      "source": [
        "#Confusion matrix\n",
        "class_names = ['airplane','automobile','bird','cat','deer',\n",
        "               'dog','frog','horse','ship','truck']\n",
        "val_loader = torch.utils.data.DataLoader(transformed_cifar10_val, batch_size=64, shuffle=False)\n",
        "loss_fn = nn.NLLLoss()\n",
        "nb_classes = 10\n",
        "cnf_matrix = torch.zeros(nb_classes, nb_classes)\n",
        "with torch.no_grad():\n",
        "    for imgs, labels in val_loader:\n",
        "\n",
        "        outputs = model(imgs.view(imgs.shape[0], -1))\n",
        "        _, preds = torch.max(outputs, 1)\n",
        "\n",
        "        for t, p in zip(labels.view(-1), preds.view(-1)):\n",
        "                cnf_matrix[t.long(), p.long()] += 1\n",
        "\n",
        "\n",
        "# create heatmap\n",
        "fig, ax = plt.subplots(figsize=(9,7))\n",
        "sns.heatmap(pd.DataFrame(cnf_matrix), annot=True, cmap=\"YlGnBu\" ,fmt='g',linewidths=0.5,  xticklabels=class_names, yticklabels=class_names, ax=ax)\n",
        "\n",
        "plt.title('Confusion matrix')\n",
        "plt.ylabel('Actual label')\n",
        "plt.xlabel('Predicted label')"
      ],
      "metadata": {
        "id": "2M-4mQDF04uI",
        "outputId": "7c23537c-f4cb-4015-bf7f-36547c5a90c9",
        "colab": {
          "base_uri": "https://localhost:8080/",
          "height": 723
        }
      },
      "execution_count": 19,
      "outputs": [
        {
          "output_type": "execute_result",
          "data": {
            "text/plain": [
              "Text(0.5, 47.7222222222222, 'Predicted label')"
            ]
          },
          "metadata": {},
          "execution_count": 19
        },
        {
          "output_type": "display_data",
          "data": {
            "text/plain": [
              "<Figure size 900x700 with 2 Axes>"
            ],
            "image/png": "[encoded data removed]"
          },
          "metadata": {}
        }
      ]
    },
    {
      "cell_type": "code",
      "execution_count": 20,
      "metadata": {
        "colab": {
          "base_uri": "https://localhost:8080/"
        },
        "id": "sGCX2evd4Lr6",
        "outputId": "810d2b90-87b3-4e71-aedc-59566c0db437"
      },
      "outputs": [
        {
          "output_type": "stream",
          "name": "stdout",
          "text": [
            "Accuracy validation: %f 0.4518\n"
          ]
        }
      ],
      "source": [
        "val_loader = torch.utils.data.DataLoader(transformed_cifar10_val, batch_size=64,\n",
        "  shuffle=False)\n",
        "correct_val = 0\n",
        "total_val = 0\n",
        "loss_fn = nn.NLLLoss()\n",
        "val_losses = []\n",
        "with torch.no_grad():\n",
        "    for imgs, labels in val_loader:\n",
        "        batch_size = imgs.shape[0]\n",
        "        outputs = model(imgs.view(batch_size, -1))\n",
        "        loss = loss_fn(outputs, labels)\n",
        "        val_losses.append(loss.item())\n",
        "        _, predicted = torch.max(outputs, dim=1)\n",
        "        total_val += labels.shape[0]\n",
        "        correct_val += int((predicted == labels).sum())\n",
        "print(\"Accuracy validation: %f\", correct_val / total_val)\n"
      ]
    },
    {
      "cell_type": "code",
      "execution_count": 21,
      "metadata": {
        "id": "WArG5JnFMuWh",
        "colab": {
          "base_uri": "https://localhost:8080/"
        },
        "outputId": "48aa3480-5251-47b1-bd23-13ff6081480a"
      },
      "outputs": [
        {
          "output_type": "stream",
          "name": "stdout",
          "text": [
            "Accuracy training: 1.000000\n"
          ]
        }
      ],
      "source": [
        "#Training set accuracy\n",
        "train_loader = torch.utils.data.DataLoader(transformed_cifar10, batch_size=64, shuffle=False)\n",
        "correct = 0\n",
        "total = 0\n",
        "with torch.no_grad():\n",
        "    for imgs, labels in train_loader:\n",
        "        outputs = model(imgs.view(imgs.shape[0], -1))\n",
        "        _, predicted = torch.max(outputs, dim=1)\n",
        "        total += labels.shape[0]\n",
        "        correct += int((predicted == labels).sum())\n",
        "\n",
        "print(\"Accuracy training: %f\" % (correct / total))"
      ]
    },
    {
      "cell_type": "code",
      "source": [
        "cm = pd.DataFrame(cnf_matrix)\n",
        "\n",
        "recall = np.diag(cm) / np.sum(cm, axis = 1)\n",
        "precision = np.diag(cm) / np.sum(cm, axis = 0)\n",
        "f1_score = (2*recall*precision) / (recall+precision)\n",
        "\n",
        "d = {'class':class_names, 'precision':precision, 'recall':recall, 'f1-score':f1_score}\n",
        "performance = pd.DataFrame(data = d)"
      ],
      "metadata": {
        "id": "I-mF1PUR2Isx"
      },
      "execution_count": 22,
      "outputs": []
    },
    {
      "cell_type": "code",
      "source": [
        "precision_mean = np.sum(performance['precision']) / 10\n",
        "recall_mean = np.sum(performance['recall']) / 10\n",
        "f1_mean = np.sum(performance['f1-score']) / 10\n",
        "\n",
        "print(\"Accuracy:   %.4f\" % (correct_val / total_val))\n",
        "print(\"Precsision: %.4f\" % precision_mean)\n",
        "print(\"Recall:     %.4f\" % recall_mean)\n",
        "print(\"F1-score:   %.4f\" % f1_mean)\n",
        "\n",
        "print('\\n')\n",
        "print(\"Training Accuracy: %.4f\" % (correct / total))"
      ],
      "metadata": {
        "id": "XM1tKRmf1bGz",
        "outputId": "1e8be644-3972-48bd-c346-0c0d2f1b50c9",
        "colab": {
          "base_uri": "https://localhost:8080/"
        }
      },
      "execution_count": 23,
      "outputs": [
        {
          "output_type": "stream",
          "name": "stdout",
          "text": [
            "Accuracy:   0.4518\n",
            "Precsision: 0.4526\n",
            "Recall:     0.4518\n",
            "F1-score:   0.4520\n",
            "\n",
            "\n",
            "Training Accuracy: 1.0000\n"
          ]
        }
      ]
    },
    {
      "cell_type": "code",
      "execution_count": 24,
      "metadata": {
        "id": "JVd2XR3LKx9w",
        "colab": {
          "base_uri": "https://localhost:8080/",
          "height": 245
        },
        "outputId": "38442d08-70e8-4675-94c1-db964336ecf6"
      },
      "outputs": [
        {
          "output_type": "error",
          "ename": "NameError",
          "evalue": "ignored",
          "traceback": [
            "\u001b[0;31m---------------------------------------------------------------------------\u001b[0m",
            "\u001b[0;31mNameError\u001b[0m                                 Traceback (most recent call last)",
            "\u001b[0;32m<ipython-input-24-4dd812d1031d>\u001b[0m in \u001b[0;36m<cell line: 2>\u001b[0;34m()\u001b[0m\n\u001b[1;32m      1\u001b[0m \u001b[0;31m# 4. Plot the training and validation loss after each iteration\u001b[0m\u001b[0;34m\u001b[0m\u001b[0;34m\u001b[0m\u001b[0m\n\u001b[0;32m----> 2\u001b[0;31m \u001b[0mplt\u001b[0m\u001b[0;34m.\u001b[0m\u001b[0mplot\u001b[0m\u001b[0;34m(\u001b[0m\u001b[0mlosses\u001b[0m\u001b[0;34m,\u001b[0m \u001b[0mlabel\u001b[0m\u001b[0;34m=\u001b[0m\u001b[0;34m\"training loss\"\u001b[0m\u001b[0;34m)\u001b[0m\u001b[0;34m\u001b[0m\u001b[0;34m\u001b[0m\u001b[0m\n\u001b[0m\u001b[1;32m      3\u001b[0m \u001b[0mplt\u001b[0m\u001b[0;34m.\u001b[0m\u001b[0mplot\u001b[0m\u001b[0;34m(\u001b[0m\u001b[0mval_losses\u001b[0m\u001b[0;34m,\u001b[0m \u001b[0mlabel\u001b[0m\u001b[0;34m=\u001b[0m\u001b[0;34m\"Validation Loss\"\u001b[0m\u001b[0;34m)\u001b[0m\u001b[0;34m\u001b[0m\u001b[0;34m\u001b[0m\u001b[0m\n\u001b[1;32m      4\u001b[0m \u001b[0mplt\u001b[0m\u001b[0;34m.\u001b[0m\u001b[0mxlabel\u001b[0m\u001b[0;34m(\u001b[0m\u001b[0;34m\"n number of epochs\"\u001b[0m\u001b[0;34m)\u001b[0m\u001b[0;34m\u001b[0m\u001b[0;34m\u001b[0m\u001b[0m\n\u001b[1;32m      5\u001b[0m \u001b[0mplt\u001b[0m\u001b[0;34m.\u001b[0m\u001b[0mylabel\u001b[0m\u001b[0;34m(\u001b[0m\u001b[0;34m\"loss\"\u001b[0m\u001b[0;34m)\u001b[0m\u001b[0;34m\u001b[0m\u001b[0;34m\u001b[0m\u001b[0m\n",
            "\u001b[0;31mNameError\u001b[0m: name 'losses' is not defined"
          ]
        }
      ],
      "source": [
        "# 4. Plot the training and validation loss after each iteration\n",
        "plt.plot(losses, label=\"training loss\")\n",
        "plt.plot(val_losses, label=\"Validation Loss\")\n",
        "plt.xlabel(\"n number of epochs\")\n",
        "plt.ylabel(\"loss\")\n",
        "plt.legend()\n",
        "plt.title(\"Loss over epochs\")\n",
        "plt.show()"
      ]
    }
  ],
  "metadata": {
    "colab": {
      "provenance": [],
      "authorship_tag": "ABX9TyNx++pLk4dp4ZCJKYQRx5kf",
      "include_colab_link": true
    },
    "kernelspec": {
      "display_name": "Python 3",
      "name": "python3"
    },
    "language_info": {
      "name": "python"
    }
  },
  "nbformat": 4,
  "nbformat_minor": 0
}