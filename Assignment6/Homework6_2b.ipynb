{
  "cells": [
    {
      "cell_type": "markdown",
      "metadata": {
        "id": "view-in-github",
        "colab_type": "text"
      },
      "source": [
        "<a href=\"https://colab.research.google.com/github/emilia-uncc/IntroML/blob/main/Assignment6/Homework6_2b.ipynb\" target=\"_parent\"><img src=\"https://colab.research.google.com/assets/colab-badge.svg\" alt=\"Open In Colab\"/></a>"
      ]
    },
    {
      "cell_type": "code",
      "execution_count": 1,
      "metadata": {
        "colab": {
          "base_uri": "https://localhost:8080/"
        },
        "id": "fhdKksuOfrTr",
        "outputId": "32d26235-0d8b-410e-b329-17e86f00131c"
      },
      "outputs": [
        {
          "output_type": "stream",
          "name": "stdout",
          "text": [
            "Mounted at /content/drive\n"
          ]
        }
      ],
      "source": [
        "import numpy as np\n",
        "import pandas as pd\n",
        "\n",
        "import matplotlib.pyplot as plt\n",
        "import seaborn as sns\n",
        "\n",
        "from sklearn.model_selection import train_test_split\n",
        "from sklearn.preprocessing import StandardScaler\n",
        "from sklearn.preprocessing import MinMaxScaler\n",
        "\n",
        "import torch\n",
        "import torch.optim as optim\n",
        "import torch.nn as nn\n",
        "from torch.autograd import Variable\n",
        "\n",
        "from torchvision import datasets\n",
        "from torchvision import transforms\n",
        "\n",
        "import datetime\n",
        "\n",
        "#mounting google drive\n",
        "from google.colab import drive\n",
        "drive.mount('/content/drive')"
      ]
    },
    {
      "cell_type": "code",
      "execution_count": 2,
      "metadata": {
        "colab": {
          "base_uri": "https://localhost:8080/"
        },
        "id": "TBi2v5o_ir8x",
        "outputId": "b5035233-3ffd-4f87-d5ea-292b4db9a28c"
      },
      "outputs": [
        {
          "output_type": "stream",
          "name": "stdout",
          "text": [
            "Files already downloaded and verified\n",
            "Files already downloaded and verified\n"
          ]
        }
      ],
      "source": [
        "data_path = '/content/drive/My Drive/DataSets/'\n",
        "cifar10 = datasets.CIFAR10(data_path,train=True,download=True, transform=transforms.ToTensor())\n",
        "cifar10_val = datasets.CIFAR10(data_path, train=False, download=True, transform = transforms.ToTensor())\n"
      ]
    },
    {
      "cell_type": "code",
      "execution_count": 3,
      "metadata": {
        "colab": {
          "base_uri": "https://localhost:8080/"
        },
        "id": "EoOm3G_Hi7Vp",
        "outputId": "2041c752-2302-40be-9bd5-d1c648d8709e"
      },
      "outputs": [
        {
          "output_type": "execute_result",
          "data": {
            "text/plain": [
              "50000"
            ]
          },
          "metadata": {},
          "execution_count": 3
        }
      ],
      "source": [
        "len(cifar10)"
      ]
    },
    {
      "cell_type": "code",
      "execution_count": 4,
      "metadata": {
        "colab": {
          "base_uri": "https://localhost:8080/",
          "height": 447
        },
        "id": "yWjDVskgpIST",
        "outputId": "4770ee4b-be9e-4137-8b2d-d15dfa2c2f9d"
      },
      "outputs": [
        {
          "output_type": "execute_result",
          "data": {
            "text/plain": [
              "<matplotlib.image.AxesImage at 0x7c835f0f4eb0>"
            ]
          },
          "metadata": {},
          "execution_count": 4
        },
        {
          "output_type": "display_data",
          "data": {
            "text/plain": [
              "<Figure size 640x480 with 1 Axes>"
            ],
            "image/png": "[encoded data removed]"
          },
          "metadata": {}
        }
      ],
      "source": [
        "img_t, _ = cifar10[99]\n",
        "img_t.shape\n",
        "plt.imshow(img_t.permute(1,2,0))"
      ]
    },
    {
      "cell_type": "code",
      "execution_count": 5,
      "metadata": {
        "colab": {
          "base_uri": "https://localhost:8080/"
        },
        "id": "CqJ5VsvYpZyI",
        "outputId": "eb8cb491-ee61-4ae1-a8f5-33345f3f4176"
      },
      "outputs": [
        {
          "output_type": "execute_result",
          "data": {
            "text/plain": [
              "torch.Size([3, 32, 32, 50000])"
            ]
          },
          "metadata": {},
          "execution_count": 5
        }
      ],
      "source": [
        "imgs = torch.stack([img_t for img_t, _ in cifar10], dim=3)\n",
        "imgs.shape"
      ]
    },
    {
      "cell_type": "code",
      "execution_count": 6,
      "metadata": {
        "colab": {
          "base_uri": "https://localhost:8080/"
        },
        "id": "1JKtPt-zq_0R",
        "outputId": "ffecb0e4-88b1-492f-b87e-cf2ad432524d"
      },
      "outputs": [
        {
          "output_type": "execute_result",
          "data": {
            "text/plain": [
              "tensor([0.2470, 0.2435, 0.2616])"
            ]
          },
          "metadata": {},
          "execution_count": 6
        }
      ],
      "source": [
        "imgs.view(3,-1).mean(dim=1)\n",
        "imgs.view(3,-1).std(dim=1)\n"
      ]
    },
    {
      "cell_type": "code",
      "execution_count": 7,
      "metadata": {
        "colab": {
          "base_uri": "https://localhost:8080/"
        },
        "id": "MMvVIV2es6W2",
        "outputId": "8a4008fd-c191-4dd0-93c0-1766875f0c19"
      },
      "outputs": [
        {
          "output_type": "execute_result",
          "data": {
            "text/plain": [
              "Normalize(mean=(0.4914, 0.4822, 0.4465), std=(0.247, 0.2435, 0.2616))"
            ]
          },
          "metadata": {},
          "execution_count": 7
        }
      ],
      "source": [
        "transforms.Normalize((0.4914, 0.4822, 0.4465),(0.2470, 0.2435, 0.2616))"
      ]
    },
    {
      "cell_type": "code",
      "execution_count": 8,
      "metadata": {
        "id": "g6mrHAQPtGlL"
      },
      "outputs": [],
      "source": [
        "transformed_cifar10 = datasets.CIFAR10(data_path, train=True,download=False,\n",
        "                                       transform = transforms.Compose([\n",
        "                                          transforms.ToTensor(),\n",
        "                                          transforms.Normalize((0.4914, 0.4822, 0.4465),(0.2470, 0.2435, 0.2616))]))\n",
        "transformed_cifar10_val = datasets.CIFAR10(data_path, train=False,download=False,\n",
        "                                       transform = transforms.Compose([\n",
        "                                          transforms.ToTensor(),\n",
        "                                          transforms.Normalize((0.4914, 0.4822, 0.4465),(0.2470, 0.2435, 0.2616))]))"
      ]
    },
    {
      "cell_type": "code",
      "execution_count": 9,
      "metadata": {
        "colab": {
          "base_uri": "https://localhost:8080/",
          "height": 447
        },
        "id": "jGjDCBPqt_mQ",
        "outputId": "3eec38d3-ecd1-4ef9-a532-fb74340f5b67"
      },
      "outputs": [
        {
          "output_type": "stream",
          "name": "stderr",
          "text": [
            "WARNING:matplotlib.image:Clipping input data to the valid range for imshow with RGB data ([0..1] for floats or [0..255] for integers).\n"
          ]
        },
        {
          "output_type": "display_data",
          "data": {
            "text/plain": [
              "<Figure size 640x480 with 1 Axes>"
            ],
            "image/png": "[encoded data removed]"
          },
          "metadata": {}
        }
      ],
      "source": [
        "img_t, _ = transformed_cifar10[99]\n",
        "plt.imshow(img_t.permute(1,2,0))\n",
        "plt.show()"
      ]
    },
    {
      "cell_type": "code",
      "execution_count": 10,
      "metadata": {
        "id": "hP_oVCWdyWeI"
      },
      "outputs": [],
      "source": [
        "model = nn.Sequential(nn.Linear(3072, 512),\n",
        "                      nn.Tanh(),\n",
        "                      nn.Linear(512, 824),\n",
        "                      nn.Tanh(),\n",
        "                      nn.Linear(824, 204),\n",
        "                      nn.Tanh(),\n",
        "                      nn.Linear(204, 10),\n",
        "                      nn.LogSoftmax(dim=1))\n",
        "\n"
      ]
    },
    {
      "cell_type": "code",
      "execution_count": 11,
      "metadata": {
        "colab": {
          "base_uri": "https://localhost:8080/"
        },
        "id": "dPz3urA8zfoQ",
        "outputId": "4c9aaffe-d4ea-489b-f0b7-23061884d343"
      },
      "outputs": [
        {
          "output_type": "execute_result",
          "data": {
            "text/plain": [
              "tensor(2.3628, grad_fn=<NllLossBackward0>)"
            ]
          },
          "metadata": {},
          "execution_count": 11
        }
      ],
      "source": [
        "loss = nn.NLLLoss()\n",
        "img, label = transformed_cifar10[99]\n",
        "out = model(img.view(-1).unsqueeze(0))\n",
        "loss(out, torch.tensor([label]))"
      ]
    },
    {
      "cell_type": "code",
      "execution_count": 12,
      "metadata": {
        "colab": {
          "base_uri": "https://localhost:8080/"
        },
        "id": "MBYq9ZGi0v1k",
        "outputId": "8ef7f155-a629-45f0-bd9b-0aa7167b42b1"
      },
      "outputs": [
        {
          "output_type": "stream",
          "name": "stdout",
          "text": [
            "Epoch: 0, Loss: 1.740884\n",
            "Epoch: 1, Loss: 1.875553\n",
            "Epoch: 2, Loss: 1.867289\n",
            "Epoch: 3, Loss: 1.931316\n",
            "Epoch: 4, Loss: 1.471240\n",
            "Epoch: 5, Loss: 1.691248\n",
            "Epoch: 6, Loss: 1.752934\n",
            "Epoch: 7, Loss: 1.028951\n",
            "Epoch: 8, Loss: 1.622739\n",
            "Epoch: 9, Loss: 1.254174\n",
            "Epoch: 10, Loss: 1.574593\n",
            "Epoch: 11, Loss: 1.447330\n",
            "Epoch: 12, Loss: 1.361003\n",
            "Epoch: 13, Loss: 1.011914\n",
            "Epoch: 14, Loss: 1.729976\n",
            "Epoch: 15, Loss: 1.307480\n",
            "Epoch: 16, Loss: 1.347102\n",
            "Epoch: 17, Loss: 1.861007\n",
            "Epoch: 18, Loss: 1.144588\n",
            "Epoch: 19, Loss: 1.141729\n",
            "Epoch: 20, Loss: 0.893153\n",
            "Epoch: 21, Loss: 0.582399\n",
            "Epoch: 22, Loss: 0.852239\n",
            "Epoch: 23, Loss: 0.751255\n",
            "Epoch: 24, Loss: 0.964421\n",
            "Epoch: 25, Loss: 0.482929\n",
            "Epoch: 26, Loss: 0.692149\n",
            "Epoch: 27, Loss: 0.866320\n",
            "Epoch: 28, Loss: 0.745461\n",
            "Epoch: 29, Loss: 0.837107\n",
            "Epoch: 30, Loss: 0.441467\n",
            "Epoch: 31, Loss: 0.547904\n",
            "Epoch: 32, Loss: 0.350692\n",
            "Epoch: 33, Loss: 0.347153\n",
            "Epoch: 34, Loss: 0.155035\n",
            "Epoch: 35, Loss: 0.196920\n",
            "Epoch: 36, Loss: 0.364984\n",
            "Epoch: 37, Loss: 0.328635\n",
            "Epoch: 38, Loss: 1.241861\n",
            "Epoch: 39, Loss: 0.391924\n",
            "Epoch: 40, Loss: 0.515764\n",
            "Epoch: 41, Loss: 0.240761\n",
            "Epoch: 42, Loss: 0.321381\n",
            "Epoch: 43, Loss: 0.083593\n",
            "Epoch: 44, Loss: 0.071901\n",
            "Epoch: 45, Loss: 0.119376\n",
            "Epoch: 46, Loss: 0.103554\n",
            "Epoch: 47, Loss: 0.037555\n",
            "Epoch: 48, Loss: 0.056751\n",
            "Epoch: 49, Loss: 0.053740\n",
            "Epoch: 50, Loss: 0.095713\n",
            "Epoch: 51, Loss: 0.187805\n",
            "Epoch: 52, Loss: 0.213339\n",
            "Epoch: 53, Loss: 0.034851\n",
            "Epoch: 54, Loss: 0.053642\n",
            "Epoch: 55, Loss: 0.024318\n",
            "Epoch: 56, Loss: 0.071196\n",
            "Epoch: 57, Loss: 0.008654\n",
            "Epoch: 58, Loss: 0.005245\n",
            "Epoch: 59, Loss: 0.012328\n",
            "Epoch: 60, Loss: 0.008140\n",
            "Epoch: 61, Loss: 0.007256\n",
            "Epoch: 62, Loss: 0.036285\n",
            "Epoch: 63, Loss: 0.011780\n",
            "Epoch: 64, Loss: 0.024253\n",
            "Epoch: 65, Loss: 0.004345\n",
            "Epoch: 66, Loss: 0.004064\n",
            "Epoch: 67, Loss: 0.005810\n",
            "Epoch: 68, Loss: 0.042017\n",
            "Epoch: 69, Loss: 0.813764\n",
            "Epoch: 70, Loss: 0.059176\n",
            "Epoch: 71, Loss: 0.017899\n",
            "Epoch: 72, Loss: 0.008755\n",
            "Epoch: 73, Loss: 0.011722\n",
            "Epoch: 74, Loss: 0.007977\n",
            "Epoch: 75, Loss: 0.003389\n",
            "Epoch: 76, Loss: 0.003130\n",
            "Epoch: 77, Loss: 0.012484\n",
            "Epoch: 78, Loss: 0.004778\n",
            "Epoch: 79, Loss: 0.001978\n",
            "Epoch: 80, Loss: 0.002529\n",
            "Epoch: 81, Loss: 0.003689\n",
            "Epoch: 82, Loss: 0.001997\n",
            "Epoch: 83, Loss: 0.004158\n",
            "Epoch: 84, Loss: 0.002279\n",
            "Epoch: 85, Loss: 0.003056\n",
            "Epoch: 86, Loss: 0.002622\n",
            "Epoch: 87, Loss: 0.001403\n",
            "Epoch: 88, Loss: 0.001614\n",
            "Epoch: 89, Loss: 0.003010\n",
            "Epoch: 90, Loss: 0.001688\n",
            "Epoch: 91, Loss: 0.002387\n",
            "Epoch: 92, Loss: 0.002092\n",
            "Epoch: 93, Loss: 0.004114\n",
            "Epoch: 94, Loss: 0.000948\n",
            "Epoch: 95, Loss: 0.001417\n",
            "Epoch: 96, Loss: 0.001011\n",
            "Epoch: 97, Loss: 0.000997\n",
            "Epoch: 98, Loss: 0.002727\n",
            "Epoch: 99, Loss: 0.001721\n",
            "Epoch: 100, Loss: 0.001138\n",
            "Epoch: 101, Loss: 0.001742\n",
            "Epoch: 102, Loss: 0.000609\n",
            "Epoch: 103, Loss: 0.002040\n",
            "Epoch: 104, Loss: 0.001427\n",
            "Epoch: 105, Loss: 0.000974\n",
            "Epoch: 106, Loss: 0.002634\n",
            "Epoch: 107, Loss: 0.001643\n",
            "Epoch: 108, Loss: 0.000848\n",
            "Epoch: 109, Loss: 0.001280\n",
            "Epoch: 110, Loss: 0.001595\n",
            "Epoch: 111, Loss: 0.001151\n",
            "Epoch: 112, Loss: 0.000817\n",
            "Epoch: 113, Loss: 0.001251\n",
            "Epoch: 114, Loss: 0.002896\n",
            "Epoch: 115, Loss: 0.001008\n",
            "Epoch: 116, Loss: 0.000524\n",
            "Epoch: 117, Loss: 0.000517\n",
            "Epoch: 118, Loss: 0.000416\n",
            "Epoch: 119, Loss: 0.000669\n",
            "Epoch: 120, Loss: 0.000818\n",
            "Epoch: 121, Loss: 0.000515\n",
            "Epoch: 122, Loss: 0.000458\n",
            "Epoch: 123, Loss: 0.000505\n",
            "Epoch: 124, Loss: 0.000878\n",
            "Epoch: 125, Loss: 0.000989\n",
            "Epoch: 126, Loss: 0.001522\n",
            "Epoch: 127, Loss: 0.000584\n",
            "Epoch: 128, Loss: 0.000554\n",
            "Epoch: 129, Loss: 0.000728\n",
            "Epoch: 130, Loss: 0.000937\n",
            "Epoch: 131, Loss: 0.000843\n",
            "Epoch: 132, Loss: 0.000995\n",
            "Epoch: 133, Loss: 0.001374\n",
            "Epoch: 134, Loss: 0.000619\n",
            "Epoch: 135, Loss: 0.000853\n",
            "Epoch: 136, Loss: 0.000863\n",
            "Epoch: 137, Loss: 0.001092\n",
            "Epoch: 138, Loss: 0.000594\n",
            "Epoch: 139, Loss: 0.000955\n",
            "Epoch: 140, Loss: 0.000658\n",
            "Epoch: 141, Loss: 0.001010\n",
            "Epoch: 142, Loss: 0.000622\n",
            "Epoch: 143, Loss: 0.000630\n",
            "Epoch: 144, Loss: 0.001652\n",
            "Epoch: 145, Loss: 0.000840\n",
            "Epoch: 146, Loss: 0.000656\n",
            "Epoch: 147, Loss: 0.000668\n",
            "Epoch: 148, Loss: 0.001090\n",
            "Epoch: 149, Loss: 0.000550\n",
            "Epoch: 150, Loss: 0.000365\n",
            "Epoch: 151, Loss: 0.000553\n",
            "Epoch: 152, Loss: 0.000306\n",
            "Epoch: 153, Loss: 0.000708\n",
            "Epoch: 154, Loss: 0.000782\n",
            "Epoch: 155, Loss: 0.000396\n",
            "Epoch: 156, Loss: 0.000896\n",
            "Epoch: 157, Loss: 0.000870\n",
            "Epoch: 158, Loss: 0.000647\n",
            "Epoch: 159, Loss: 0.000992\n",
            "Epoch: 160, Loss: 0.000299\n",
            "Epoch: 161, Loss: 0.000473\n",
            "Epoch: 162, Loss: 0.000936\n",
            "Epoch: 163, Loss: 0.000643\n",
            "Epoch: 164, Loss: 0.000294\n",
            "Epoch: 165, Loss: 0.000394\n",
            "Epoch: 166, Loss: 0.000350\n",
            "Epoch: 167, Loss: 0.000261\n",
            "Epoch: 168, Loss: 0.000337\n",
            "Epoch: 169, Loss: 0.000512\n",
            "Epoch: 170, Loss: 0.000641\n",
            "Epoch: 171, Loss: 0.000828\n",
            "Epoch: 172, Loss: 0.000585\n",
            "Epoch: 173, Loss: 0.000866\n",
            "Epoch: 174, Loss: 0.000751\n",
            "Epoch: 175, Loss: 0.000539\n",
            "Epoch: 176, Loss: 0.000752\n",
            "Epoch: 177, Loss: 0.000497\n",
            "Epoch: 178, Loss: 0.000411\n",
            "Epoch: 179, Loss: 0.000410\n",
            "Epoch: 180, Loss: 0.000724\n",
            "Epoch: 181, Loss: 0.001230\n",
            "Epoch: 182, Loss: 0.000363\n",
            "Epoch: 183, Loss: 0.000773\n",
            "Epoch: 184, Loss: 0.000387\n",
            "Epoch: 185, Loss: 0.000401\n",
            "Epoch: 186, Loss: 0.000247\n",
            "Epoch: 187, Loss: 0.001024\n",
            "Epoch: 188, Loss: 0.000528\n",
            "Epoch: 189, Loss: 0.000357\n",
            "Epoch: 190, Loss: 0.000759\n",
            "Epoch: 191, Loss: 0.000595\n",
            "Epoch: 192, Loss: 0.000529\n",
            "Epoch: 193, Loss: 0.000317\n",
            "Epoch: 194, Loss: 0.000436\n",
            "Epoch: 195, Loss: 0.000513\n",
            "Epoch: 196, Loss: 0.000178\n",
            "Epoch: 197, Loss: 0.000705\n",
            "Epoch: 198, Loss: 0.000285\n",
            "Epoch: 199, Loss: 0.000802\n",
            "Epoch: 200, Loss: 0.000254\n",
            "Epoch: 201, Loss: 0.000555\n",
            "Epoch: 202, Loss: 0.000515\n",
            "Epoch: 203, Loss: 0.000415\n",
            "Epoch: 204, Loss: 0.000547\n",
            "Epoch: 205, Loss: 0.000615\n",
            "Epoch: 206, Loss: 0.000860\n",
            "Epoch: 207, Loss: 0.000510\n",
            "Epoch: 208, Loss: 0.000732\n",
            "Epoch: 209, Loss: 0.000444\n",
            "Epoch: 210, Loss: 0.000200\n",
            "Epoch: 211, Loss: 0.000661\n",
            "Epoch: 212, Loss: 0.000380\n",
            "Epoch: 213, Loss: 0.000425\n",
            "Epoch: 214, Loss: 0.000422\n",
            "Epoch: 215, Loss: 0.000145\n",
            "Epoch: 216, Loss: 0.000179\n",
            "Epoch: 217, Loss: 0.000264\n",
            "Epoch: 218, Loss: 0.000547\n",
            "Epoch: 219, Loss: 0.000356\n",
            "Epoch: 220, Loss: 0.000648\n",
            "Epoch: 221, Loss: 0.000351\n",
            "Epoch: 222, Loss: 0.000306\n",
            "Epoch: 223, Loss: 0.000340\n",
            "Epoch: 224, Loss: 0.000360\n",
            "Epoch: 225, Loss: 0.000330\n",
            "Epoch: 226, Loss: 0.000398\n",
            "Epoch: 227, Loss: 0.000506\n",
            "Epoch: 228, Loss: 0.000190\n",
            "Epoch: 229, Loss: 0.000228\n",
            "Epoch: 230, Loss: 0.000647\n",
            "Epoch: 231, Loss: 0.000285\n",
            "Epoch: 232, Loss: 0.000523\n",
            "Epoch: 233, Loss: 0.000388\n",
            "Epoch: 234, Loss: 0.000179\n",
            "Epoch: 235, Loss: 0.000327\n",
            "Epoch: 236, Loss: 0.000314\n",
            "Epoch: 237, Loss: 0.000501\n",
            "Epoch: 238, Loss: 0.000230\n",
            "Epoch: 239, Loss: 0.000361\n",
            "Epoch: 240, Loss: 0.000200\n",
            "Epoch: 241, Loss: 0.000188\n",
            "Epoch: 242, Loss: 0.000393\n",
            "Epoch: 243, Loss: 0.000235\n",
            "Epoch: 244, Loss: 0.000606\n",
            "Epoch: 245, Loss: 0.000480\n",
            "Epoch: 246, Loss: 0.000360\n",
            "Epoch: 247, Loss: 0.000218\n",
            "Epoch: 248, Loss: 0.000337\n",
            "Epoch: 249, Loss: 0.000330\n",
            "Epoch: 250, Loss: 0.000238\n",
            "Epoch: 251, Loss: 0.000173\n",
            "Epoch: 252, Loss: 0.000473\n",
            "Epoch: 253, Loss: 0.000296\n",
            "Epoch: 254, Loss: 0.000247\n",
            "Epoch: 255, Loss: 0.000278\n",
            "Epoch: 256, Loss: 0.000294\n",
            "Epoch: 257, Loss: 0.000296\n",
            "Epoch: 258, Loss: 0.000273\n",
            "Epoch: 259, Loss: 0.000600\n",
            "Epoch: 260, Loss: 0.000374\n",
            "Epoch: 261, Loss: 0.000333\n",
            "Epoch: 262, Loss: 0.000355\n",
            "Epoch: 263, Loss: 0.000809\n",
            "Epoch: 264, Loss: 0.000358\n",
            "Epoch: 265, Loss: 0.000148\n",
            "Epoch: 266, Loss: 0.000393\n",
            "Epoch: 267, Loss: 0.000230\n",
            "Epoch: 268, Loss: 0.000201\n",
            "Epoch: 269, Loss: 0.000211\n",
            "Epoch: 270, Loss: 0.000496\n",
            "Epoch: 271, Loss: 0.000283\n",
            "Epoch: 272, Loss: 0.000372\n",
            "Epoch: 273, Loss: 0.000444\n",
            "Epoch: 274, Loss: 0.000215\n",
            "Epoch: 275, Loss: 0.000315\n",
            "Epoch: 276, Loss: 0.000316\n",
            "Epoch: 277, Loss: 0.000441\n",
            "Epoch: 278, Loss: 0.000415\n",
            "Epoch: 279, Loss: 0.000166\n",
            "Epoch: 280, Loss: 0.000301\n",
            "Epoch: 281, Loss: 0.000188\n",
            "Epoch: 282, Loss: 0.000277\n",
            "Epoch: 283, Loss: 0.000301\n",
            "Epoch: 284, Loss: 0.000320\n",
            "Epoch: 285, Loss: 0.000267\n",
            "Epoch: 286, Loss: 0.000292\n",
            "Epoch: 287, Loss: 0.000222\n",
            "Epoch: 288, Loss: 0.000433\n",
            "Epoch: 289, Loss: 0.000681\n",
            "Epoch: 290, Loss: 0.000488\n",
            "Epoch: 291, Loss: 0.000298\n",
            "Epoch: 292, Loss: 0.000326\n",
            "Epoch: 293, Loss: 0.000312\n",
            "Epoch: 294, Loss: 0.000288\n",
            "Epoch: 295, Loss: 0.000201\n",
            "Epoch: 296, Loss: 0.000185\n",
            "Epoch: 297, Loss: 0.000208\n",
            "Epoch: 298, Loss: 0.000328\n",
            "Epoch: 299, Loss: 0.000188\n"
          ]
        }
      ],
      "source": [
        "learning_rate = 1e-2\n",
        "optimizer = optim.SGD(model.parameters(), lr=learning_rate)\n",
        "train_loader = torch.utils.data.DataLoader(transformed_cifar10, batch_size = 64, shuffle=True)\n",
        "\n",
        "loss_fn = nn.NLLLoss()\n",
        "n_epochs = 300\n",
        "losses = []\n",
        "start = datetime.datetime.now()\n",
        "for epoch in range(n_epochs):\n",
        "  for imgs, labels in train_loader:\n",
        "    batch_size = imgs.shape[0]\n",
        "    outputs = model(imgs.view(batch_size, -1))\n",
        "    loss = loss_fn(outputs, labels)\n",
        "\n",
        "    optimizer.zero_grad()\n",
        "    loss.backward()\n",
        "    optimizer.step()\n",
        "\n",
        "  print(\"Epoch: %d, Loss: %f\" % (epoch, float(loss)))\n",
        "  losses.append(loss.item())\n",
        "\n",
        "end = datetime.datetime.now()"
      ]
    },
    {
      "cell_type": "code",
      "execution_count": 17,
      "metadata": {
        "id": "kskDpbEC6SBf",
        "colab": {
          "base_uri": "https://localhost:8080/"
        },
        "outputId": "e896d26c-f01f-4847-f9c5-ee5a0f1d2a7a"
      },
      "outputs": [
        {
          "output_type": "stream",
          "name": "stdout",
          "text": [
            "Training time:  2:14:27.003867\n"
          ]
        }
      ],
      "source": [
        "time = end-start\n",
        "print(\"Training time: \", str(time))"
      ]
    },
    {
      "cell_type": "code",
      "execution_count": 14,
      "metadata": {
        "id": "sGCX2evd4Lr6",
        "colab": {
          "base_uri": "https://localhost:8080/"
        },
        "outputId": "bbe3b8f2-f11b-4ef5-e21b-dd97df02b99e"
      },
      "outputs": [
        {
          "output_type": "stream",
          "name": "stdout",
          "text": [
            "Accuracy validation: 0.452600\n"
          ]
        }
      ],
      "source": [
        "val_loader = torch.utils.data.DataLoader(transformed_cifar10_val, batch_size=64,\n",
        "  shuffle=False)\n",
        "correct = 0\n",
        "total = 0\n",
        "val_losses = []\n",
        "with torch.no_grad():\n",
        "    for imgs, labels in val_loader:\n",
        "        batch_size = imgs.shape[0]\n",
        "        outputs = model(imgs.view(batch_size, -1))\n",
        "        loss = loss_fn(outputs, labels)\n",
        "        val_losses.append(loss.item())\n",
        "        _, predicted = torch.max(outputs, dim=1)\n",
        "        total += labels.shape[0]\n",
        "        correct += int((predicted == labels).sum())\n",
        "print(\"Accuracy validation: %f\" % (correct / total))\n"
      ]
    },
    {
      "cell_type": "code",
      "source": [
        "#Training set accuracy\n",
        "train_loader = torch.utils.data.DataLoader(transformed_cifar10, batch_size=64, shuffle=False)\n",
        "correct = 0\n",
        "total = 0\n",
        "with torch.no_grad():\n",
        "    for imgs, labels in train_loader:\n",
        "        outputs = model(imgs.view(imgs.shape[0], -1))\n",
        "        _, predicted = torch.max(outputs, dim=1)\n",
        "        total += labels.shape[0]\n",
        "        correct += int((predicted == labels).sum())\n",
        "\n",
        "print(\"Accuracy training: %f\" % (correct / total))"
      ],
      "metadata": {
        "colab": {
          "base_uri": "https://localhost:8080/"
        },
        "id": "WArG5JnFMuWh",
        "outputId": "a1513e14-6311-484a-ecd6-7ac5f80aae25"
      },
      "execution_count": 15,
      "outputs": [
        {
          "output_type": "stream",
          "name": "stdout",
          "text": [
            "Accuracy training: 1.000000\n"
          ]
        }
      ]
    },
    {
      "cell_type": "code",
      "execution_count": 16,
      "metadata": {
        "id": "JVd2XR3LKx9w",
        "colab": {
          "base_uri": "https://localhost:8080/",
          "height": 472
        },
        "outputId": "86e42a90-dc5a-42e8-9cf9-18a123ebcbaa"
      },
      "outputs": [
        {
          "output_type": "display_data",
          "data": {
            "text/plain": [
              "<Figure size 640x480 with 1 Axes>"
            ],
            "image/png": "[encoded data removed]"
          },
          "metadata": {}
        }
      ],
      "source": [
        "# 4. Plot the training and validation loss after each iteration\n",
        "plt.plot(losses, label=\"training loss\")\n",
        "plt.plot(val_losses, label=\"Validation Loss\")\n",
        "plt.xlabel(\"n number of epochs\")\n",
        "plt.ylabel(\"loss\")\n",
        "plt.legend()\n",
        "plt.title(\"Loss over epochs\")\n",
        "plt.show()"
      ]
    }
  ],
  "metadata": {
    "colab": {
      "provenance": [],
      "authorship_tag": "ABX9TyMjYduFWmFpwF+Fn840RE62",
      "include_colab_link": true
    },
    "kernelspec": {
      "display_name": "Python 3",
      "name": "python3"
    },
    "language_info": {
      "name": "python"
    }
  },
  "nbformat": 4,
  "nbformat_minor": 0
}