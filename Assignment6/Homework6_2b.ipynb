{
  "cells": [
    {
      "cell_type": "markdown",
      "metadata": {
        "id": "view-in-github",
        "colab_type": "text"
      },
      "source": [
        "<a href=\"https://colab.research.google.com/github/emilia-uncc/IntroML/blob/main/Assignment6/Homework6_2b.ipynb\" target=\"_parent\"><img src=\"https://colab.research.google.com/assets/colab-badge.svg\" alt=\"Open In Colab\"/></a>"
      ]
    },
    {
      "cell_type": "code",
      "execution_count": 2,
      "metadata": {
        "colab": {
          "base_uri": "https://localhost:8080/"
        },
        "id": "fhdKksuOfrTr",
        "outputId": "039a92e3-f2bf-4908-eef0-b19f9ab97954"
      },
      "outputs": [
        {
          "output_type": "stream",
          "name": "stdout",
          "text": [
            "Mounted at /content/drive\n"
          ]
        }
      ],
      "source": [
        "import numpy as np\n",
        "import pandas as pd\n",
        "\n",
        "import matplotlib.pyplot as plt\n",
        "import seaborn as sns\n",
        "\n",
        "from sklearn.model_selection import train_test_split\n",
        "from sklearn.preprocessing import StandardScaler\n",
        "from sklearn.preprocessing import MinMaxScaler\n",
        "\n",
        "import torch\n",
        "import torch.optim as optim\n",
        "import torch.nn as nn\n",
        "from torch.autograd import Variable\n",
        "\n",
        "from torchvision import datasets\n",
        "from torchvision import transforms\n",
        "\n",
        "import datetime\n",
        "\n",
        "#mounting google drive\n",
        "from google.colab import drive\n",
        "drive.mount('/content/drive')"
      ]
    },
    {
      "cell_type": "code",
      "execution_count": 3,
      "metadata": {
        "colab": {
          "base_uri": "https://localhost:8080/"
        },
        "id": "TBi2v5o_ir8x",
        "outputId": "90e74eaf-6b7e-4ace-fbdf-6edf46b27117"
      },
      "outputs": [
        {
          "output_type": "stream",
          "name": "stdout",
          "text": [
            "Files already downloaded and verified\n",
            "Files already downloaded and verified\n"
          ]
        }
      ],
      "source": [
        "data_path = '/content/drive/My Drive/DataSets/'\n",
        "cifar10 = datasets.CIFAR10(data_path,train=True,download=True, transform=transforms.ToTensor())\n",
        "cifar10_val = datasets.CIFAR10(data_path, train=False, download=True, transform = transforms.ToTensor())\n"
      ]
    },
    {
      "cell_type": "code",
      "execution_count": 4,
      "metadata": {
        "colab": {
          "base_uri": "https://localhost:8080/"
        },
        "id": "EoOm3G_Hi7Vp",
        "outputId": "48257aeb-ae1e-495c-82b8-11f21dd555af"
      },
      "outputs": [
        {
          "output_type": "execute_result",
          "data": {
            "text/plain": [
              "50000"
            ]
          },
          "metadata": {},
          "execution_count": 4
        }
      ],
      "source": [
        "len(cifar10)"
      ]
    },
    {
      "cell_type": "code",
      "execution_count": 5,
      "metadata": {
        "colab": {
          "base_uri": "https://localhost:8080/",
          "height": 447
        },
        "id": "yWjDVskgpIST",
        "outputId": "da2c9dcd-fb1b-41e0-d7a5-66d9617e223e"
      },
      "outputs": [
        {
          "output_type": "execute_result",
          "data": {
            "text/plain": [
              "<matplotlib.image.AxesImage at 0x7821ddf7c730>"
            ]
          },
          "metadata": {},
          "execution_count": 5
        },
        {
          "output_type": "display_data",
          "data": {
            "text/plain": [
              "<Figure size 640x480 with 1 Axes>"
            ],
            "image/png": "[encoded data removed]"
          },
          "metadata": {}
        }
      ],
      "source": [
        "img_t, _ = cifar10[99]\n",
        "img_t.shape\n",
        "plt.imshow(img_t.permute(1,2,0))"
      ]
    },
    {
      "cell_type": "code",
      "execution_count": 6,
      "metadata": {
        "colab": {
          "base_uri": "https://localhost:8080/"
        },
        "id": "CqJ5VsvYpZyI",
        "outputId": "5bb055f3-2fe9-478d-d188-32bc159ea3d9"
      },
      "outputs": [
        {
          "output_type": "execute_result",
          "data": {
            "text/plain": [
              "torch.Size([3, 32, 32, 50000])"
            ]
          },
          "metadata": {},
          "execution_count": 6
        }
      ],
      "source": [
        "imgs = torch.stack([img_t for img_t, _ in cifar10], dim=3)\n",
        "imgs.shape"
      ]
    },
    {
      "cell_type": "code",
      "execution_count": 7,
      "metadata": {
        "colab": {
          "base_uri": "https://localhost:8080/"
        },
        "id": "1JKtPt-zq_0R",
        "outputId": "1ccc7e23-9724-44d5-f9d3-646ace074b8f"
      },
      "outputs": [
        {
          "output_type": "execute_result",
          "data": {
            "text/plain": [
              "tensor([0.2470, 0.2435, 0.2616])"
            ]
          },
          "metadata": {},
          "execution_count": 7
        }
      ],
      "source": [
        "imgs.view(3,-1).mean(dim=1)\n",
        "imgs.view(3,-1).std(dim=1)\n"
      ]
    },
    {
      "cell_type": "code",
      "execution_count": 8,
      "metadata": {
        "colab": {
          "base_uri": "https://localhost:8080/"
        },
        "id": "MMvVIV2es6W2",
        "outputId": "c200a89b-fde3-4b38-c1e2-2719b778681c"
      },
      "outputs": [
        {
          "output_type": "execute_result",
          "data": {
            "text/plain": [
              "Normalize(mean=(0.4914, 0.4822, 0.4465), std=(0.247, 0.2435, 0.2616))"
            ]
          },
          "metadata": {},
          "execution_count": 8
        }
      ],
      "source": [
        "transforms.Normalize((0.4914, 0.4822, 0.4465),(0.2470, 0.2435, 0.2616))"
      ]
    },
    {
      "cell_type": "code",
      "execution_count": 9,
      "metadata": {
        "id": "g6mrHAQPtGlL"
      },
      "outputs": [],
      "source": [
        "transformed_cifar10 = datasets.CIFAR10(data_path, train=True,download=False,\n",
        "                                       transform = transforms.Compose([\n",
        "                                          transforms.ToTensor(),\n",
        "                                          transforms.Normalize((0.4914, 0.4822, 0.4465),(0.2470, 0.2435, 0.2616))]))\n",
        "transformed_cifar10_val = datasets.CIFAR10(data_path, train=False,download=False,\n",
        "                                       transform = transforms.Compose([\n",
        "                                          transforms.ToTensor(),\n",
        "                                          transforms.Normalize((0.4914, 0.4822, 0.4465),(0.2470, 0.2435, 0.2616))]))"
      ]
    },
    {
      "cell_type": "code",
      "execution_count": 10,
      "metadata": {
        "colab": {
          "base_uri": "https://localhost:8080/",
          "height": 447
        },
        "id": "jGjDCBPqt_mQ",
        "outputId": "f8af67f6-a034-41cb-964d-7ba8b2944bff"
      },
      "outputs": [
        {
          "output_type": "stream",
          "name": "stderr",
          "text": [
            "WARNING:matplotlib.image:Clipping input data to the valid range for imshow with RGB data ([0..1] for floats or [0..255] for integers).\n"
          ]
        },
        {
          "output_type": "display_data",
          "data": {
            "text/plain": [
              "<Figure size 640x480 with 1 Axes>"
            ],
            "image/png": "[encoded data removed]"
          },
          "metadata": {}
        }
      ],
      "source": [
        "img_t, _ = transformed_cifar10[99]\n",
        "plt.imshow(img_t.permute(1,2,0))\n",
        "plt.show()"
      ]
    },
    {
      "cell_type": "code",
      "execution_count": 11,
      "metadata": {
        "id": "hP_oVCWdyWeI"
      },
      "outputs": [],
      "source": [
        "model = nn.Sequential(nn.Linear(3072, 512),\n",
        "                      nn.Tanh(),\n",
        "                      nn.Linear(512, 824),\n",
        "                      nn.Tanh(),\n",
        "                      nn.Linear(824, 204),\n",
        "                      nn.Tanh(),\n",
        "                      nn.Linear(204, 10),\n",
        "                      nn.LogSoftmax(dim=1))\n",
        "\n"
      ]
    },
    {
      "cell_type": "code",
      "execution_count": 12,
      "metadata": {
        "colab": {
          "base_uri": "https://localhost:8080/"
        },
        "id": "dPz3urA8zfoQ",
        "outputId": "f4adb942-3239-4cf8-c1a5-af72b869e8b1"
      },
      "outputs": [
        {
          "output_type": "execute_result",
          "data": {
            "text/plain": [
              "tensor(2.2878, grad_fn=<NllLossBackward0>)"
            ]
          },
          "metadata": {},
          "execution_count": 12
        }
      ],
      "source": [
        "loss = nn.NLLLoss()\n",
        "img, label = transformed_cifar10[99]\n",
        "out = model(img.view(-1).unsqueeze(0))\n",
        "loss(out, torch.tensor([label]))"
      ]
    },
    {
      "cell_type": "code",
      "execution_count": 13,
      "metadata": {
        "colab": {
          "base_uri": "https://localhost:8080/"
        },
        "id": "MBYq9ZGi0v1k",
        "outputId": "876131c7-9841-489d-f46b-571feb0004b6"
      },
      "outputs": [
        {
          "output_type": "stream",
          "name": "stdout",
          "text": [
            "Epoch: 0, Loss: 1.661129\n",
            "Epoch: 1, Loss: 1.988890\n",
            "Epoch: 2, Loss: 1.479197\n",
            "Epoch: 3, Loss: 1.869405\n",
            "Epoch: 4, Loss: 1.350256\n",
            "Epoch: 5, Loss: 1.136164\n",
            "Epoch: 6, Loss: 1.421659\n",
            "Epoch: 7, Loss: 1.751682\n",
            "Epoch: 8, Loss: 1.256218\n",
            "Epoch: 9, Loss: 1.967656\n",
            "Epoch: 10, Loss: 1.191949\n",
            "Epoch: 11, Loss: 0.727974\n",
            "Epoch: 12, Loss: 1.110419\n",
            "Epoch: 13, Loss: 1.192120\n",
            "Epoch: 14, Loss: 0.854877\n",
            "Epoch: 15, Loss: 1.434896\n",
            "Epoch: 16, Loss: 1.376773\n",
            "Epoch: 17, Loss: 1.084371\n",
            "Epoch: 18, Loss: 1.278557\n",
            "Epoch: 19, Loss: 1.371165\n",
            "Epoch: 20, Loss: 0.466708\n",
            "Epoch: 21, Loss: 0.808133\n",
            "Epoch: 22, Loss: 0.457570\n",
            "Epoch: 23, Loss: 0.601291\n",
            "Epoch: 24, Loss: 0.551340\n",
            "Epoch: 25, Loss: 0.922112\n",
            "Epoch: 26, Loss: 0.700343\n",
            "Epoch: 27, Loss: 0.236352\n",
            "Epoch: 28, Loss: 0.288860\n",
            "Epoch: 29, Loss: 0.222116\n",
            "Epoch: 30, Loss: 0.326405\n",
            "Epoch: 31, Loss: 0.469678\n",
            "Epoch: 32, Loss: 0.183828\n",
            "Epoch: 33, Loss: 0.347001\n",
            "Epoch: 34, Loss: 0.246069\n",
            "Epoch: 35, Loss: 0.357171\n",
            "Epoch: 36, Loss: 0.242106\n",
            "Epoch: 37, Loss: 0.338278\n",
            "Epoch: 38, Loss: 0.455321\n",
            "Epoch: 39, Loss: 0.510586\n",
            "Epoch: 40, Loss: 0.165244\n",
            "Epoch: 41, Loss: 0.390064\n",
            "Epoch: 42, Loss: 0.115161\n",
            "Epoch: 43, Loss: 0.425013\n",
            "Epoch: 44, Loss: 0.058406\n",
            "Epoch: 45, Loss: 0.104640\n",
            "Epoch: 46, Loss: 0.174025\n",
            "Epoch: 47, Loss: 0.036274\n",
            "Epoch: 48, Loss: 0.109832\n",
            "Epoch: 49, Loss: 0.050895\n",
            "Epoch: 50, Loss: 0.059085\n",
            "Epoch: 51, Loss: 0.030182\n",
            "Epoch: 52, Loss: 0.026685\n",
            "Epoch: 53, Loss: 0.123943\n",
            "Epoch: 54, Loss: 0.023817\n",
            "Epoch: 55, Loss: 0.017364\n",
            "Epoch: 56, Loss: 0.027492\n",
            "Epoch: 57, Loss: 0.020880\n",
            "Epoch: 58, Loss: 0.186850\n",
            "Epoch: 59, Loss: 0.097915\n",
            "Epoch: 60, Loss: 0.009709\n",
            "Epoch: 61, Loss: 0.011454\n",
            "Epoch: 62, Loss: 0.075583\n",
            "Epoch: 63, Loss: 0.059614\n",
            "Epoch: 64, Loss: 0.004115\n",
            "Epoch: 65, Loss: 0.002478\n",
            "Epoch: 66, Loss: 0.007068\n",
            "Epoch: 67, Loss: 0.012778\n",
            "Epoch: 68, Loss: 0.003747\n",
            "Epoch: 69, Loss: 0.012247\n",
            "Epoch: 70, Loss: 0.009160\n",
            "Epoch: 71, Loss: 0.002559\n",
            "Epoch: 72, Loss: 0.001576\n",
            "Epoch: 73, Loss: 0.001597\n",
            "Epoch: 74, Loss: 0.007354\n",
            "Epoch: 75, Loss: 0.002003\n",
            "Epoch: 76, Loss: 0.004938\n",
            "Epoch: 77, Loss: 0.001464\n",
            "Epoch: 78, Loss: 0.002243\n",
            "Epoch: 79, Loss: 0.001771\n",
            "Epoch: 80, Loss: 0.002041\n",
            "Epoch: 81, Loss: 0.001102\n",
            "Epoch: 82, Loss: 0.003953\n",
            "Epoch: 83, Loss: 0.001947\n",
            "Epoch: 84, Loss: 0.001334\n",
            "Epoch: 85, Loss: 0.003244\n",
            "Epoch: 86, Loss: 0.001703\n",
            "Epoch: 87, Loss: 0.001370\n",
            "Epoch: 88, Loss: 0.001367\n",
            "Epoch: 89, Loss: 0.000904\n",
            "Epoch: 90, Loss: 0.000856\n",
            "Epoch: 91, Loss: 0.001857\n",
            "Epoch: 92, Loss: 0.000733\n",
            "Epoch: 93, Loss: 0.000765\n",
            "Epoch: 94, Loss: 0.001247\n",
            "Epoch: 95, Loss: 0.000886\n",
            "Epoch: 96, Loss: 0.001063\n",
            "Epoch: 97, Loss: 0.000693\n",
            "Epoch: 98, Loss: 0.000540\n",
            "Epoch: 99, Loss: 0.001090\n",
            "Epoch: 100, Loss: 0.001133\n",
            "Epoch: 101, Loss: 0.000308\n",
            "Epoch: 102, Loss: 0.000841\n",
            "Epoch: 103, Loss: 0.001239\n",
            "Epoch: 104, Loss: 0.001064\n",
            "Epoch: 105, Loss: 0.001536\n",
            "Epoch: 106, Loss: 0.001660\n",
            "Epoch: 107, Loss: 0.000762\n",
            "Epoch: 108, Loss: 0.001357\n",
            "Epoch: 109, Loss: 0.000867\n",
            "Epoch: 110, Loss: 0.000967\n",
            "Epoch: 111, Loss: 0.000543\n",
            "Epoch: 112, Loss: 0.001053\n",
            "Epoch: 113, Loss: 0.001143\n",
            "Epoch: 114, Loss: 0.001252\n",
            "Epoch: 115, Loss: 0.000687\n",
            "Epoch: 116, Loss: 0.000828\n",
            "Epoch: 117, Loss: 0.000714\n",
            "Epoch: 118, Loss: 0.001333\n",
            "Epoch: 119, Loss: 0.001891\n",
            "Epoch: 120, Loss: 0.000546\n",
            "Epoch: 121, Loss: 0.000859\n",
            "Epoch: 122, Loss: 0.000887\n",
            "Epoch: 123, Loss: 0.000947\n",
            "Epoch: 124, Loss: 0.002581\n",
            "Epoch: 125, Loss: 0.000664\n",
            "Epoch: 126, Loss: 0.000405\n",
            "Epoch: 127, Loss: 0.000719\n",
            "Epoch: 128, Loss: 0.000812\n",
            "Epoch: 129, Loss: 0.000729\n",
            "Epoch: 130, Loss: 0.000708\n",
            "Epoch: 131, Loss: 0.000619\n",
            "Epoch: 132, Loss: 0.000719\n",
            "Epoch: 133, Loss: 0.000711\n",
            "Epoch: 134, Loss: 0.000653\n",
            "Epoch: 135, Loss: 0.000852\n",
            "Epoch: 136, Loss: 0.000825\n",
            "Epoch: 137, Loss: 0.000525\n",
            "Epoch: 138, Loss: 0.000790\n",
            "Epoch: 139, Loss: 0.001215\n",
            "Epoch: 140, Loss: 0.001812\n",
            "Epoch: 141, Loss: 0.000666\n",
            "Epoch: 142, Loss: 0.000703\n",
            "Epoch: 143, Loss: 0.000725\n",
            "Epoch: 144, Loss: 0.001038\n",
            "Epoch: 145, Loss: 0.000868\n",
            "Epoch: 146, Loss: 0.000470\n",
            "Epoch: 147, Loss: 0.000563\n",
            "Epoch: 148, Loss: 0.000520\n",
            "Epoch: 149, Loss: 0.000879\n",
            "Epoch: 150, Loss: 0.000565\n",
            "Epoch: 151, Loss: 0.000766\n",
            "Epoch: 152, Loss: 0.000727\n",
            "Epoch: 153, Loss: 0.000664\n",
            "Epoch: 154, Loss: 0.000687\n",
            "Epoch: 155, Loss: 0.000372\n",
            "Epoch: 156, Loss: 0.000591\n",
            "Epoch: 157, Loss: 0.000533\n",
            "Epoch: 158, Loss: 0.000703\n",
            "Epoch: 159, Loss: 0.001085\n",
            "Epoch: 160, Loss: 0.000391\n",
            "Epoch: 161, Loss: 0.000740\n",
            "Epoch: 162, Loss: 0.000458\n",
            "Epoch: 163, Loss: 0.000783\n",
            "Epoch: 164, Loss: 0.000650\n",
            "Epoch: 165, Loss: 0.001567\n",
            "Epoch: 166, Loss: 0.000786\n",
            "Epoch: 167, Loss: 0.000627\n",
            "Epoch: 168, Loss: 0.000800\n",
            "Epoch: 169, Loss: 0.000756\n",
            "Epoch: 170, Loss: 0.000477\n",
            "Epoch: 171, Loss: 0.000841\n",
            "Epoch: 172, Loss: 0.000504\n",
            "Epoch: 173, Loss: 0.000424\n",
            "Epoch: 174, Loss: 0.000608\n",
            "Epoch: 175, Loss: 0.000536\n",
            "Epoch: 176, Loss: 0.000599\n",
            "Epoch: 177, Loss: 0.000824\n",
            "Epoch: 178, Loss: 0.000303\n",
            "Epoch: 179, Loss: 0.000713\n",
            "Epoch: 180, Loss: 0.000798\n",
            "Epoch: 181, Loss: 0.000795\n",
            "Epoch: 182, Loss: 0.000498\n",
            "Epoch: 183, Loss: 0.000810\n",
            "Epoch: 184, Loss: 0.000232\n",
            "Epoch: 185, Loss: 0.000633\n",
            "Epoch: 186, Loss: 0.000989\n",
            "Epoch: 187, Loss: 0.000599\n",
            "Epoch: 188, Loss: 0.000421\n",
            "Epoch: 189, Loss: 0.000451\n",
            "Epoch: 190, Loss: 0.000751\n",
            "Epoch: 191, Loss: 0.000688\n",
            "Epoch: 192, Loss: 0.000403\n",
            "Epoch: 193, Loss: 0.000494\n",
            "Epoch: 194, Loss: 0.000481\n",
            "Epoch: 195, Loss: 0.000793\n",
            "Epoch: 196, Loss: 0.000424\n",
            "Epoch: 197, Loss: 0.000430\n",
            "Epoch: 198, Loss: 0.000316\n",
            "Epoch: 199, Loss: 0.000264\n",
            "Epoch: 200, Loss: 0.000398\n",
            "Epoch: 201, Loss: 0.000791\n",
            "Epoch: 202, Loss: 0.000171\n",
            "Epoch: 203, Loss: 0.000350\n",
            "Epoch: 204, Loss: 0.000720\n",
            "Epoch: 205, Loss: 0.000627\n",
            "Epoch: 206, Loss: 0.000211\n",
            "Epoch: 207, Loss: 0.000315\n",
            "Epoch: 208, Loss: 0.000281\n",
            "Epoch: 209, Loss: 0.000252\n",
            "Epoch: 210, Loss: 0.000488\n",
            "Epoch: 211, Loss: 0.000373\n",
            "Epoch: 212, Loss: 0.000454\n",
            "Epoch: 213, Loss: 0.000264\n",
            "Epoch: 214, Loss: 0.000218\n",
            "Epoch: 215, Loss: 0.000450\n",
            "Epoch: 216, Loss: 0.000299\n",
            "Epoch: 217, Loss: 0.000885\n",
            "Epoch: 218, Loss: 0.000566\n",
            "Epoch: 219, Loss: 0.000464\n",
            "Epoch: 220, Loss: 0.000630\n",
            "Epoch: 221, Loss: 0.000466\n",
            "Epoch: 222, Loss: 0.000644\n",
            "Epoch: 223, Loss: 0.000542\n",
            "Epoch: 224, Loss: 0.000443\n",
            "Epoch: 225, Loss: 0.000289\n",
            "Epoch: 226, Loss: 0.000742\n",
            "Epoch: 227, Loss: 0.000370\n",
            "Epoch: 228, Loss: 0.000562\n",
            "Epoch: 229, Loss: 0.000228\n",
            "Epoch: 230, Loss: 0.000637\n",
            "Epoch: 231, Loss: 0.000237\n",
            "Epoch: 232, Loss: 0.000254\n",
            "Epoch: 233, Loss: 0.000398\n",
            "Epoch: 234, Loss: 0.000363\n",
            "Epoch: 235, Loss: 0.000427\n",
            "Epoch: 236, Loss: 0.000477\n",
            "Epoch: 237, Loss: 0.000242\n",
            "Epoch: 238, Loss: 0.000472\n",
            "Epoch: 239, Loss: 0.000340\n",
            "Epoch: 240, Loss: 0.000586\n",
            "Epoch: 241, Loss: 0.000249\n",
            "Epoch: 242, Loss: 0.000574\n",
            "Epoch: 243, Loss: 0.000204\n",
            "Epoch: 244, Loss: 0.000577\n",
            "Epoch: 245, Loss: 0.000266\n",
            "Epoch: 246, Loss: 0.000618\n",
            "Epoch: 247, Loss: 0.000409\n",
            "Epoch: 248, Loss: 0.000328\n",
            "Epoch: 249, Loss: 0.000299\n",
            "Epoch: 250, Loss: 0.000465\n",
            "Epoch: 251, Loss: 0.000163\n",
            "Epoch: 252, Loss: 0.000523\n",
            "Epoch: 253, Loss: 0.000358\n",
            "Epoch: 254, Loss: 0.000507\n",
            "Epoch: 255, Loss: 0.000513\n",
            "Epoch: 256, Loss: 0.000597\n",
            "Epoch: 257, Loss: 0.000582\n",
            "Epoch: 258, Loss: 0.000539\n",
            "Epoch: 259, Loss: 0.000650\n",
            "Epoch: 260, Loss: 0.000233\n",
            "Epoch: 261, Loss: 0.000160\n",
            "Epoch: 262, Loss: 0.000245\n",
            "Epoch: 263, Loss: 0.000439\n",
            "Epoch: 264, Loss: 0.000173\n",
            "Epoch: 265, Loss: 0.000238\n",
            "Epoch: 266, Loss: 0.000220\n",
            "Epoch: 267, Loss: 0.000237\n",
            "Epoch: 268, Loss: 0.000417\n",
            "Epoch: 269, Loss: 0.000390\n",
            "Epoch: 270, Loss: 0.000408\n",
            "Epoch: 271, Loss: 0.000286\n",
            "Epoch: 272, Loss: 0.000431\n",
            "Epoch: 273, Loss: 0.000358\n",
            "Epoch: 274, Loss: 0.000418\n",
            "Epoch: 275, Loss: 0.000234\n",
            "Epoch: 276, Loss: 0.000248\n",
            "Epoch: 277, Loss: 0.000179\n",
            "Epoch: 278, Loss: 0.000213\n",
            "Epoch: 279, Loss: 0.000297\n",
            "Epoch: 280, Loss: 0.000194\n",
            "Epoch: 281, Loss: 0.000239\n",
            "Epoch: 282, Loss: 0.000339\n",
            "Epoch: 283, Loss: 0.000257\n",
            "Epoch: 284, Loss: 0.000338\n",
            "Epoch: 285, Loss: 0.000097\n",
            "Epoch: 286, Loss: 0.000470\n",
            "Epoch: 287, Loss: 0.000092\n",
            "Epoch: 288, Loss: 0.000277\n",
            "Epoch: 289, Loss: 0.000202\n",
            "Epoch: 290, Loss: 0.000287\n",
            "Epoch: 291, Loss: 0.000268\n",
            "Epoch: 292, Loss: 0.000375\n",
            "Epoch: 293, Loss: 0.000450\n",
            "Epoch: 294, Loss: 0.000264\n",
            "Epoch: 295, Loss: 0.000118\n",
            "Epoch: 296, Loss: 0.000243\n",
            "Epoch: 297, Loss: 0.000241\n",
            "Epoch: 298, Loss: 0.000279\n",
            "Epoch: 299, Loss: 0.000243\n"
          ]
        }
      ],
      "source": [
        "learning_rate = 1e-2\n",
        "optimizer = optim.SGD(model.parameters(), lr=learning_rate)\n",
        "train_loader = torch.utils.data.DataLoader(transformed_cifar10, batch_size = 64, shuffle=True)\n",
        "\n",
        "loss_fn = nn.NLLLoss()\n",
        "n_epochs = 300\n",
        "losses = []\n",
        "start = datetime.datetime.now()\n",
        "for epoch in range(n_epochs):\n",
        "  for imgs, labels in train_loader:\n",
        "    batch_size = imgs.shape[0]\n",
        "    outputs = model(imgs.view(batch_size, -1))\n",
        "    loss = loss_fn(outputs, labels)\n",
        "\n",
        "    optimizer.zero_grad()\n",
        "    loss.backward()\n",
        "    optimizer.step()\n",
        "\n",
        "  print(\"Epoch: %d, Loss: %f\" % (epoch, float(loss)))\n",
        "  losses.append(loss.item())\n",
        "\n",
        "end = datetime.datetime.now()"
      ]
    },
    {
      "cell_type": "code",
      "execution_count": 17,
      "metadata": {
        "id": "kskDpbEC6SBf",
        "colab": {
          "base_uri": "https://localhost:8080/"
        },
        "outputId": "64e880c7-bdc5-418a-a557-955397b59ca6"
      },
      "outputs": [
        {
          "output_type": "stream",
          "name": "stdout",
          "text": [
            "2:12:14.854910\n"
          ]
        }
      ],
      "source": [
        "time = end-start\n",
        "print(str(time))"
      ]
    },
    {
      "cell_type": "code",
      "execution_count": 15,
      "metadata": {
        "id": "sGCX2evd4Lr6",
        "colab": {
          "base_uri": "https://localhost:8080/"
        },
        "outputId": "e27f9b21-51ca-413a-de47-1f9fd708256e"
      },
      "outputs": [
        {
          "output_type": "stream",
          "name": "stdout",
          "text": [
            "Accuracy: %f 0.4558\n"
          ]
        }
      ],
      "source": [
        "val_loader = torch.utils.data.DataLoader(transformed_cifar10_val, batch_size=64,\n",
        "  shuffle=False)\n",
        "correct = 0\n",
        "total = 0\n",
        "val_losses = []\n",
        "with torch.no_grad():\n",
        "    for imgs, labels in val_loader:\n",
        "        batch_size = imgs.shape[0]\n",
        "        outputs = model(imgs.view(batch_size, -1))\n",
        "        loss = loss_fn(outputs, labels)\n",
        "        val_losses.append(loss.item())\n",
        "        _, predicted = torch.max(outputs, dim=1)\n",
        "        total += labels.shape[0]\n",
        "        correct += int((predicted == labels).sum())\n",
        "print(\"Accuracy: %f\", correct / total)\n"
      ]
    },
    {
      "cell_type": "code",
      "execution_count": 16,
      "metadata": {
        "id": "JVd2XR3LKx9w",
        "colab": {
          "base_uri": "https://localhost:8080/",
          "height": 472
        },
        "outputId": "f9254a0d-ee4a-4296-a20e-0d9aaf5f750c"
      },
      "outputs": [
        {
          "output_type": "display_data",
          "data": {
            "text/plain": [
              "<Figure size 640x480 with 1 Axes>"
            ],
            "image/png": "[encoded data removed]"
          },
          "metadata": {}
        }
      ],
      "source": [
        "# 4. Plot the training and validation loss after each iteration\n",
        "plt.plot(losses, label=\"training loss\")\n",
        "plt.plot(val_losses, label=\"Validation Loss\")\n",
        "plt.xlabel(\"n number of epochs\")\n",
        "plt.ylabel(\"loss\")\n",
        "plt.legend()\n",
        "plt.title(\"Loss over epochs\")\n",
        "plt.show()"
      ]
    }
  ],
  "metadata": {
    "colab": {
      "provenance": [],
      "authorship_tag": "ABX9TyOUFrcRfYAqC+N4H4h1mkG4",
      "include_colab_link": true
    },
    "kernelspec": {
      "display_name": "Python 3",
      "name": "python3"
    },
    "language_info": {
      "name": "python"
    }
  },
  "nbformat": 4,
  "nbformat_minor": 0
}